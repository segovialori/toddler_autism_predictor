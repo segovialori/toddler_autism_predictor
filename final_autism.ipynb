{
 "cells": [
  {
   "cell_type": "markdown",
   "metadata": {},
   "source": [
    "![Title](https://mycanopy.org/wp-content/uploads/2020/01/Autism-Puzzle-Banner.jpg)"
   ]
  },
  {
   "cell_type": "markdown",
   "metadata": {},
   "source": [
    "# <h1><center>Predicting Autistic Traits in Toddlers</center></h1>"
   ]
  },
  {
   "cell_type": "markdown",
   "metadata": {},
   "source": [
    "<hr>"
   ]
  },
  {
   "cell_type": "markdown",
   "metadata": {},
   "source": [
    "## Executive Summary\n",
    "* The goal of this project was to produce a model that can accurately predict autistic traits in toddlers based on responses provided in ASDTest app\n",
    "* Significant relationship detected between males with jaundice and asd traits\n",
    "* Baseline accuracy: 72.4% (the score we want to beat with our model)\n",
    "* Accuracy of tested MVP KNN model increased accuracy by ~17%\n",
    "* Accurary of tested 2nd KNN interation with feature engineering increased accuracy by ~22%"
   ]
  },
  {
   "cell_type": "markdown",
   "metadata": {},
   "source": [
    "## Goals\n",
    "* Predict toddlers that display autistic traits\n"
   ]
  },
  {
   "cell_type": "markdown",
   "metadata": {},
   "source": [
    "## Hypotheses\n",
    "1. Having a family member with autism does not effect autistic traits\n",
    "2. Having a jaundice as a baby does not effect autistic traits"
   ]
  },
  {
   "cell_type": "markdown",
   "metadata": {},
   "source": [
    "## Plan\n",
    "* acquire the data from kaggle\n",
    "* clean/prep the data\n",
    "* explore features of data\n",
    "* model data\n",
    "* evaluate data"
   ]
  },
  {
   "cell_type": "markdown",
   "metadata": {},
   "source": [
    "## Imports"
   ]
  },
  {
   "cell_type": "code",
   "execution_count": 1,
   "metadata": {},
   "outputs": [],
   "source": [
    "#import modules\n",
    "import wrangle as w\n",
    "import explore\n",
    "import model\n",
    "\n",
    "# import python libraries\n",
    "import pandas as pd\n",
    "import numpy as np\n",
    "import matplotlib.pyplot as plt\n",
    "import seaborn as sns\n",
    "from scipy import stats\n",
    "\n",
    "#imports for model object and metric functions\n",
    "from sklearn.model_selection import train_test_split\n",
    "from sklearn.linear_model import LogisticRegression\n",
    "from sklearn.tree import DecisionTreeClassifier\n",
    "from sklearn.ensemble import RandomForestClassifier\n",
    "from sklearn.neighbors import KNeighborsClassifier\n",
    "from sklearn.metrics import classification_report\n",
    "from sklearn.metrics import confusion_matrix\n",
    "from sklearn.preprocessing import StandardScaler\n",
    "from sklearn.feature_selection import SelectKBest, f_regression\n",
    "from sklearn.feature_selection import RFE\n",
    "\n",
    "# ignore warnings\n",
    "import warnings\n",
    "warnings.filterwarnings(\"ignore\")\n",
    "\n",
    "#visulization settings\n",
    "import graphviz\n",
    "from sklearn.tree import export_graphviz\n",
    "import matplotlib.style as style \n",
    "style.available\n",
    "style.use('seaborn-notebook') #sets the size of the charts\n",
    "style.use('seaborn-colorblind') #sets color of charts"
   ]
  },
  {
   "cell_type": "markdown",
   "metadata": {},
   "source": [
    "## Acquire"
   ]
  },
  {
   "cell_type": "markdown",
   "metadata": {},
   "source": [
    "<div class=\"alert alert-block alert-success\">\n",
    "<b>Acquire Summary :</b> \n",
    "<br>- This dataset was developed by Dr Fadi Fayez Thabtah using a mobile app called ASDTests (ASDtests.com) to screen for autism traits in toddlers and acquired in csv format from kaggle.com.  \n",
    "<br>- This data set has 1054 rows and 19 columns</div> "
   ]
  },
  {
   "cell_type": "code",
   "execution_count": 2,
   "metadata": {},
   "outputs": [],
   "source": [
    "df = w.wrangle_autism()"
   ]
  },
  {
   "cell_type": "code",
   "execution_count": 3,
   "metadata": {},
   "outputs": [
    {
     "data": {
      "text/html": [
       "<div>\n",
       "<style scoped>\n",
       "    .dataframe tbody tr th:only-of-type {\n",
       "        vertical-align: middle;\n",
       "    }\n",
       "\n",
       "    .dataframe tbody tr th {\n",
       "        vertical-align: top;\n",
       "    }\n",
       "\n",
       "    .dataframe thead th {\n",
       "        text-align: right;\n",
       "    }\n",
       "</style>\n",
       "<table border=\"1\" class=\"dataframe\">\n",
       "  <thead>\n",
       "    <tr style=\"text-align: right;\">\n",
       "      <th></th>\n",
       "      <th>name_response</th>\n",
       "      <th>eye_contact</th>\n",
       "      <th>pointing</th>\n",
       "      <th>shared_interest</th>\n",
       "      <th>pretend_play</th>\n",
       "      <th>joint_attention</th>\n",
       "      <th>emotions</th>\n",
       "      <th>vocal</th>\n",
       "      <th>gestures</th>\n",
       "      <th>blank_gaze</th>\n",
       "      <th>age</th>\n",
       "      <th>ethnicity</th>\n",
       "      <th>jaundice</th>\n",
       "      <th>family_mem_with_asd</th>\n",
       "      <th>asd_traits</th>\n",
       "      <th>sex_m</th>\n",
       "    </tr>\n",
       "    <tr>\n",
       "      <th>Case_No</th>\n",
       "      <th></th>\n",
       "      <th></th>\n",
       "      <th></th>\n",
       "      <th></th>\n",
       "      <th></th>\n",
       "      <th></th>\n",
       "      <th></th>\n",
       "      <th></th>\n",
       "      <th></th>\n",
       "      <th></th>\n",
       "      <th></th>\n",
       "      <th></th>\n",
       "      <th></th>\n",
       "      <th></th>\n",
       "      <th></th>\n",
       "      <th></th>\n",
       "    </tr>\n",
       "  </thead>\n",
       "  <tbody>\n",
       "    <tr>\n",
       "      <th>1</th>\n",
       "      <td>0</td>\n",
       "      <td>0</td>\n",
       "      <td>0</td>\n",
       "      <td>0</td>\n",
       "      <td>0</td>\n",
       "      <td>0</td>\n",
       "      <td>1</td>\n",
       "      <td>1</td>\n",
       "      <td>0</td>\n",
       "      <td>1</td>\n",
       "      <td>28</td>\n",
       "      <td>3</td>\n",
       "      <td>1</td>\n",
       "      <td>0</td>\n",
       "      <td>0</td>\n",
       "      <td>0</td>\n",
       "    </tr>\n",
       "    <tr>\n",
       "      <th>2</th>\n",
       "      <td>1</td>\n",
       "      <td>1</td>\n",
       "      <td>0</td>\n",
       "      <td>0</td>\n",
       "      <td>0</td>\n",
       "      <td>1</td>\n",
       "      <td>1</td>\n",
       "      <td>0</td>\n",
       "      <td>0</td>\n",
       "      <td>0</td>\n",
       "      <td>36</td>\n",
       "      <td>1</td>\n",
       "      <td>1</td>\n",
       "      <td>0</td>\n",
       "      <td>1</td>\n",
       "      <td>1</td>\n",
       "    </tr>\n",
       "    <tr>\n",
       "      <th>3</th>\n",
       "      <td>1</td>\n",
       "      <td>0</td>\n",
       "      <td>0</td>\n",
       "      <td>0</td>\n",
       "      <td>0</td>\n",
       "      <td>0</td>\n",
       "      <td>1</td>\n",
       "      <td>1</td>\n",
       "      <td>0</td>\n",
       "      <td>1</td>\n",
       "      <td>36</td>\n",
       "      <td>3</td>\n",
       "      <td>1</td>\n",
       "      <td>0</td>\n",
       "      <td>1</td>\n",
       "      <td>1</td>\n",
       "    </tr>\n",
       "    <tr>\n",
       "      <th>4</th>\n",
       "      <td>1</td>\n",
       "      <td>1</td>\n",
       "      <td>1</td>\n",
       "      <td>1</td>\n",
       "      <td>1</td>\n",
       "      <td>1</td>\n",
       "      <td>1</td>\n",
       "      <td>1</td>\n",
       "      <td>1</td>\n",
       "      <td>1</td>\n",
       "      <td>24</td>\n",
       "      <td>5</td>\n",
       "      <td>0</td>\n",
       "      <td>0</td>\n",
       "      <td>1</td>\n",
       "      <td>1</td>\n",
       "    </tr>\n",
       "    <tr>\n",
       "      <th>5</th>\n",
       "      <td>1</td>\n",
       "      <td>1</td>\n",
       "      <td>0</td>\n",
       "      <td>1</td>\n",
       "      <td>1</td>\n",
       "      <td>1</td>\n",
       "      <td>1</td>\n",
       "      <td>1</td>\n",
       "      <td>1</td>\n",
       "      <td>1</td>\n",
       "      <td>20</td>\n",
       "      <td>1</td>\n",
       "      <td>0</td>\n",
       "      <td>1</td>\n",
       "      <td>1</td>\n",
       "      <td>0</td>\n",
       "    </tr>\n",
       "  </tbody>\n",
       "</table>\n",
       "</div>"
      ],
      "text/plain": [
       "         name_response  eye_contact  pointing  shared_interest  pretend_play  \\\n",
       "Case_No                                                                        \n",
       "1                    0            0         0                0             0   \n",
       "2                    1            1         0                0             0   \n",
       "3                    1            0         0                0             0   \n",
       "4                    1            1         1                1             1   \n",
       "5                    1            1         0                1             1   \n",
       "\n",
       "         joint_attention  emotions  vocal  gestures  blank_gaze  age  \\\n",
       "Case_No                                                                \n",
       "1                      0         1      1         0           1   28   \n",
       "2                      1         1      0         0           0   36   \n",
       "3                      0         1      1         0           1   36   \n",
       "4                      1         1      1         1           1   24   \n",
       "5                      1         1      1         1           1   20   \n",
       "\n",
       "         ethnicity  jaundice  family_mem_with_asd  asd_traits  sex_m  \n",
       "Case_No                                                               \n",
       "1                3         1                    0           0      0  \n",
       "2                1         1                    0           1      1  \n",
       "3                3         1                    0           1      1  \n",
       "4                5         0                    0           1      1  \n",
       "5                1         0                    1           1      0  "
      ]
     },
     "execution_count": 3,
     "metadata": {},
     "output_type": "execute_result"
    }
   ],
   "source": [
    "df.head()"
   ]
  },
  {
   "cell_type": "code",
   "execution_count": 4,
   "metadata": {},
   "outputs": [
    {
     "name": "stdout",
     "output_type": "stream",
     "text": [
      "<class 'pandas.core.frame.DataFrame'>\n",
      "Int64Index: 1054 entries, 1 to 1054\n",
      "Data columns (total 16 columns):\n",
      " #   Column               Non-Null Count  Dtype\n",
      "---  ------               --------------  -----\n",
      " 0   name_response        1054 non-null   int64\n",
      " 1   eye_contact          1054 non-null   int64\n",
      " 2   pointing             1054 non-null   int64\n",
      " 3   shared_interest      1054 non-null   int64\n",
      " 4   pretend_play         1054 non-null   int64\n",
      " 5   joint_attention      1054 non-null   int64\n",
      " 6   emotions             1054 non-null   int64\n",
      " 7   vocal                1054 non-null   int64\n",
      " 8   gestures             1054 non-null   int64\n",
      " 9   blank_gaze           1054 non-null   int64\n",
      " 10  age                  1054 non-null   int64\n",
      " 11  ethnicity            1054 non-null   int64\n",
      " 12  jaundice             1054 non-null   int64\n",
      " 13  family_mem_with_asd  1054 non-null   int64\n",
      " 14  asd_traits           1054 non-null   int64\n",
      " 15  sex_m                1054 non-null   uint8\n",
      "dtypes: int64(15), uint8(1)\n",
      "memory usage: 132.8 KB\n"
     ]
    }
   ],
   "source": [
    "df.info()"
   ]
  },
  {
   "cell_type": "code",
   "execution_count": 5,
   "metadata": {},
   "outputs": [
    {
     "data": {
      "text/html": [
       "<div>\n",
       "<style scoped>\n",
       "    .dataframe tbody tr th:only-of-type {\n",
       "        vertical-align: middle;\n",
       "    }\n",
       "\n",
       "    .dataframe tbody tr th {\n",
       "        vertical-align: top;\n",
       "    }\n",
       "\n",
       "    .dataframe thead th {\n",
       "        text-align: right;\n",
       "    }\n",
       "</style>\n",
       "<table border=\"1\" class=\"dataframe\">\n",
       "  <thead>\n",
       "    <tr style=\"text-align: right;\">\n",
       "      <th></th>\n",
       "      <th>name_response</th>\n",
       "      <th>eye_contact</th>\n",
       "      <th>pointing</th>\n",
       "      <th>shared_interest</th>\n",
       "      <th>pretend_play</th>\n",
       "      <th>joint_attention</th>\n",
       "      <th>emotions</th>\n",
       "      <th>vocal</th>\n",
       "      <th>gestures</th>\n",
       "      <th>blank_gaze</th>\n",
       "      <th>age</th>\n",
       "      <th>ethnicity</th>\n",
       "      <th>jaundice</th>\n",
       "      <th>family_mem_with_asd</th>\n",
       "      <th>asd_traits</th>\n",
       "      <th>sex_m</th>\n",
       "    </tr>\n",
       "  </thead>\n",
       "  <tbody>\n",
       "    <tr>\n",
       "      <th>count</th>\n",
       "      <td>1054.000000</td>\n",
       "      <td>1054.000000</td>\n",
       "      <td>1054.000000</td>\n",
       "      <td>1054.000000</td>\n",
       "      <td>1054.000000</td>\n",
       "      <td>1054.000000</td>\n",
       "      <td>1054.000000</td>\n",
       "      <td>1054.000000</td>\n",
       "      <td>1054.000000</td>\n",
       "      <td>1054.000000</td>\n",
       "      <td>1054.000000</td>\n",
       "      <td>1054.000000</td>\n",
       "      <td>1054.000000</td>\n",
       "      <td>1054.000000</td>\n",
       "      <td>1054.000000</td>\n",
       "      <td>1054.000000</td>\n",
       "    </tr>\n",
       "    <tr>\n",
       "      <th>mean</th>\n",
       "      <td>0.563567</td>\n",
       "      <td>0.448767</td>\n",
       "      <td>0.401328</td>\n",
       "      <td>0.512334</td>\n",
       "      <td>0.524668</td>\n",
       "      <td>0.576850</td>\n",
       "      <td>0.649905</td>\n",
       "      <td>0.459203</td>\n",
       "      <td>0.489564</td>\n",
       "      <td>0.586338</td>\n",
       "      <td>27.867173</td>\n",
       "      <td>2.354839</td>\n",
       "      <td>0.273245</td>\n",
       "      <td>0.161290</td>\n",
       "      <td>0.690702</td>\n",
       "      <td>0.697343</td>\n",
       "    </tr>\n",
       "    <tr>\n",
       "      <th>std</th>\n",
       "      <td>0.496178</td>\n",
       "      <td>0.497604</td>\n",
       "      <td>0.490400</td>\n",
       "      <td>0.500085</td>\n",
       "      <td>0.499628</td>\n",
       "      <td>0.494293</td>\n",
       "      <td>0.477226</td>\n",
       "      <td>0.498569</td>\n",
       "      <td>0.500128</td>\n",
       "      <td>0.492723</td>\n",
       "      <td>7.980354</td>\n",
       "      <td>1.398442</td>\n",
       "      <td>0.445837</td>\n",
       "      <td>0.367973</td>\n",
       "      <td>0.462424</td>\n",
       "      <td>0.459626</td>\n",
       "    </tr>\n",
       "    <tr>\n",
       "      <th>min</th>\n",
       "      <td>0.000000</td>\n",
       "      <td>0.000000</td>\n",
       "      <td>0.000000</td>\n",
       "      <td>0.000000</td>\n",
       "      <td>0.000000</td>\n",
       "      <td>0.000000</td>\n",
       "      <td>0.000000</td>\n",
       "      <td>0.000000</td>\n",
       "      <td>0.000000</td>\n",
       "      <td>0.000000</td>\n",
       "      <td>12.000000</td>\n",
       "      <td>1.000000</td>\n",
       "      <td>0.000000</td>\n",
       "      <td>0.000000</td>\n",
       "      <td>0.000000</td>\n",
       "      <td>0.000000</td>\n",
       "    </tr>\n",
       "    <tr>\n",
       "      <th>25%</th>\n",
       "      <td>0.000000</td>\n",
       "      <td>0.000000</td>\n",
       "      <td>0.000000</td>\n",
       "      <td>0.000000</td>\n",
       "      <td>0.000000</td>\n",
       "      <td>0.000000</td>\n",
       "      <td>0.000000</td>\n",
       "      <td>0.000000</td>\n",
       "      <td>0.000000</td>\n",
       "      <td>0.000000</td>\n",
       "      <td>23.000000</td>\n",
       "      <td>1.000000</td>\n",
       "      <td>0.000000</td>\n",
       "      <td>0.000000</td>\n",
       "      <td>0.000000</td>\n",
       "      <td>0.000000</td>\n",
       "    </tr>\n",
       "    <tr>\n",
       "      <th>50%</th>\n",
       "      <td>1.000000</td>\n",
       "      <td>0.000000</td>\n",
       "      <td>0.000000</td>\n",
       "      <td>1.000000</td>\n",
       "      <td>1.000000</td>\n",
       "      <td>1.000000</td>\n",
       "      <td>1.000000</td>\n",
       "      <td>0.000000</td>\n",
       "      <td>0.000000</td>\n",
       "      <td>1.000000</td>\n",
       "      <td>30.000000</td>\n",
       "      <td>2.000000</td>\n",
       "      <td>0.000000</td>\n",
       "      <td>0.000000</td>\n",
       "      <td>1.000000</td>\n",
       "      <td>1.000000</td>\n",
       "    </tr>\n",
       "    <tr>\n",
       "      <th>75%</th>\n",
       "      <td>1.000000</td>\n",
       "      <td>1.000000</td>\n",
       "      <td>1.000000</td>\n",
       "      <td>1.000000</td>\n",
       "      <td>1.000000</td>\n",
       "      <td>1.000000</td>\n",
       "      <td>1.000000</td>\n",
       "      <td>1.000000</td>\n",
       "      <td>1.000000</td>\n",
       "      <td>1.000000</td>\n",
       "      <td>36.000000</td>\n",
       "      <td>3.000000</td>\n",
       "      <td>1.000000</td>\n",
       "      <td>0.000000</td>\n",
       "      <td>1.000000</td>\n",
       "      <td>1.000000</td>\n",
       "    </tr>\n",
       "    <tr>\n",
       "      <th>max</th>\n",
       "      <td>1.000000</td>\n",
       "      <td>1.000000</td>\n",
       "      <td>1.000000</td>\n",
       "      <td>1.000000</td>\n",
       "      <td>1.000000</td>\n",
       "      <td>1.000000</td>\n",
       "      <td>1.000000</td>\n",
       "      <td>1.000000</td>\n",
       "      <td>1.000000</td>\n",
       "      <td>1.000000</td>\n",
       "      <td>36.000000</td>\n",
       "      <td>6.000000</td>\n",
       "      <td>1.000000</td>\n",
       "      <td>1.000000</td>\n",
       "      <td>1.000000</td>\n",
       "      <td>1.000000</td>\n",
       "    </tr>\n",
       "  </tbody>\n",
       "</table>\n",
       "</div>"
      ],
      "text/plain": [
       "       name_response  eye_contact     pointing  shared_interest  pretend_play  \\\n",
       "count    1054.000000  1054.000000  1054.000000      1054.000000   1054.000000   \n",
       "mean        0.563567     0.448767     0.401328         0.512334      0.524668   \n",
       "std         0.496178     0.497604     0.490400         0.500085      0.499628   \n",
       "min         0.000000     0.000000     0.000000         0.000000      0.000000   \n",
       "25%         0.000000     0.000000     0.000000         0.000000      0.000000   \n",
       "50%         1.000000     0.000000     0.000000         1.000000      1.000000   \n",
       "75%         1.000000     1.000000     1.000000         1.000000      1.000000   \n",
       "max         1.000000     1.000000     1.000000         1.000000      1.000000   \n",
       "\n",
       "       joint_attention     emotions        vocal     gestures   blank_gaze  \\\n",
       "count      1054.000000  1054.000000  1054.000000  1054.000000  1054.000000   \n",
       "mean          0.576850     0.649905     0.459203     0.489564     0.586338   \n",
       "std           0.494293     0.477226     0.498569     0.500128     0.492723   \n",
       "min           0.000000     0.000000     0.000000     0.000000     0.000000   \n",
       "25%           0.000000     0.000000     0.000000     0.000000     0.000000   \n",
       "50%           1.000000     1.000000     0.000000     0.000000     1.000000   \n",
       "75%           1.000000     1.000000     1.000000     1.000000     1.000000   \n",
       "max           1.000000     1.000000     1.000000     1.000000     1.000000   \n",
       "\n",
       "               age    ethnicity     jaundice  family_mem_with_asd  \\\n",
       "count  1054.000000  1054.000000  1054.000000          1054.000000   \n",
       "mean     27.867173     2.354839     0.273245             0.161290   \n",
       "std       7.980354     1.398442     0.445837             0.367973   \n",
       "min      12.000000     1.000000     0.000000             0.000000   \n",
       "25%      23.000000     1.000000     0.000000             0.000000   \n",
       "50%      30.000000     2.000000     0.000000             0.000000   \n",
       "75%      36.000000     3.000000     1.000000             0.000000   \n",
       "max      36.000000     6.000000     1.000000             1.000000   \n",
       "\n",
       "        asd_traits        sex_m  \n",
       "count  1054.000000  1054.000000  \n",
       "mean      0.690702     0.697343  \n",
       "std       0.462424     0.459626  \n",
       "min       0.000000     0.000000  \n",
       "25%       0.000000     0.000000  \n",
       "50%       1.000000     1.000000  \n",
       "75%       1.000000     1.000000  \n",
       "max       1.000000     1.000000  "
      ]
     },
     "execution_count": 5,
     "metadata": {},
     "output_type": "execute_result"
    }
   ],
   "source": [
    "df.describe()"
   ]
  },
  {
   "cell_type": "code",
   "execution_count": 6,
   "metadata": {},
   "outputs": [
    {
     "data": {
      "text/plain": [
       "(1054, 16)"
      ]
     },
     "execution_count": 6,
     "metadata": {},
     "output_type": "execute_result"
    }
   ],
   "source": [
    "df.shape"
   ]
  },
  {
   "cell_type": "markdown",
   "metadata": {},
   "source": [
    "## Prepare"
   ]
  },
  {
   "cell_type": "markdown",
   "metadata": {},
   "source": [
    "<div class=\"alert alert-block alert-success\">\n",
    "<b>Prepare Summary :</b> \n",
    "<br>- This dataset was acquired as a csv from kaggle, then turned into a dataframe. \n",
    "<br>- A1-A10 columns were renamed to represent the type of question they contained\n",
    "<br>- Dummies were made from 'sex' column\n",
    "<br>- Columns such as asd_traits, jaundice, and family_mem_with_asd were turned into binary columns\n",
    "<br>- ethinicity was condensed from 11 ethinicities to 6 ethnicities: 1 = white european, 2 = asian, south asian, 3 = middle eastern, 4 = black, 5 = hispanic, latino, 6 = others, mixed, pacifica, and native american\n",
    "<br>- Columns 'Qchat-10-Score', 'Who completed the test', and 'sex' were dropped from the dataframe\n",
    "<br>- 'Case_no' was reset as the index\n",
    "<br>- This dataset did not contain any nulls \n",
    "<br>- Dataset was split into train, validate, and test dataframes    \n",
    "</div> "
   ]
  },
  {
   "cell_type": "markdown",
   "metadata": {},
   "source": [
    "### Split"
   ]
  },
  {
   "cell_type": "code",
   "execution_count": 7,
   "metadata": {},
   "outputs": [],
   "source": [
    "train, validate, test, X_train, y_train, X_validate, y_validate, X_test, y_test = w.train_validate_test_split(df, 'asd_traits', 123)"
   ]
  },
  {
   "cell_type": "code",
   "execution_count": 8,
   "metadata": {},
   "outputs": [
    {
     "name": "stdout",
     "output_type": "stream",
     "text": [
      "(590, 16)\n",
      "(253, 16)\n",
      "(211, 16)\n"
     ]
    }
   ],
   "source": [
    "print(train.shape)\n",
    "print(validate.shape)\n",
    "print(test.shape)"
   ]
  },
  {
   "cell_type": "markdown",
   "metadata": {},
   "source": [
    "## Explore"
   ]
  },
  {
   "cell_type": "markdown",
   "metadata": {},
   "source": [
    "### Univariate"
   ]
  },
  {
   "cell_type": "markdown",
   "metadata": {},
   "source": [
    "<div class=\"alert alert-block alert-success\">\n",
    "<b>Univariate Takeaways :</b> \n",
    "<br>- 56% of toddlers in this dataset respond to name when called\n",
    "<br>- 55% of toddlers in this dataset make eye contact \n",
    "<br>- 60% of toddlers in this dataset point to what they want  \n",
    "<br>- 51% of toddlers in this dataset show shared_interest\n",
    "<br>- 52% of toddlers in this dataset engage in pretend play \n",
    "<br>- 58% of toddlers in this dataset show joint attention\n",
    "<br>- 65% of toddlers in this dataset social emotion recognition\n",
    "<br>- 54% of toddlers in this dataset are not vocal\n",
    "<br>- 51% of toddlers in this dataset can communicate using gestures\n",
    "<br>- 59% of toddlers in this dataset engage in blank gazing\n",
    "<br>- The majority (34%) of toddlers in this data set are middle eastern\n",
    "<br>- 73% of toddlers in this dataset had jaundice as a baby\n",
    "<br>- 84% of toddlers in this dataset do not have a family member with asd\n",
    "<br>- Age is mostly normally distributed, with a spike at the 35 month age    \n",
    "</div> "
   ]
  },
  {
   "cell_type": "code",
   "execution_count": 9,
   "metadata": {},
   "outputs": [
    {
     "data": {
      "image/png": "[encoded data removed]",
      "text/plain": [
       "<Figure size 144x144 with 1 Axes>"
      ]
     },
     "metadata": {
      "needs_background": "light"
     },
     "output_type": "display_data"
    },
    {
     "name": "stdout",
     "output_type": "stream",
     "text": [
      "   name_response  Count  Percent\n",
      "1              0    594    56.36\n",
      "0              1    460    43.64\n",
      "_________________________________________________________________\n"
     ]
    },
    {
     "data": {
      "image/png": "[encoded data removed]",
      "text/plain": [
       "<Figure size 144x144 with 1 Axes>"
      ]
     },
     "metadata": {
      "needs_background": "light"
     },
     "output_type": "display_data"
    },
    {
     "name": "stdout",
     "output_type": "stream",
     "text": [
      "   eye_contact  Count  Percent\n",
      "0            0    581    55.12\n",
      "1            1    473    44.88\n",
      "_________________________________________________________________\n"
     ]
    },
    {
     "data": {
      "image/png": "[encoded data removed]",
      "text/plain": [
       "<Figure size 144x144 with 1 Axes>"
      ]
     },
     "metadata": {
      "needs_background": "light"
     },
     "output_type": "display_data"
    },
    {
     "name": "stdout",
     "output_type": "stream",
     "text": [
      "   pointing  Count  Percent\n",
      "0         0    631    59.87\n",
      "1         1    423    40.13\n",
      "_________________________________________________________________\n"
     ]
    },
    {
     "data": {
      "image/png": "[encoded data removed]",
      "text/plain": [
       "<Figure size 144x144 with 1 Axes>"
      ]
     },
     "metadata": {
      "needs_background": "light"
     },
     "output_type": "display_data"
    },
    {
     "name": "stdout",
     "output_type": "stream",
     "text": [
      "   shared_interest  Count  Percent\n",
      "1                0    540    51.23\n",
      "0                1    514    48.77\n",
      "_________________________________________________________________\n"
     ]
    },
    {
     "data": {
      "image/png": "[encoded data removed]",
      "text/plain": [
       "<Figure size 144x144 with 1 Axes>"
      ]
     },
     "metadata": {
      "needs_background": "light"
     },
     "output_type": "display_data"
    },
    {
     "name": "stdout",
     "output_type": "stream",
     "text": [
      "   pretend_play  Count  Percent\n",
      "1             0    553    52.47\n",
      "0             1    501    47.53\n",
      "_________________________________________________________________\n"
     ]
    },
    {
     "data": {
      "image/png": "[encoded data removed]",
      "text/plain": [
       "<Figure size 144x144 with 1 Axes>"
      ]
     },
     "metadata": {
      "needs_background": "light"
     },
     "output_type": "display_data"
    },
    {
     "name": "stdout",
     "output_type": "stream",
     "text": [
      "   joint_attention  Count  Percent\n",
      "1                0    608    57.69\n",
      "0                1    446    42.31\n",
      "_________________________________________________________________\n"
     ]
    },
    {
     "data": {
      "image/png": "[encoded data removed]",
      "text/plain": [
       "<Figure size 144x144 with 1 Axes>"
      ]
     },
     "metadata": {
      "needs_background": "light"
     },
     "output_type": "display_data"
    },
    {
     "name": "stdout",
     "output_type": "stream",
     "text": [
      "   emotions  Count  Percent\n",
      "1         1    685    64.99\n",
      "0         0    369    35.01\n",
      "_________________________________________________________________\n"
     ]
    },
    {
     "data": {
      "image/png": "[encoded data removed]",
      "text/plain": [
       "<Figure size 144x144 with 1 Axes>"
      ]
     },
     "metadata": {
      "needs_background": "light"
     },
     "output_type": "display_data"
    },
    {
     "name": "stdout",
     "output_type": "stream",
     "text": [
      "   vocal  Count  Percent\n",
      "0      1    570    54.08\n",
      "1      0    484    45.92\n",
      "_________________________________________________________________\n"
     ]
    },
    {
     "data": {
      "image/png": "[encoded data removed]",
      "text/plain": [
       "<Figure size 144x144 with 1 Axes>"
      ]
     },
     "metadata": {
      "needs_background": "light"
     },
     "output_type": "display_data"
    },
    {
     "name": "stdout",
     "output_type": "stream",
     "text": [
      "   gestures  Count  Percent\n",
      "0         0    538    51.04\n",
      "1         1    516    48.96\n",
      "_________________________________________________________________\n"
     ]
    },
    {
     "data": {
      "image/png": "[encoded data removed]",
      "text/plain": [
       "<Figure size 144x144 with 1 Axes>"
      ]
     },
     "metadata": {
      "needs_background": "light"
     },
     "output_type": "display_data"
    },
    {
     "name": "stdout",
     "output_type": "stream",
     "text": [
      "   blank_gaze  Count  Percent\n",
      "1           1    618    58.63\n",
      "0           0    436    41.37\n",
      "_________________________________________________________________\n"
     ]
    },
    {
     "data": {
      "image/png": "[encoded data removed]",
      "text/plain": [
       "<Figure size 144x144 with 1 Axes>"
      ]
     },
     "metadata": {
      "needs_background": "light"
     },
     "output_type": "display_data"
    },
    {
     "name": "stdout",
     "output_type": "stream",
     "text": [
      "   ethnicity  Count  Percent\n",
      "2          3    359    34.06\n",
      "1          1    334    31.69\n",
      "3          5    188    17.84\n",
      "5          4     66     6.26\n",
      "6          2     54     5.12\n",
      "4          6     53     5.03\n",
      "_________________________________________________________________\n"
     ]
    },
    {
     "data": {
      "image/png": "[encoded data removed]",
      "text/plain": [
       "<Figure size 144x144 with 1 Axes>"
      ]
     },
     "metadata": {
      "needs_background": "light"
     },
     "output_type": "display_data"
    },
    {
     "name": "stdout",
     "output_type": "stream",
     "text": [
      "   jaundice  Count  Percent\n",
      "0         1    766    72.68\n",
      "1         0    288    27.32\n",
      "_________________________________________________________________\n"
     ]
    },
    {
     "data": {
      "image/png": "[encoded data removed]",
      "text/plain": [
       "<Figure size 144x144 with 1 Axes>"
      ]
     },
     "metadata": {
      "needs_background": "light"
     },
     "output_type": "display_data"
    },
    {
     "name": "stdout",
     "output_type": "stream",
     "text": [
      "   family_mem_with_asd  Count  Percent\n",
      "0                    0    884    83.87\n",
      "1                    1    170    16.13\n",
      "_________________________________________________________________\n"
     ]
    },
    {
     "data": {
      "image/png": "[encoded data removed]",
      "text/plain": [
       "<Figure size 144x144 with 1 Axes>"
      ]
     },
     "metadata": {
      "needs_background": "light"
     },
     "output_type": "display_data"
    },
    {
     "name": "stdout",
     "output_type": "stream",
     "text": [
      "   asd_traits  Count  Percent\n",
      "1           0    728    69.07\n",
      "0           1    326    30.93\n",
      "_________________________________________________________________\n"
     ]
    },
    {
     "data": {
      "image/png": "[encoded data removed]",
      "text/plain": [
       "<Figure size 144x144 with 1 Axes>"
      ]
     },
     "metadata": {
      "needs_background": "light"
     },
     "output_type": "display_data"
    },
    {
     "name": "stdout",
     "output_type": "stream",
     "text": [
      "   sex_m  Count  Percent\n",
      "1      0    735    69.73\n",
      "0      1    319    30.27\n",
      "_________________________________________________________________\n"
     ]
    },
    {
     "data": {
      "image/png": "[encoded data removed]",
      "text/plain": [
       "<Figure size 576x144 with 2 Axes>"
      ]
     },
     "metadata": {
      "needs_background": "light"
     },
     "output_type": "display_data"
    },
    {
     "name": "stdout",
     "output_type": "stream",
     "text": [
      "count    1054.000000\n",
      "mean       27.867173\n",
      "std         7.980354\n",
      "min        12.000000\n",
      "25%        23.000000\n",
      "50%        30.000000\n",
      "75%        36.000000\n",
      "max        36.000000\n",
      "Name: age, dtype: float64\n"
     ]
    }
   ],
   "source": [
    "explore.explore_univariate(df, explore.cat_vars, explore.quant_vars)"
   ]
  },
  {
   "cell_type": "markdown",
   "metadata": {},
   "source": [
    "### Bivariate"
   ]
  },
  {
   "cell_type": "markdown",
   "metadata": {},
   "source": [
    "<div class=\"alert alert-block alert-success\">\n",
    "<b>Bivariate Takeaways :</b> \n",
    "<br>- Binary target variable = asd_traits    \n",
    "<br>- Age does not seem to be correlated with asd traits\n",
    "<br>- More males display autistic traits than females\n",
    "<br>- Middle eastern toddlers have a lower rate of autistic traits    \n",
    "<br>- More toddlers with autistic traits have higher rates of jaundice</div> "
   ]
  },
  {
   "cell_type": "code",
   "execution_count": 10,
   "metadata": {},
   "outputs": [
    {
     "name": "stdout",
     "output_type": "stream",
     "text": [
      "name_response \n",
      "_____________________\n",
      "\n",
      "         chi2       p-value  degrees of freedom\n",
      "0  142.434654  7.813447e-33                   1\n",
      "\n",
      "observed:\n",
      " asd_traits       0    1  All\n",
      "name_response               \n",
      "0              133  115  248\n",
      "1               30  312  342\n",
      "All            163  427  590\n",
      "\n",
      "expected:\n",
      "            0           1\n",
      "0  68.515254  179.484746\n",
      "1  94.484746  247.515254\n"
     ]
    },
    {
     "data": {
      "image/png": "[encoded data removed]",
      "text/plain": [
       "<Figure size 144x144 with 1 Axes>"
      ]
     },
     "metadata": {
      "needs_background": "light"
     },
     "output_type": "display_data"
    },
    {
     "name": "stdout",
     "output_type": "stream",
     "text": [
      "\n",
      "_____________________\n",
      "\n",
      "eye_contact \n",
      "_____________________\n",
      "\n",
      "         chi2       p-value  degrees of freedom\n",
      "0  105.480515  9.583564e-25                   1\n",
      "\n",
      "observed:\n",
      " asd_traits     0    1  All\n",
      "eye_contact               \n",
      "0            145  177  322\n",
      "1             18  250  268\n",
      "All          163  427  590\n",
      "\n",
      "expected:\n",
      "            0           1\n",
      "0  88.959322  233.040678\n",
      "1  74.040678  193.959322\n"
     ]
    },
    {
     "data": {
      "image/png": "[encoded data removed]",
      "text/plain": [
       "<Figure size 144x144 with 1 Axes>"
      ]
     },
     "metadata": {
      "needs_background": "light"
     },
     "output_type": "display_data"
    },
    {
     "name": "stdout",
     "output_type": "stream",
     "text": [
      "\n",
      "_____________________\n",
      "\n",
      "pointing \n",
      "_____________________\n",
      "\n",
      "         chi2       p-value  degrees of freedom\n",
      "0  101.506912  7.121450e-24                   1\n",
      "\n",
      "observed:\n",
      " asd_traits    0    1  All\n",
      "pointing                 \n",
      "0           149  193  342\n",
      "1            14  234  248\n",
      "All         163  427  590\n",
      "\n",
      "expected:\n",
      "            0           1\n",
      "0  94.484746  247.515254\n",
      "1  68.515254  179.484746\n"
     ]
    },
    {
     "data": {
      "image/png": "[encoded data removed]",
      "text/plain": [
       "<Figure size 144x144 with 1 Axes>"
      ]
     },
     "metadata": {
      "needs_background": "light"
     },
     "output_type": "display_data"
    },
    {
     "name": "stdout",
     "output_type": "stream",
     "text": [
      "\n",
      "_____________________\n",
      "\n",
      "shared_interest \n",
      "_____________________\n",
      "\n",
      "         chi2       p-value  degrees of freedom\n",
      "0  142.579053  7.265572e-33                   1\n",
      "\n",
      "observed:\n",
      " asd_traits         0    1  All\n",
      "shared_interest               \n",
      "0                140  131  271\n",
      "1                 23  296  319\n",
      "All              163  427  590\n",
      "\n",
      "expected:\n",
      "            0           1\n",
      "0  74.869492  196.130508\n",
      "1  88.130508  230.869492\n"
     ]
    },
    {
     "data": {
      "image/png": "[encoded data removed]",
      "text/plain": [
       "<Figure size 144x144 with 1 Axes>"
      ]
     },
     "metadata": {
      "needs_background": "light"
     },
     "output_type": "display_data"
    },
    {
     "name": "stdout",
     "output_type": "stream",
     "text": [
      "\n",
      "_____________________\n",
      "\n",
      "pretend_play \n",
      "_____________________\n",
      "\n",
      "         chi2       p-value  degrees of freedom\n",
      "0  181.535951  2.239070e-41                   1\n",
      "\n",
      "observed:\n",
      " asd_traits      0    1  All\n",
      "pretend_play               \n",
      "0             148  122  270\n",
      "1              15  305  320\n",
      "All           163  427  590\n",
      "\n",
      "expected:\n",
      "           0          1\n",
      "0  74.59322  195.40678\n",
      "1  88.40678  231.59322\n"
     ]
    },
    {
     "data": {
      "image/png": "[encoded data removed]",
      "text/plain": [
       "<Figure size 144x144 with 1 Axes>"
      ]
     },
     "metadata": {
      "needs_background": "light"
     },
     "output_type": "display_data"
    },
    {
     "name": "stdout",
     "output_type": "stream",
     "text": [
      "\n",
      "_____________________\n",
      "\n",
      "joint_attention \n",
      "_____________________\n",
      "\n",
      "         chi2       p-value  degrees of freedom\n",
      "0  189.772483  3.564456e-43                   1\n",
      "\n",
      "observed:\n",
      " asd_traits         0    1  All\n",
      "joint_attention               \n",
      "0                139   97  236\n",
      "1                 24  330  354\n",
      "All              163  427  590\n",
      "\n",
      "expected:\n",
      "       0      1\n",
      "0  65.2  170.8\n",
      "1  97.8  256.2\n"
     ]
    },
    {
     "data": {
      "image/png": "[encoded data removed]",
      "text/plain": [
       "<Figure size 144x144 with 1 Axes>"
      ]
     },
     "metadata": {
      "needs_background": "light"
     },
     "output_type": "display_data"
    },
    {
     "name": "stdout",
     "output_type": "stream",
     "text": [
      "\n",
      "_____________________\n",
      "\n",
      "emotions \n",
      "_____________________\n",
      "\n",
      "        chi2       p-value  degrees of freedom\n",
      "0  160.89785  7.202484e-37                   1\n",
      "\n",
      "observed:\n",
      " asd_traits    0    1  All\n",
      "emotions                 \n",
      "0           117   72  189\n",
      "1            46  355  401\n",
      "All         163  427  590\n",
      "\n",
      "expected:\n",
      "             0           1\n",
      "0   52.215254  136.784746\n",
      "1  110.784746  290.215254\n"
     ]
    },
    {
     "data": {
      "image/png": "[encoded data removed]",
      "text/plain": [
       "<Figure size 144x144 with 1 Axes>"
      ]
     },
     "metadata": {
      "needs_background": "light"
     },
     "output_type": "display_data"
    },
    {
     "name": "stdout",
     "output_type": "stream",
     "text": [
      "\n",
      "_____________________\n",
      "\n",
      "vocal \n",
      "_____________________\n",
      "\n",
      "        chi2       p-value  degrees of freedom\n",
      "0  91.922545  9.013627e-22                   1\n",
      "\n",
      "observed:\n",
      " asd_traits    0    1  All\n",
      "vocal                    \n",
      "0           140  177  317\n",
      "1            23  250  273\n",
      "All         163  427  590\n",
      "\n",
      "expected:\n",
      "            0           1\n",
      "0  87.577966  229.422034\n",
      "1  75.422034  197.577966\n"
     ]
    },
    {
     "data": {
      "image/png": "[encoded data removed]",
      "text/plain": [
       "<Figure size 144x144 with 1 Axes>"
      ]
     },
     "metadata": {
      "needs_background": "light"
     },
     "output_type": "display_data"
    },
    {
     "name": "stdout",
     "output_type": "stream",
     "text": [
      "\n",
      "_____________________\n",
      "\n",
      "gestures \n",
      "_____________________\n",
      "\n",
      "         chi2       p-value  degrees of freedom\n",
      "0  200.165715  1.921627e-45                   1\n",
      "\n",
      "observed:\n",
      " asd_traits    0    1  All\n",
      "gestures                 \n",
      "0           158  134  292\n",
      "1             5  293  298\n",
      "All         163  427  590\n",
      "\n",
      "expected:\n",
      "            0           1\n",
      "0  80.671186  211.328814\n",
      "1  82.328814  215.671186\n"
     ]
    },
    {
     "data": {
      "image/png": "[encoded data removed]",
      "text/plain": [
       "<Figure size 144x144 with 1 Axes>"
      ]
     },
     "metadata": {
      "needs_background": "light"
     },
     "output_type": "display_data"
    },
    {
     "name": "stdout",
     "output_type": "stream",
     "text": [
      "\n",
      "_____________________\n",
      "\n",
      "blank_gaze \n",
      "_____________________\n",
      "\n",
      "        chi2   p-value  degrees of freedom\n",
      "0  19.317897  0.000011                   1\n",
      "\n",
      "observed:\n",
      " asd_traits    0    1  All\n",
      "blank_gaze               \n",
      "0            92  154  246\n",
      "1            71  273  344\n",
      "All         163  427  590\n",
      "\n",
      "expected:\n",
      "            0           1\n",
      "0  67.962712  178.037288\n",
      "1  95.037288  248.962712\n"
     ]
    },
    {
     "data": {
      "image/png": "[encoded data removed]",
      "text/plain": [
       "<Figure size 144x144 with 1 Axes>"
      ]
     },
     "metadata": {
      "needs_background": "light"
     },
     "output_type": "display_data"
    },
    {
     "name": "stdout",
     "output_type": "stream",
     "text": [
      "\n",
      "_____________________\n",
      "\n",
      "ethnicity \n",
      "_____________________\n",
      "\n",
      "        chi2   p-value  degrees of freedom\n",
      "0  32.920763  0.000004                   5\n",
      "\n",
      "observed:\n",
      " asd_traits    0    1  All\n",
      "ethnicity                \n",
      "1            41  149  190\n",
      "2            55  163  218\n",
      "3            51   53  104\n",
      "4             5   20   25\n",
      "5             8   17   25\n",
      "6             3   25   28\n",
      "All         163  427  590\n",
      "\n",
      "expected:\n",
      "            0           1\n",
      "0  52.491525  137.508475\n",
      "1  60.227119  157.772881\n",
      "2  28.732203   75.267797\n",
      "3   6.906780   18.093220\n",
      "4   6.906780   18.093220\n",
      "5   7.735593   20.264407\n"
     ]
    },
    {
     "data": {
      "image/png": "[encoded data removed]",
      "text/plain": [
       "<Figure size 144x144 with 1 Axes>"
      ]
     },
     "metadata": {
      "needs_background": "light"
     },
     "output_type": "display_data"
    },
    {
     "name": "stdout",
     "output_type": "stream",
     "text": [
      "\n",
      "_____________________\n",
      "\n",
      "jaundice \n",
      "_____________________\n",
      "\n",
      "      chi2   p-value  degrees of freedom\n",
      "0  4.86779  0.027363                   1\n",
      "\n",
      "observed:\n",
      " asd_traits    0    1  All\n",
      "jaundice                 \n",
      "0           133  309  442\n",
      "1            30  118  148\n",
      "All         163  427  590\n",
      "\n",
      "expected:\n",
      "             0           1\n",
      "0  122.111864  319.888136\n",
      "1   40.888136  107.111864\n"
     ]
    },
    {
     "data": {
      "image/png": "[encoded data removed]",
      "text/plain": [
       "<Figure size 144x144 with 1 Axes>"
      ]
     },
     "metadata": {
      "needs_background": "light"
     },
     "output_type": "display_data"
    },
    {
     "name": "stdout",
     "output_type": "stream",
     "text": [
      "\n",
      "_____________________\n",
      "\n",
      "family_mem_with_asd \n",
      "_____________________\n",
      "\n",
      "       chi2   p-value  degrees of freedom\n",
      "0  1.945139  0.163112                   1\n",
      "\n",
      "observed:\n",
      " asd_traits             0    1  All\n",
      "family_mem_with_asd               \n",
      "0                    134  372  506\n",
      "1                     29   55   84\n",
      "All                  163  427  590\n",
      "\n",
      "expected:\n",
      "            0          1\n",
      "0  139.79322  366.20678\n",
      "1   23.20678   60.79322\n"
     ]
    },
    {
     "data": {
      "image/png": "[encoded data removed]",
      "text/plain": [
       "<Figure size 144x144 with 1 Axes>"
      ]
     },
     "metadata": {
      "needs_background": "light"
     },
     "output_type": "display_data"
    },
    {
     "name": "stdout",
     "output_type": "stream",
     "text": [
      "\n",
      "_____________________\n",
      "\n",
      "asd_traits \n",
      "_____________________\n",
      "\n",
      "         chi2        p-value  degrees of freedom\n",
      "0  585.009234  3.051254e-129                   1\n",
      "\n",
      "observed:\n",
      " asd_traits    0    1  All\n",
      "asd_traits               \n",
      "0           163    0  163\n",
      "1             0  427  427\n",
      "All         163  427  590\n",
      "\n",
      "expected:\n",
      "             0           1\n",
      "0   45.032203  117.967797\n",
      "1  117.967797  309.032203\n"
     ]
    },
    {
     "data": {
      "image/png": "[encoded data removed]",
      "text/plain": [
       "<Figure size 144x144 with 1 Axes>"
      ]
     },
     "metadata": {
      "needs_background": "light"
     },
     "output_type": "display_data"
    },
    {
     "name": "stdout",
     "output_type": "stream",
     "text": [
      "\n",
      "_____________________\n",
      "\n",
      "sex_m \n",
      "_____________________\n",
      "\n",
      "        chi2   p-value  degrees of freedom\n",
      "0  12.383221  0.000433                   1\n",
      "\n",
      "observed:\n",
      " asd_traits    0    1  All\n",
      "sex_m                    \n",
      "0            66  108  174\n",
      "1            97  319  416\n",
      "All         163  427  590\n",
      "\n",
      "expected:\n",
      "             0           1\n",
      "0   48.071186  125.928814\n",
      "1  114.928814  301.071186\n"
     ]
    },
    {
     "data": {
      "image/png": "[encoded data removed]",
      "text/plain": [
       "<Figure size 144x144 with 1 Axes>"
      ]
     },
     "metadata": {
      "needs_background": "light"
     },
     "output_type": "display_data"
    },
    {
     "name": "stdout",
     "output_type": "stream",
     "text": [
      "\n",
      "_____________________\n",
      "\n",
      "age \n",
      "____________________\n",
      "\n"
     ]
    },
    {
     "data": {
      "image/png": "[encoded data removed]",
      "text/plain": [
       "<Figure size 288x288 with 1 Axes>"
      ]
     },
     "metadata": {
      "needs_background": "light"
     },
     "output_type": "display_data"
    },
    {
     "name": "stdout",
     "output_type": "stream",
     "text": [
      "            count       mean       std   min   25%   50%   75%   max\n",
      "asd_traits                                                          \n",
      "0           163.0  27.319018  9.011451  12.0  19.0  30.0  36.0  36.0\n",
      "1           427.0  28.533958  7.309756  12.0  24.0  30.0  36.0  36.0 \n",
      "\n",
      "\n",
      "Mann-Whitney Test:\n",
      " MannwhitneyuResult(statistic=33604.0, pvalue=0.5115652355934631)\n",
      "\n",
      "____________________\n",
      "\n"
     ]
    }
   ],
   "source": [
    "explore.explore_bivariate(train, 'asd_traits', explore.cat_vars, explore.quant_vars)"
   ]
  },
  {
   "cell_type": "markdown",
   "metadata": {},
   "source": [
    "### Male vs Females with Jaundice"
   ]
  },
  {
   "cell_type": "code",
   "execution_count": 78,
   "metadata": {},
   "outputs": [
    {
     "data": {
      "text/plain": [
       "Text(0.5, 1.0, 'More Males Born with Jaundice')"
      ]
     },
     "execution_count": 78,
     "metadata": {},
     "output_type": "execute_result"
    },
    {
     "data": {
      "image/png": "[encoded data removed]",
      "text/plain": [
       "<Figure size 576x396 with 1 Axes>"
      ]
     },
     "metadata": {
      "needs_background": "light"
     },
     "output_type": "display_data"
    }
   ],
   "source": [
    "sns.countplot(x = 'jaundice', hue = 'sex_m', data = df)\n",
    "plt.title('More Males Born with Jaundice')"
   ]
  },
  {
   "cell_type": "markdown",
   "metadata": {},
   "source": [
    "<div class=\"alert alert-block alert-success\">\n",
    "<b>Jaundice vs Asd Traits :</b> \n",
    "<br>-  Males display higher levels of jaundice than females  \n",
    "<br>-  This was very interesting because I was not expecting this outcome since jaundice is a common condition in newborns. \n",
    "<br>-  After hypothesis tested revealed significance I did some research and found that there is indeed a significant relationship between jaundice and autism: (https://www.ncbi.nlm.nih.gov/pmc/articles/PMC4285414/)\n",
    "</div> "
   ]
  },
  {
   "cell_type": "markdown",
   "metadata": {},
   "source": [
    "### Ethnicity vs Asd Traits"
   ]
  },
  {
   "cell_type": "code",
   "execution_count": 12,
   "metadata": {},
   "outputs": [
    {
     "data": {
      "text/plain": [
       "Text(0.5, 1.0, 'White Europeans and Asians display Highest ASD Traits')"
      ]
     },
     "execution_count": 12,
     "metadata": {},
     "output_type": "execute_result"
    },
    {
     "data": {
      "image/png": "[encoded data removed]",
      "text/plain": [
       "<Figure size 576x396 with 1 Axes>"
      ]
     },
     "metadata": {
      "needs_background": "light"
     },
     "output_type": "display_data"
    }
   ],
   "source": [
    "sns.countplot(x = 'ethnicity', hue = 'asd_traits', data = df)\n",
    "plt.title('White Europeans and Asians display Highest ASD Traits')"
   ]
  },
  {
   "cell_type": "markdown",
   "metadata": {},
   "source": [
    "<div class=\"alert alert-block alert-success\">\n",
    "<b>Ethnicity vs Asd Traits :</b> \n",
    "<br>-  White Europeans and Asians display the highest count of toddlers with asd traits   \n",
    "</div> "
   ]
  },
  {
   "cell_type": "markdown",
   "metadata": {},
   "source": [
    "### Histogram: Age vs Asd Traits"
   ]
  },
  {
   "cell_type": "code",
   "execution_count": 13,
   "metadata": {},
   "outputs": [
    {
     "data": {
      "image/png": "[encoded data removed]",
      "text/plain": [
       "<Figure size 576x396 with 1 Axes>"
      ]
     },
     "metadata": {
      "needs_background": "light"
     },
     "output_type": "display_data"
    }
   ],
   "source": [
    "fig, ax = plt.subplots()\n",
    "\n",
    "ax.hist(df[df[\"asd_traits\"]==1][\"age\"], bins=15, alpha=0.5, color=\"blue\", label=\"asd traits\")\n",
    "ax.hist(df[df[\"asd_traits\"]==0][\"age\"], bins=15, alpha=0.5, color=\"green\", label=\"no asd traits\")\n",
    "\n",
    "ax.set_xlabel(\"age\")\n",
    "ax.set_ylabel(\"Number of toddlers\")\n",
    "\n",
    "fig.suptitle(\"Age vs. Asd Traits/No Asd Traits\")\n",
    "\n",
    "ax.legend();"
   ]
  },
  {
   "cell_type": "markdown",
   "metadata": {},
   "source": [
    "<div class=\"alert alert-block alert-success\">\n",
    "<b>Age vs Asd Traits :</b> \n",
    "<br>-  Over 300 toddlers in the dataset show asd traits around 35 months\n",
    "<br>-  35 months is approximately 3 years and plenty of time has passed to determine if milestones are being met/progress is being made    \n",
    "</div> "
   ]
  },
  {
   "cell_type": "markdown",
   "metadata": {},
   "source": [
    "### PDF: Age vs Asd Traits"
   ]
  },
  {
   "cell_type": "code",
   "execution_count": 14,
   "metadata": {},
   "outputs": [
    {
     "data": {
      "image/png": "[encoded data removed]",
      "text/plain": [
       "<Figure size 576x396 with 1 Axes>"
      ]
     },
     "metadata": {
      "needs_background": "light"
     },
     "output_type": "display_data"
    }
   ],
   "source": [
    "fig, ax = plt.subplots()\n",
    "\n",
    "sns.kdeplot(df[df[\"asd_traits\"]==1][\"age\"],shade=True, color=\"blue\",label=\"asd traits\", ax=ax)\n",
    "sns.kdeplot(df[df[\"asd_traits\"]==0][\"age\"],shade=True, color=\"green\", label=\"no asd traits\", ax=ax)\n",
    "\n",
    "ax.set_xlabel(\"age\")\n",
    "ax.set_ylabel(\"Percentage of distribution\")\n",
    "\n",
    "fig.suptitle(\"Age vs. Asd Traits/No Asd Traits\")\n",
    "\n",
    "ax.legend();"
   ]
  },
  {
   "cell_type": "markdown",
   "metadata": {},
   "source": [
    "<div class=\"alert alert-block alert-success\">\n",
    "<b>Age vs Asd Traits :</b> \n",
    "<br>-  The distribution between toddlers with asd traits and those without asd traits differs at 5-15 months and 20-35 months     \n",
    "</div> "
   ]
  },
  {
   "cell_type": "markdown",
   "metadata": {},
   "source": [
    "### Top 10 Correlations with asd_traits"
   ]
  },
  {
   "cell_type": "code",
   "execution_count": 15,
   "metadata": {},
   "outputs": [
    {
     "data": {
      "text/plain": [
       "asd_traits         1.000000\n",
       "gestures           0.586254\n",
       "joint_attention    0.571009\n",
       "pretend_play       0.558501\n",
       "emotions           0.526276\n",
       "shared_interest    0.495392\n",
       "name_response      0.495179\n",
       "eye_contact        0.426631\n",
       "pointing           0.418623\n",
       "vocal              0.398517\n",
       "Name: asd_traits, dtype: float64"
      ]
     },
     "execution_count": 15,
     "metadata": {},
     "output_type": "execute_result"
    }
   ],
   "source": [
    "#Top 10 Correlations with asd traits\n",
    "train.corr().iloc[14].sort_values(ascending=False)[0:10]"
   ]
  },
  {
   "cell_type": "markdown",
   "metadata": {},
   "source": [
    "## Hypothesis Testing"
   ]
  },
  {
   "cell_type": "code",
   "execution_count": 16,
   "metadata": {},
   "outputs": [],
   "source": [
    "# set alpha and confidence interval before running any tests\n",
    "alpha = .05\n",
    "confidence_level = .95"
   ]
  },
  {
   "cell_type": "markdown",
   "metadata": {},
   "source": [
    "### Hypothesis 1:  \n",
    "* HO:  Having a family member with autism does not effect autistic traits\n",
    "* HA:  Having a family member with autism does effect autistic traits"
   ]
  },
  {
   "cell_type": "code",
   "execution_count": 17,
   "metadata": {},
   "outputs": [
    {
     "name": "stdout",
     "output_type": "stream",
     "text": [
      "Observed\n",
      "\n",
      "[[271 613]\n",
      " [ 55 115]]\n",
      "---\n",
      "Expected\n",
      "\n",
      "[[273.41935484 610.58064516]\n",
      " [ 52.58064516 117.41935484]]\n",
      "---\n",
      "\n",
      "chi^2 = 0.1209\n",
      "p     = 0.7280\n",
      "\n",
      "There is insufficient evidence to reject the null hypothesis\n"
     ]
    }
   ],
   "source": [
    "w.chi2(df, 'family_mem_with_asd', 'asd_traits', alpha)"
   ]
  },
  {
   "cell_type": "markdown",
   "metadata": {},
   "source": [
    "<div class=\"alert alert-block alert-success\">\n",
    "<b>Hypothesis 1 :</b> \n",
    "<br>-  I expected there to be some sort of effect detected between having a family member with autism, but the pvalue was above alpha so we fail to reject the null hypothesis.     \n",
    "</div> "
   ]
  },
  {
   "cell_type": "markdown",
   "metadata": {},
   "source": [
    "### Hypothesis 2:  \n",
    "* HO:  Having a jaundice as a baby does not effect autistic traits\n",
    "* HA:  Having a jaundice as a baby does effect autistic traits"
   ]
  },
  {
   "cell_type": "code",
   "execution_count": 18,
   "metadata": {},
   "outputs": [
    {
     "name": "stdout",
     "output_type": "stream",
     "text": [
      "Observed\n",
      "\n",
      "[[253 513]\n",
      " [ 73 215]]\n",
      "---\n",
      "Expected\n",
      "\n",
      "[[236.92220114 529.07779886]\n",
      " [ 89.07779886 198.92220114]]\n",
      "---\n",
      "\n",
      "chi^2 = 5.4270\n",
      "p     = 0.0198\n",
      "\n",
      "Becasue the p-value: 0.0198 is less than alpha: 0.05, we can reject the null hypothesis\n"
     ]
    }
   ],
   "source": [
    "w.chi2(df, 'jaundice', 'asd_traits', alpha)"
   ]
  },
  {
   "cell_type": "markdown",
   "metadata": {},
   "source": [
    "<div class=\"alert alert-block alert-success\">\n",
    "<b>Hypothesis 2 :</b> \n",
    "<br>-  This was also interesting to see that having jaundice as a baby has an effect on displaying autistic traits as a toddler.    \n",
    "</div> "
   ]
  },
  {
   "cell_type": "markdown",
   "metadata": {},
   "source": [
    "### Scale "
   ]
  },
  {
   "cell_type": "code",
   "execution_count": 19,
   "metadata": {},
   "outputs": [],
   "source": [
    "#scaling before we model\n",
    "scaler, X_train_scaled, X_validate_scaled, X_test_scaled = w.Standard_Scaler(X_train, X_validate, X_test)"
   ]
  },
  {
   "cell_type": "markdown",
   "metadata": {},
   "source": [
    "## MVP"
   ]
  },
  {
   "cell_type": "markdown",
   "metadata": {},
   "source": [
    "## Baseline"
   ]
  },
  {
   "cell_type": "markdown",
   "metadata": {},
   "source": [
    "<div class=\"alert alert-block alert-success\">\n",
    "<b>Baseline Takeaways :</b> \n",
    "<br>- Baseline will be toddlers that have asd traits\n",
    "<br>- Baseline accuracy: <b> 72.4% </b>(the score we want to beat with our model) </div> "
   ]
  },
  {
   "cell_type": "code",
   "execution_count": 20,
   "metadata": {},
   "outputs": [
    {
     "data": {
      "text/plain": [
       "1    427\n",
       "0    163\n",
       "Name: asd_traits, dtype: int64"
      ]
     },
     "execution_count": 20,
     "metadata": {},
     "output_type": "execute_result"
    }
   ],
   "source": [
    "#Count of toddlers with asd traits =1 and without asd traits = 0\n",
    "train.asd_traits.value_counts()"
   ]
  },
  {
   "cell_type": "code",
   "execution_count": 21,
   "metadata": {},
   "outputs": [],
   "source": [
    "#Baseline prediction will be mode, which is 1, toddlers with asd traits\n",
    "train['baseline_prediction'] = 1"
   ]
  },
  {
   "cell_type": "code",
   "execution_count": 22,
   "metadata": {},
   "outputs": [
    {
     "data": {
      "text/plain": [
       "0.724"
      ]
     },
     "execution_count": 22,
     "metadata": {},
     "output_type": "execute_result"
    }
   ],
   "source": [
    "#Baseline accuracy\n",
    "baseline_accuracy = round((train.asd_traits == 1).mean(), 3)\n",
    "baseline_accuracy"
   ]
  },
  {
   "cell_type": "markdown",
   "metadata": {},
   "source": [
    "## Model KNN"
   ]
  },
  {
   "cell_type": "markdown",
   "metadata": {},
   "source": [
    "<div class=\"alert alert-block alert-success\">\n",
    "<b>KNN Takeaways :</b> \n",
    "<br>- Baseline accuracy: <b> 72.4% </b>(the score we want to beat with our model) \n",
    "<br>- Accuracy score of <b> 85% </b> beats baseline</div> "
   ]
  },
  {
   "cell_type": "code",
   "execution_count": 23,
   "metadata": {},
   "outputs": [
    {
     "data": {
      "text/plain": [
       "KNeighborsClassifier()"
      ]
     },
     "execution_count": 23,
     "metadata": {},
     "output_type": "execute_result"
    }
   ],
   "source": [
    "#Features I want to train on\n",
    "features1 = ['gestures', 'joint_attention', 'pretend_play']\n",
    "#make model\n",
    "knn = KNeighborsClassifier(n_neighbors=5, weights='uniform')\n",
    "#fit model\n",
    "knn.fit(X_train_scaled[features1], y_train)"
   ]
  },
  {
   "cell_type": "code",
   "execution_count": 24,
   "metadata": {},
   "outputs": [],
   "source": [
    "#make predictions\n",
    "y_pred_knn = knn.predict(X_train_scaled[features1])\n",
    "#estimate probability\n",
    "y_pred_proba = knn.predict_proba(X_train_scaled[features1])"
   ]
  },
  {
   "cell_type": "markdown",
   "metadata": {},
   "source": [
    "## Evaluate KNN"
   ]
  },
  {
   "cell_type": "code",
   "execution_count": 25,
   "metadata": {},
   "outputs": [
    {
     "name": "stdout",
     "output_type": "stream",
     "text": [
      "KNN Accuracy is 0.88814\n"
     ]
    }
   ],
   "source": [
    "#accuracy\n",
    "accuracy = knn.score(X_train_scaled[features1], y_train)\n",
    "print(f\"KNN Accuracy is {accuracy:.5}\")"
   ]
  },
  {
   "cell_type": "code",
   "execution_count": 26,
   "metadata": {},
   "outputs": [
    {
     "name": "stdout",
     "output_type": "stream",
     "text": [
      "[[123  40]\n",
      " [ 26 401]]\n"
     ]
    }
   ],
   "source": [
    "#confustion matrix\n",
    "print(confusion_matrix(y_train, y_pred_knn))"
   ]
  },
  {
   "cell_type": "code",
   "execution_count": 27,
   "metadata": {},
   "outputs": [
    {
     "name": "stdout",
     "output_type": "stream",
     "text": [
      "              precision    recall  f1-score   support\n",
      "\n",
      "           0       0.83      0.75      0.79       163\n",
      "           1       0.91      0.94      0.92       427\n",
      "\n",
      "    accuracy                           0.89       590\n",
      "   macro avg       0.87      0.85      0.86       590\n",
      "weighted avg       0.89      0.89      0.89       590\n",
      "\n"
     ]
    }
   ],
   "source": [
    "#classification report\n",
    "#confustion matrix\n",
    "print(classification_report(y_train, y_pred_knn))"
   ]
  },
  {
   "cell_type": "markdown",
   "metadata": {},
   "source": [
    "## Validate KNN"
   ]
  },
  {
   "cell_type": "code",
   "execution_count": 28,
   "metadata": {},
   "outputs": [
    {
     "name": "stdout",
     "output_type": "stream",
     "text": [
      "Accuracy of KNN classifier on validate set: 0.85\n"
     ]
    }
   ],
   "source": [
    "print('Accuracy of KNN classifier on validate set: {:.2f}'\n",
    "     .format(knn.score(X_validate_scaled[features1], y_validate)))"
   ]
  },
  {
   "cell_type": "markdown",
   "metadata": {},
   "source": [
    "## Model Decision Tree"
   ]
  },
  {
   "cell_type": "markdown",
   "metadata": {},
   "source": [
    "<div class=\"alert alert-block alert-success\">\n",
    "<b>Decision Tree Takeaways :</b> \n",
    "<br>- Baseline accuracy: <b> 72.4% </b>(the score we want to beat with our model) \n",
    "<br>- DT Accuracy score of <b> 72.4% </b> does not beat baseline</div> "
   ]
  },
  {
   "cell_type": "code",
   "execution_count": 29,
   "metadata": {},
   "outputs": [],
   "source": [
    "#Create the Decision Tree object with desired hyper-parameters\n",
    "clf = DecisionTreeClassifier(max_depth=3, random_state=123)"
   ]
  },
  {
   "cell_type": "code",
   "execution_count": 30,
   "metadata": {},
   "outputs": [
    {
     "data": {
      "text/plain": [
       "DecisionTreeClassifier(max_depth=3, random_state=123)"
      ]
     },
     "execution_count": 30,
     "metadata": {},
     "output_type": "execute_result"
    }
   ],
   "source": [
    "#Fit the model\n",
    "clf = clf.fit(X_train_scaled, y_train)\n",
    "clf"
   ]
  },
  {
   "cell_type": "code",
   "execution_count": 31,
   "metadata": {},
   "outputs": [
    {
     "data": {
      "text/plain": [
       "array([1, 0, 0, 1, 1])"
      ]
     },
     "execution_count": 31,
     "metadata": {},
     "output_type": "execute_result"
    }
   ],
   "source": [
    "#make predictions on observations\n",
    "y_pred_dt = clf.predict(X_train_scaled)\n",
    "y_pred_dt[0:5]"
   ]
  },
  {
   "cell_type": "code",
   "execution_count": 32,
   "metadata": {},
   "outputs": [
    {
     "data": {
      "text/plain": [
       "array([[0.06122449, 0.93877551],\n",
       "       [0.5       , 0.5       ],\n",
       "       [0.93137255, 0.06862745],\n",
       "       ...,\n",
       "       [0.54166667, 0.45833333],\n",
       "       [0.93137255, 0.06862745],\n",
       "       [0.5       , 0.5       ]])"
      ]
     },
     "execution_count": 32,
     "metadata": {},
     "output_type": "execute_result"
    }
   ],
   "source": [
    "#estimate probability of asd traits\n",
    "y_pred_proba_dt = clf.predict_proba(X_train_scaled)\n",
    "y_pred_proba_dt"
   ]
  },
  {
   "cell_type": "markdown",
   "metadata": {},
   "source": [
    "## Evaluate Decision Tree"
   ]
  },
  {
   "cell_type": "code",
   "execution_count": 33,
   "metadata": {},
   "outputs": [
    {
     "name": "stdout",
     "output_type": "stream",
     "text": [
      "Accuracy of Decision Tree classifier on training set: 0.88\n"
     ]
    }
   ],
   "source": [
    "#compute the accuracy \n",
    "print('Accuracy of Decision Tree classifier on training set: {:.2f}'\n",
    "      .format(clf.score(X_train_scaled, y_train)))"
   ]
  },
  {
   "cell_type": "code",
   "execution_count": 34,
   "metadata": {},
   "outputs": [
    {
     "data": {
      "text/plain": [
       "array([[153,  10],\n",
       "       [ 59, 368]])"
      ]
     },
     "execution_count": 34,
     "metadata": {},
     "output_type": "execute_result"
    }
   ],
   "source": [
    "\n",
    "# confusion matrix\n",
    "confusion_matrix(y_train, y_pred_dt)"
   ]
  },
  {
   "cell_type": "code",
   "execution_count": 35,
   "metadata": {},
   "outputs": [
    {
     "data": {
      "text/plain": [
       "1    427\n",
       "0    163\n",
       "Name: asd_traits, dtype: int64"
      ]
     },
     "execution_count": 35,
     "metadata": {},
     "output_type": "execute_result"
    }
   ],
   "source": [
    "y_train.value_counts()"
   ]
  },
  {
   "cell_type": "code",
   "execution_count": 36,
   "metadata": {},
   "outputs": [
    {
     "name": "stdout",
     "output_type": "stream",
     "text": [
      "              precision    recall  f1-score   support\n",
      "\n",
      "           0       0.72      0.94      0.82       163\n",
      "           1       0.97      0.86      0.91       427\n",
      "\n",
      "    accuracy                           0.88       590\n",
      "   macro avg       0.85      0.90      0.87       590\n",
      "weighted avg       0.90      0.88      0.89       590\n",
      "\n"
     ]
    }
   ],
   "source": [
    "#classification report\n",
    "print(classification_report(y_train, y_pred_dt))"
   ]
  },
  {
   "cell_type": "code",
   "execution_count": 37,
   "metadata": {},
   "outputs": [
    {
     "name": "stdout",
     "output_type": "stream",
     "text": [
      "Accuracy of Decision Tree classifier on validate set: 0.88\n"
     ]
    }
   ],
   "source": [
    "print('Accuracy of Decision Tree classifier on validate set: {:.2f}'\n",
    "     .format(clf.score(X_validate_scaled, y_validate)))"
   ]
  },
  {
   "cell_type": "code",
   "execution_count": 38,
   "metadata": {},
   "outputs": [],
   "source": [
    "import model"
   ]
  },
  {
   "cell_type": "code",
   "execution_count": 39,
   "metadata": {},
   "outputs": [
    {
     "name": "stdout",
     "output_type": "stream",
     "text": [
      "              precision    recall  f1-score   support\n",
      "\n",
      "           0       0.79      0.89      0.83        88\n",
      "           1       0.94      0.87      0.90       165\n",
      "\n",
      "    accuracy                           0.88       253\n",
      "   macro avg       0.86      0.88      0.87       253\n",
      "weighted avg       0.88      0.88      0.88       253\n",
      "\n"
     ]
    }
   ],
   "source": [
    "# Produce y_predictions that come from the X_validate\n",
    "y_pred = clf.predict(X_validate_scaled)\n",
    "\n",
    "# Compare actual y values (from validate) to predicted y_values from the model run on X_validate\n",
    "print(classification_report(y_validate, y_pred))"
   ]
  },
  {
   "cell_type": "code",
   "execution_count": 40,
   "metadata": {},
   "outputs": [],
   "source": [
    "def get_metrics_binary(clf):\n",
    "    '''\n",
    "    get_metrics_binary takes in a confusion matrix (cnf) for a binary classifier and prints out metrics based on\n",
    "    values in variables named X_train, y_train, and y_pred.\n",
    "    \n",
    "    return: a classification report as a transposed DataFrame\n",
    "    '''\n",
    "    accuracy = clf.score(X_train, y_train)\n",
    "    class_report = pd.DataFrame(classification_report(y_train, y_pred_dt, output_dict=True)).T\n",
    "    conf = confusion_matrix(y_train, y_pred_dt)\n",
    "    tpr = conf[1][1] / conf[1].sum()\n",
    "    fpr = conf[0][1] / conf[0].sum()\n",
    "    tnr = conf[0][0] / conf[0].sum()\n",
    "    fnr = conf[1][0] / conf[1].sum()\n",
    "    print(f'''\n",
    "    The accuracy for our model is {accuracy:.4}\n",
    "    The True Positive Rate is {tpr:.3}, The False Positive Rate is {fpr:.3},\n",
    "    The True Negative Rate is {tnr:.3}, and the False Negative Rate is {fnr:.3}\n",
    "    ''')\n",
    "    return class_report"
   ]
  },
  {
   "cell_type": "code",
   "execution_count": 41,
   "metadata": {},
   "outputs": [
    {
     "name": "stdout",
     "output_type": "stream",
     "text": [
      "\n",
      "    The accuracy for our model is 0.7237\n",
      "    The True Positive Rate is 0.862, The False Positive Rate is 0.0613,\n",
      "    The True Negative Rate is 0.939, and the False Negative Rate is 0.138\n",
      "    \n"
     ]
    }
   ],
   "source": [
    "report_df = get_metrics_binary(clf)"
   ]
  },
  {
   "cell_type": "code",
   "execution_count": 42,
   "metadata": {},
   "outputs": [
    {
     "data": {
      "text/html": [
       "<div>\n",
       "<style scoped>\n",
       "    .dataframe tbody tr th:only-of-type {\n",
       "        vertical-align: middle;\n",
       "    }\n",
       "\n",
       "    .dataframe tbody tr th {\n",
       "        vertical-align: top;\n",
       "    }\n",
       "\n",
       "    .dataframe thead th {\n",
       "        text-align: right;\n",
       "    }\n",
       "</style>\n",
       "<table border=\"1\" class=\"dataframe\">\n",
       "  <thead>\n",
       "    <tr style=\"text-align: right;\">\n",
       "      <th></th>\n",
       "      <th>precision</th>\n",
       "      <th>recall</th>\n",
       "      <th>f1-score</th>\n",
       "      <th>support</th>\n",
       "    </tr>\n",
       "  </thead>\n",
       "  <tbody>\n",
       "    <tr>\n",
       "      <th>0</th>\n",
       "      <td>0.721698</td>\n",
       "      <td>0.938650</td>\n",
       "      <td>0.816000</td>\n",
       "      <td>163.000000</td>\n",
       "    </tr>\n",
       "    <tr>\n",
       "      <th>1</th>\n",
       "      <td>0.973545</td>\n",
       "      <td>0.861827</td>\n",
       "      <td>0.914286</td>\n",
       "      <td>427.000000</td>\n",
       "    </tr>\n",
       "    <tr>\n",
       "      <th>accuracy</th>\n",
       "      <td>0.883051</td>\n",
       "      <td>0.883051</td>\n",
       "      <td>0.883051</td>\n",
       "      <td>0.883051</td>\n",
       "    </tr>\n",
       "    <tr>\n",
       "      <th>macro avg</th>\n",
       "      <td>0.847622</td>\n",
       "      <td>0.900239</td>\n",
       "      <td>0.865143</td>\n",
       "      <td>590.000000</td>\n",
       "    </tr>\n",
       "    <tr>\n",
       "      <th>weighted avg</th>\n",
       "      <td>0.903967</td>\n",
       "      <td>0.883051</td>\n",
       "      <td>0.887132</td>\n",
       "      <td>590.000000</td>\n",
       "    </tr>\n",
       "  </tbody>\n",
       "</table>\n",
       "</div>"
      ],
      "text/plain": [
       "              precision    recall  f1-score     support\n",
       "0              0.721698  0.938650  0.816000  163.000000\n",
       "1              0.973545  0.861827  0.914286  427.000000\n",
       "accuracy       0.883051  0.883051  0.883051    0.883051\n",
       "macro avg      0.847622  0.900239  0.865143  590.000000\n",
       "weighted avg   0.903967  0.883051  0.887132  590.000000"
      ]
     },
     "execution_count": 42,
     "metadata": {},
     "output_type": "execute_result"
    }
   ],
   "source": [
    "report_df"
   ]
  },
  {
   "cell_type": "markdown",
   "metadata": {},
   "source": [
    "## Model Logistic Regression"
   ]
  },
  {
   "cell_type": "markdown",
   "metadata": {},
   "source": [
    "<div class=\"alert alert-block alert-success\">\n",
    "<b>Logistic Regression Takeaways :</b> \n",
    "<br>- Baseline accuracy: <b> 72.4% </b>(the score we want to beat with our model) \n",
    "<br>- Accuracy score of <b> 85% </b> beats baseline</div> "
   ]
  },
  {
   "cell_type": "code",
   "execution_count": 43,
   "metadata": {},
   "outputs": [
    {
     "data": {
      "text/plain": [
       "LogisticRegression(random_state=123)"
      ]
     },
     "execution_count": 43,
     "metadata": {},
     "output_type": "execute_result"
    }
   ],
   "source": [
    "# Create the logistic regression model from sklearn.linear_model import LogisticRegression\n",
    "logit = LogisticRegression(random_state=123) #Went with default hyperparameters\n",
    "\n",
    "# we will use same features \n",
    "features2 = ['gestures', 'joint_attention', 'pretend_play']\n",
    "\n",
    "# Fit the model\n",
    "logit.fit(X_train_scaled[features2], y_train)"
   ]
  },
  {
   "cell_type": "code",
   "execution_count": 44,
   "metadata": {},
   "outputs": [
    {
     "name": "stdout",
     "output_type": "stream",
     "text": [
      "Coefficient: \n",
      " [[1.57475585 1.02593207 1.13552792]]\n",
      "Intercept: \n",
      " [2.53231456]\n"
     ]
    }
   ],
   "source": [
    "# feature importance\n",
    "print('Coefficient: \\n', logit.coef_)\n",
    "print('Intercept: \\n', logit.intercept_)"
   ]
  },
  {
   "cell_type": "code",
   "execution_count": 45,
   "metadata": {},
   "outputs": [],
   "source": [
    "#Make predictions\n",
    "y_pred_lg = logit.predict(X_train_scaled[features2])\n",
    "\n",
    "#estimate probability\n",
    "y_pred_lg_proba = logit.predict_proba(X_train_scaled[features2])"
   ]
  },
  {
   "cell_type": "markdown",
   "metadata": {},
   "source": [
    "## Evaluate Logistic Regression"
   ]
  },
  {
   "cell_type": "code",
   "execution_count": 46,
   "metadata": {},
   "outputs": [
    {
     "name": "stdout",
     "output_type": "stream",
     "text": [
      "Accuracy of Logistic Regression classifier on training set: 0.89\n"
     ]
    }
   ],
   "source": [
    "print('Accuracy of Logistic Regression classifier on training set: {:.2f}'\n",
    "     .format(logit.score(X_train_scaled[features2], y_train)))"
   ]
  },
  {
   "cell_type": "code",
   "execution_count": 47,
   "metadata": {},
   "outputs": [
    {
     "name": "stdout",
     "output_type": "stream",
     "text": [
      "Baseline is 0.724\n",
      "Accuracy of Logistic Regression classifier on training set: 0.89\n"
     ]
    }
   ],
   "source": [
    "print(\"Baseline is\", baseline_accuracy,)\n",
    "print('Accuracy of Logistic Regression classifier on training set: {:.2f}'\n",
    "     .format(logit.score(X_train_scaled[features2], y_train)))"
   ]
  },
  {
   "cell_type": "code",
   "execution_count": 48,
   "metadata": {},
   "outputs": [
    {
     "name": "stdout",
     "output_type": "stream",
     "text": [
      "[[123  40]\n",
      " [ 26 401]]\n"
     ]
    }
   ],
   "source": [
    "#confusion matrix\n",
    "print(confusion_matrix(y_train, y_pred_lg))"
   ]
  },
  {
   "cell_type": "code",
   "execution_count": 49,
   "metadata": {},
   "outputs": [
    {
     "name": "stdout",
     "output_type": "stream",
     "text": [
      "              precision    recall  f1-score   support\n",
      "\n",
      "           0       0.83      0.75      0.79       163\n",
      "           1       0.91      0.94      0.92       427\n",
      "\n",
      "    accuracy                           0.89       590\n",
      "   macro avg       0.87      0.85      0.86       590\n",
      "weighted avg       0.89      0.89      0.89       590\n",
      "\n"
     ]
    }
   ],
   "source": [
    "#classification report\n",
    "print(classification_report(y_train, y_pred_lg))"
   ]
  },
  {
   "cell_type": "markdown",
   "metadata": {},
   "source": [
    "## Validate Logistic Regression"
   ]
  },
  {
   "cell_type": "code",
   "execution_count": 50,
   "metadata": {},
   "outputs": [],
   "source": [
    "y_pred_lg = logit.predict(X_validate_scaled[features2])"
   ]
  },
  {
   "cell_type": "code",
   "execution_count": 51,
   "metadata": {},
   "outputs": [
    {
     "name": "stdout",
     "output_type": "stream",
     "text": [
      "Accuracy: 0.85\n"
     ]
    }
   ],
   "source": [
    "print('Accuracy: {:.2f}'.format(logit.score(X_validate_scaled[features2], y_validate)))"
   ]
  },
  {
   "cell_type": "markdown",
   "metadata": {},
   "source": [
    "## Test on Best"
   ]
  },
  {
   "cell_type": "markdown",
   "metadata": {},
   "source": [
    "<div class=\"alert alert-block alert-success\">\n",
    "<b>Test on Best :</b> \n",
    "<br>- Baseline accuracy: <b> 72.4% </b>(the score we want to beat with our model) \n",
    "<br>- Accuracy score of KNN and Logistic Regression models was <b> 85% </b>, so F1 score was used to determine best model, which was KNN model.\n",
    "<br>- Accuracy of tested KNN model was <b> 85% </b> </div> "
   ]
  },
  {
   "cell_type": "code",
   "execution_count": 52,
   "metadata": {},
   "outputs": [
    {
     "data": {
      "text/plain": [
       "Case_No\n",
       "319     1\n",
       "985     1\n",
       "647     1\n",
       "1017    1\n",
       "492     1\n",
       "Name: asd_traits, dtype: int64"
      ]
     },
     "execution_count": 52,
     "metadata": {},
     "output_type": "execute_result"
    }
   ],
   "source": [
    "y_test.head()"
   ]
  },
  {
   "cell_type": "code",
   "execution_count": 53,
   "metadata": {},
   "outputs": [
    {
     "name": "stdout",
     "output_type": "stream",
     "text": [
      "Accuracy: 0.85\n"
     ]
    }
   ],
   "source": [
    "y_pred_test = knn.predict(X_test_scaled[features1])\n",
    "y_pred_proba_test = knn.predict_proba(X_test_scaled[features1])\n",
    "print('Accuracy: {:.2f}'.format(knn.score(X_test_scaled[features1], y_test)))"
   ]
  },
  {
   "cell_type": "markdown",
   "metadata": {},
   "source": [
    "<hr>"
   ]
  },
  {
   "cell_type": "markdown",
   "metadata": {},
   "source": [
    "## 2nd Iteration"
   ]
  },
  {
   "cell_type": "markdown",
   "metadata": {},
   "source": [
    "## Acquire and Prep"
   ]
  },
  {
   "cell_type": "markdown",
   "metadata": {},
   "source": [
    "<div class=\"alert alert-block alert-success\">\n",
    "<b>Acquire an Prep Summary :</b> \n",
    "<br>- The same steps to acquire and prep the data were performed on the second iteration. </div> "
   ]
  },
  {
   "cell_type": "code",
   "execution_count": 54,
   "metadata": {},
   "outputs": [],
   "source": [
    "df2 = w.wrangle_autism()"
   ]
  },
  {
   "cell_type": "code",
   "execution_count": 55,
   "metadata": {},
   "outputs": [
    {
     "name": "stdout",
     "output_type": "stream",
     "text": [
      "<class 'pandas.core.frame.DataFrame'>\n",
      "Int64Index: 1054 entries, 1 to 1054\n",
      "Data columns (total 16 columns):\n",
      " #   Column               Non-Null Count  Dtype\n",
      "---  ------               --------------  -----\n",
      " 0   name_response        1054 non-null   int64\n",
      " 1   eye_contact          1054 non-null   int64\n",
      " 2   pointing             1054 non-null   int64\n",
      " 3   shared_interest      1054 non-null   int64\n",
      " 4   pretend_play         1054 non-null   int64\n",
      " 5   joint_attention      1054 non-null   int64\n",
      " 6   emotions             1054 non-null   int64\n",
      " 7   vocal                1054 non-null   int64\n",
      " 8   gestures             1054 non-null   int64\n",
      " 9   blank_gaze           1054 non-null   int64\n",
      " 10  age                  1054 non-null   int64\n",
      " 11  ethnicity            1054 non-null   int64\n",
      " 12  jaundice             1054 non-null   int64\n",
      " 13  family_mem_with_asd  1054 non-null   int64\n",
      " 14  asd_traits           1054 non-null   int64\n",
      " 15  sex_m                1054 non-null   uint8\n",
      "dtypes: int64(15), uint8(1)\n",
      "memory usage: 132.8 KB\n"
     ]
    }
   ],
   "source": [
    "df2.info()"
   ]
  },
  {
   "cell_type": "code",
   "execution_count": 56,
   "metadata": {},
   "outputs": [],
   "source": [
    "train, validate, test, X_train, y_train, X_validate, y_validate, X_test, y_test = w.train_validate_test_split(df2, 'asd_traits', 123)"
   ]
  },
  {
   "cell_type": "code",
   "execution_count": 57,
   "metadata": {},
   "outputs": [
    {
     "name": "stdout",
     "output_type": "stream",
     "text": [
      "(590, 16)\n",
      "(253, 16)\n",
      "(211, 16)\n"
     ]
    }
   ],
   "source": [
    "print(train.shape)\n",
    "print(validate.shape)\n",
    "print(test.shape)"
   ]
  },
  {
   "cell_type": "markdown",
   "metadata": {},
   "source": [
    "### Scale"
   ]
  },
  {
   "cell_type": "code",
   "execution_count": 58,
   "metadata": {},
   "outputs": [],
   "source": [
    "scaler, X_train_scaled, X_validate_scaled, X_test_scaled = w.Standard_Scaler(X_train, X_validate, X_test)"
   ]
  },
  {
   "cell_type": "code",
   "execution_count": 59,
   "metadata": {},
   "outputs": [
    {
     "data": {
      "text/html": [
       "<div>\n",
       "<style scoped>\n",
       "    .dataframe tbody tr th:only-of-type {\n",
       "        vertical-align: middle;\n",
       "    }\n",
       "\n",
       "    .dataframe tbody tr th {\n",
       "        vertical-align: top;\n",
       "    }\n",
       "\n",
       "    .dataframe thead th {\n",
       "        text-align: right;\n",
       "    }\n",
       "</style>\n",
       "<table border=\"1\" class=\"dataframe\">\n",
       "  <thead>\n",
       "    <tr style=\"text-align: right;\">\n",
       "      <th></th>\n",
       "      <th>name_response</th>\n",
       "      <th>eye_contact</th>\n",
       "      <th>pointing</th>\n",
       "      <th>shared_interest</th>\n",
       "      <th>pretend_play</th>\n",
       "      <th>joint_attention</th>\n",
       "      <th>emotions</th>\n",
       "      <th>vocal</th>\n",
       "      <th>gestures</th>\n",
       "      <th>blank_gaze</th>\n",
       "      <th>age</th>\n",
       "      <th>ethnicity</th>\n",
       "      <th>jaundice</th>\n",
       "      <th>family_mem_with_asd</th>\n",
       "      <th>sex_m</th>\n",
       "    </tr>\n",
       "    <tr>\n",
       "      <th>Case_No</th>\n",
       "      <th></th>\n",
       "      <th></th>\n",
       "      <th></th>\n",
       "      <th></th>\n",
       "      <th></th>\n",
       "      <th></th>\n",
       "      <th></th>\n",
       "      <th></th>\n",
       "      <th></th>\n",
       "      <th></th>\n",
       "      <th></th>\n",
       "      <th></th>\n",
       "      <th></th>\n",
       "      <th></th>\n",
       "      <th></th>\n",
       "    </tr>\n",
       "  </thead>\n",
       "  <tbody>\n",
       "    <tr>\n",
       "      <th>577</th>\n",
       "      <td>0.851555</td>\n",
       "      <td>-0.912304</td>\n",
       "      <td>1.174322</td>\n",
       "      <td>-1.084952</td>\n",
       "      <td>0.918559</td>\n",
       "      <td>0.816497</td>\n",
       "      <td>-1.456603</td>\n",
       "      <td>-0.928008</td>\n",
       "      <td>0.989882</td>\n",
       "      <td>-1.182529</td>\n",
       "      <td>-0.536779</td>\n",
       "      <td>-0.951307</td>\n",
       "      <td>-0.578655</td>\n",
       "      <td>-0.407441</td>\n",
       "      <td>0.646737</td>\n",
       "    </tr>\n",
       "    <tr>\n",
       "      <th>223</th>\n",
       "      <td>0.851555</td>\n",
       "      <td>1.096126</td>\n",
       "      <td>-0.851555</td>\n",
       "      <td>-1.084952</td>\n",
       "      <td>-1.088662</td>\n",
       "      <td>-1.224745</td>\n",
       "      <td>-1.456603</td>\n",
       "      <td>1.077577</td>\n",
       "      <td>-1.010222</td>\n",
       "      <td>0.845645</td>\n",
       "      <td>0.997495</td>\n",
       "      <td>-0.951307</td>\n",
       "      <td>-0.578655</td>\n",
       "      <td>-0.407441</td>\n",
       "      <td>0.646737</td>\n",
       "    </tr>\n",
       "    <tr>\n",
       "      <th>472</th>\n",
       "      <td>0.851555</td>\n",
       "      <td>-0.912304</td>\n",
       "      <td>-0.851555</td>\n",
       "      <td>-1.084952</td>\n",
       "      <td>-1.088662</td>\n",
       "      <td>-1.224745</td>\n",
       "      <td>-1.456603</td>\n",
       "      <td>-0.928008</td>\n",
       "      <td>-1.010222</td>\n",
       "      <td>-1.182529</td>\n",
       "      <td>0.997495</td>\n",
       "      <td>-0.193856</td>\n",
       "      <td>-0.578655</td>\n",
       "      <td>2.454345</td>\n",
       "      <td>0.646737</td>\n",
       "    </tr>\n",
       "    <tr>\n",
       "      <th>441</th>\n",
       "      <td>0.851555</td>\n",
       "      <td>1.096126</td>\n",
       "      <td>-0.851555</td>\n",
       "      <td>0.921699</td>\n",
       "      <td>-1.088662</td>\n",
       "      <td>0.816497</td>\n",
       "      <td>0.686529</td>\n",
       "      <td>-0.928008</td>\n",
       "      <td>0.989882</td>\n",
       "      <td>0.845645</td>\n",
       "      <td>-0.281067</td>\n",
       "      <td>-0.951307</td>\n",
       "      <td>-0.578655</td>\n",
       "      <td>-0.407441</td>\n",
       "      <td>-1.546223</td>\n",
       "    </tr>\n",
       "    <tr>\n",
       "      <th>792</th>\n",
       "      <td>0.851555</td>\n",
       "      <td>1.096126</td>\n",
       "      <td>-0.851555</td>\n",
       "      <td>0.921699</td>\n",
       "      <td>0.918559</td>\n",
       "      <td>0.816497</td>\n",
       "      <td>0.686529</td>\n",
       "      <td>-0.928008</td>\n",
       "      <td>0.989882</td>\n",
       "      <td>0.845645</td>\n",
       "      <td>0.997495</td>\n",
       "      <td>-0.193856</td>\n",
       "      <td>1.728145</td>\n",
       "      <td>-0.407441</td>\n",
       "      <td>0.646737</td>\n",
       "    </tr>\n",
       "  </tbody>\n",
       "</table>\n",
       "</div>"
      ],
      "text/plain": [
       "         name_response  eye_contact  pointing  shared_interest  pretend_play  \\\n",
       "Case_No                                                                        \n",
       "577           0.851555    -0.912304  1.174322        -1.084952      0.918559   \n",
       "223           0.851555     1.096126 -0.851555        -1.084952     -1.088662   \n",
       "472           0.851555    -0.912304 -0.851555        -1.084952     -1.088662   \n",
       "441           0.851555     1.096126 -0.851555         0.921699     -1.088662   \n",
       "792           0.851555     1.096126 -0.851555         0.921699      0.918559   \n",
       "\n",
       "         joint_attention  emotions     vocal  gestures  blank_gaze       age  \\\n",
       "Case_No                                                                        \n",
       "577             0.816497 -1.456603 -0.928008  0.989882   -1.182529 -0.536779   \n",
       "223            -1.224745 -1.456603  1.077577 -1.010222    0.845645  0.997495   \n",
       "472            -1.224745 -1.456603 -0.928008 -1.010222   -1.182529  0.997495   \n",
       "441             0.816497  0.686529 -0.928008  0.989882    0.845645 -0.281067   \n",
       "792             0.816497  0.686529 -0.928008  0.989882    0.845645  0.997495   \n",
       "\n",
       "         ethnicity  jaundice  family_mem_with_asd     sex_m  \n",
       "Case_No                                                      \n",
       "577      -0.951307 -0.578655            -0.407441  0.646737  \n",
       "223      -0.951307 -0.578655            -0.407441  0.646737  \n",
       "472      -0.193856 -0.578655             2.454345  0.646737  \n",
       "441      -0.951307 -0.578655            -0.407441 -1.546223  \n",
       "792      -0.193856  1.728145            -0.407441  0.646737  "
      ]
     },
     "execution_count": 59,
     "metadata": {},
     "output_type": "execute_result"
    }
   ],
   "source": [
    "X_train_scaled.head()"
   ]
  },
  {
   "cell_type": "markdown",
   "metadata": {},
   "source": [
    "## Feature Engineering"
   ]
  },
  {
   "cell_type": "markdown",
   "metadata": {},
   "source": [
    "<div class=\"alert alert-block alert-success\">\n",
    "<b>Feature Engineering Takeaways :</b> \n",
    "<br>- The top five features are <b>'shared_interest', 'pretend_play', 'joint_attention', 'emotions', 'gestures' </b> </div> "
   ]
  },
  {
   "cell_type": "code",
   "execution_count": 60,
   "metadata": {},
   "outputs": [],
   "source": [
    "x = X_train_scaled\n",
    "y = y_train\n",
    "n = 5"
   ]
  },
  {
   "cell_type": "code",
   "execution_count": 61,
   "metadata": {},
   "outputs": [
    {
     "data": {
      "text/plain": [
       "['shared_interest', 'pretend_play', 'joint_attention', 'emotions', 'gestures']"
      ]
     },
     "execution_count": 61,
     "metadata": {},
     "output_type": "execute_result"
    }
   ],
   "source": [
    "# check the feature importance:\n",
    "f_feature = model.select_kbest(x, y, n)\n",
    "f_feature"
   ]
  },
  {
   "cell_type": "markdown",
   "metadata": {},
   "source": [
    "## Baseline"
   ]
  },
  {
   "cell_type": "markdown",
   "metadata": {},
   "source": [
    "<div class=\"alert alert-block alert-success\">\n",
    "<b>Baseline Takeaways :</b> \n",
    "<br>- Baseline will be toddlers that have asd traits\n",
    "<br>- Baseline accuracy: <b> 72.4% </b>(the score we want to beat with our model) </div> "
   ]
  },
  {
   "cell_type": "code",
   "execution_count": 66,
   "metadata": {},
   "outputs": [
    {
     "data": {
      "text/plain": [
       "1    427\n",
       "0    163\n",
       "Name: asd_traits, dtype: int64"
      ]
     },
     "execution_count": 66,
     "metadata": {},
     "output_type": "execute_result"
    }
   ],
   "source": [
    "#Count of toddlers with asd traits =1 and without asd traits = 0\n",
    "train.asd_traits.value_counts()"
   ]
  },
  {
   "cell_type": "code",
   "execution_count": 67,
   "metadata": {},
   "outputs": [],
   "source": [
    "#Baseline prediction will be mode, which is 1, toddlers with asd traits\n",
    "train['baseline_prediction'] = 1"
   ]
  },
  {
   "cell_type": "code",
   "execution_count": 68,
   "metadata": {},
   "outputs": [
    {
     "data": {
      "text/plain": [
       "0.724"
      ]
     },
     "execution_count": 68,
     "metadata": {},
     "output_type": "execute_result"
    }
   ],
   "source": [
    "#Baseline accuracy\n",
    "baseline_accuracy = round((train.asd_traits == 1).mean(), 3)\n",
    "baseline_accuracy"
   ]
  },
  {
   "cell_type": "markdown",
   "metadata": {},
   "source": [
    "## Model KNN"
   ]
  },
  {
   "cell_type": "markdown",
   "metadata": {},
   "source": [
    "<div class=\"alert alert-block alert-success\">\n",
    "<b>KNN Takeaways :</b> \n",
    "<br>- Baseline accuracy: <b> 72.4% </b>(the score we want to beat with our model) \n",
    "<br>- Accuracy score of <b> 91% </b> beats baseline</div> "
   ]
  },
  {
   "cell_type": "code",
   "execution_count": 70,
   "metadata": {},
   "outputs": [
    {
     "data": {
      "text/plain": [
       "KNeighborsClassifier()"
      ]
     },
     "execution_count": 70,
     "metadata": {},
     "output_type": "execute_result"
    }
   ],
   "source": [
    "#Features I want to train on\n",
    "best_features = ['shared_interest', 'pretend_play', 'joint_attention', 'emotions', 'gestures']\n",
    "#make model\n",
    "knn = KNeighborsClassifier(n_neighbors=5, weights='uniform')\n",
    "#fit model\n",
    "knn.fit(X_train_scaled[best_features], y_train)"
   ]
  },
  {
   "cell_type": "code",
   "execution_count": 71,
   "metadata": {},
   "outputs": [],
   "source": [
    "#make predictions\n",
    "y_pred_knn = knn.predict(X_train_scaled[best_features])\n",
    "#estimate probability\n",
    "y_pred_proba = knn.predict_proba(X_train_scaled[best_features])"
   ]
  },
  {
   "cell_type": "markdown",
   "metadata": {},
   "source": [
    "## Evaluate KNN"
   ]
  },
  {
   "cell_type": "code",
   "execution_count": 72,
   "metadata": {},
   "outputs": [
    {
     "name": "stdout",
     "output_type": "stream",
     "text": [
      "KNN Accuracy is 0.92034\n"
     ]
    }
   ],
   "source": [
    "#accuracy\n",
    "accuracy = knn.score(X_train_scaled[best_features], y_train)\n",
    "print(f\"KNN Accuracy is {accuracy:.5}\")"
   ]
  },
  {
   "cell_type": "code",
   "execution_count": 73,
   "metadata": {},
   "outputs": [
    {
     "name": "stdout",
     "output_type": "stream",
     "text": [
      "[[137  26]\n",
      " [ 21 406]]\n"
     ]
    }
   ],
   "source": [
    "#confustion matrix\n",
    "print(confusion_matrix(y_train, y_pred_knn))"
   ]
  },
  {
   "cell_type": "code",
   "execution_count": 74,
   "metadata": {},
   "outputs": [
    {
     "name": "stdout",
     "output_type": "stream",
     "text": [
      "              precision    recall  f1-score   support\n",
      "\n",
      "           0       0.87      0.84      0.85       163\n",
      "           1       0.94      0.95      0.95       427\n",
      "\n",
      "    accuracy                           0.92       590\n",
      "   macro avg       0.90      0.90      0.90       590\n",
      "weighted avg       0.92      0.92      0.92       590\n",
      "\n"
     ]
    }
   ],
   "source": [
    "#classification report\n",
    "#confustion matrix\n",
    "print(classification_report(y_train, y_pred_knn))"
   ]
  },
  {
   "cell_type": "markdown",
   "metadata": {},
   "source": [
    "## Validate KNN"
   ]
  },
  {
   "cell_type": "code",
   "execution_count": 75,
   "metadata": {},
   "outputs": [
    {
     "name": "stdout",
     "output_type": "stream",
     "text": [
      "Accuracy of KNN classifier on validate set: 0.91\n"
     ]
    }
   ],
   "source": [
    "print('Accuracy of KNN classifier on validate set: {:.2f}'\n",
    "     .format(knn.score(X_validate_scaled[best_features], y_validate)))"
   ]
  },
  {
   "cell_type": "markdown",
   "metadata": {},
   "source": [
    "## Test on best"
   ]
  },
  {
   "cell_type": "markdown",
   "metadata": {},
   "source": [
    "<div class=\"alert alert-block alert-success\">\n",
    "<b>Test on Best :</b> \n",
    "<br>- Baseline accuracy: <b> 72.4% </b>(the score we want to beat with our model) \n",
    "<br>- Accuracy of tested MVP KNN model was <b> 85% </b> \n",
    "<br>- Accurary of tested 2nd interation with feature engineering was <b> 88% </b></div> "
   ]
  },
  {
   "cell_type": "code",
   "execution_count": 76,
   "metadata": {},
   "outputs": [
    {
     "name": "stdout",
     "output_type": "stream",
     "text": [
      "Accuracy: 0.88\n"
     ]
    }
   ],
   "source": [
    "y_pred_test = knn.predict(X_test_scaled[best_features])\n",
    "y_pred_proba_test = knn.predict_proba(X_test_scaled[best_features])\n",
    "print('Accuracy: {:.2f}'.format(knn.score(X_test_scaled[best_features], y_test)))"
   ]
  },
  {
   "cell_type": "markdown",
   "metadata": {},
   "source": [
    "## Conclusion"
   ]
  },
  {
   "cell_type": "markdown",
   "metadata": {},
   "source": [
    "<div class=\"alert alert-block alert-success\">\n",
    "<b>Conclusion :</b> \n",
    "<br><b> Why does this matter?</b>\n",
    "<br>- Early intervention.  If we can more accurately identifity toddlers that display autistic traits, then we can alert parents to seek professional medical services for their children sooner.   \n",
    "<br>- The earlier the intervention, the earlier the child can begin their journey to recovery.\n",
    "<br>- \"Early interventions not only give children the best start possible, but also the best chance of developing to their full potential\" - Doreen Granpreesheh</div> "
   ]
  },
  {
   "cell_type": "markdown",
   "metadata": {},
   "source": [
    "## Next Steps"
   ]
  },
  {
   "cell_type": "markdown",
   "metadata": {},
   "source": [
    "<div class=\"alert alert-block alert-success\">\n",
    "<b>Next Steps:</b> \n",
    "<br><b> More data</b>\n",
    "<br>- Access to scores on assessment tests, sleep, diet, etc.  By having access to additional data we can begin to identify higher risk/more intensive forms of autism.</div> "
   ]
  }
 ],
 "metadata": {
  "kernelspec": {
   "display_name": "Python 3",
   "language": "python",
   "name": "python3"
  },
  "language_info": {
   "codemirror_mode": {
    "name": "ipython",
    "version": 3
   },
   "file_extension": ".py",
   "mimetype": "text/x-python",
   "name": "python",
   "nbconvert_exporter": "python",
   "pygments_lexer": "ipython3",
   "version": "3.8.5"
  }
 },
 "nbformat": 4,
 "nbformat_minor": 4
}
