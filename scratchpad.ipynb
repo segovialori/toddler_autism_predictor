{
 "cells": [
  {
   "cell_type": "markdown",
   "metadata": {},
   "source": [
    "# Predicting Autistic Traits in Toddlers"
   ]
  },
  {
   "cell_type": "markdown",
   "metadata": {},
   "source": [
    "## Imports"
   ]
  },
  {
   "cell_type": "code",
   "execution_count": 52,
   "metadata": {},
   "outputs": [],
   "source": [
    "# import python libraries\n",
    "import pandas as pd\n",
    "import numpy as np\n",
    "import matplotlib.pyplot as plt\n",
    "import seaborn as sns\n",
    "from scipy import stats\n",
    "\n",
    "#imports for model object and metric functions\n",
    "from sklearn.model_selection import train_test_split\n",
    "from sklearn.linear_model import LogisticRegression\n",
    "from sklearn.tree import DecisionTreeClassifier\n",
    "from sklearn.ensemble import RandomForestClassifier\n",
    "from sklearn.neighbors import KNeighborsClassifier\n",
    "from sklearn.metrics import classification_report\n",
    "from sklearn.metrics import confusion_matrix\n",
    "from sklearn.preprocessing import StandardScaler\n",
    "\n",
    "# ignore warnings\n",
    "import warnings\n",
    "warnings.filterwarnings(\"ignore\")\n",
    "\n",
    "#visulization settings\n",
    "import graphviz\n",
    "from sklearn.tree import export_graphviz\n",
    "import matplotlib.style as style \n",
    "style.available\n",
    "style.use('seaborn-notebook') #sets the size of the charts\n",
    "style.use('seaborn-colorblind') #sets color of charts"
   ]
  },
  {
   "cell_type": "markdown",
   "metadata": {},
   "source": [
    "## Acquire"
   ]
  },
  {
   "cell_type": "markdown",
   "metadata": {},
   "source": [
    "<div class=\"alert alert-block alert-success\">\n",
    "<b>Acquire Summary :</b> \n",
    "<br>- This dataset was developed by Dr Fadi Fayez Thabtah using a mobile app called ASDTests (ASDtests.com) to screen for autism traits in toddlers and acquired in csv format from kaggle.com.  \n",
    "<br>- This data set has 1054 rows and 19 columns</div> "
   ]
  },
  {
   "cell_type": "code",
   "execution_count": 2,
   "metadata": {},
   "outputs": [],
   "source": [
    "df = pd.read_csv('Toddler Autism dataset July 2018.csv')"
   ]
  },
  {
   "cell_type": "code",
   "execution_count": 3,
   "metadata": {},
   "outputs": [
    {
     "data": {
      "text/html": [
       "<div>\n",
       "<style scoped>\n",
       "    .dataframe tbody tr th:only-of-type {\n",
       "        vertical-align: middle;\n",
       "    }\n",
       "\n",
       "    .dataframe tbody tr th {\n",
       "        vertical-align: top;\n",
       "    }\n",
       "\n",
       "    .dataframe thead th {\n",
       "        text-align: right;\n",
       "    }\n",
       "</style>\n",
       "<table border=\"1\" class=\"dataframe\">\n",
       "  <thead>\n",
       "    <tr style=\"text-align: right;\">\n",
       "      <th></th>\n",
       "      <th>Case_No</th>\n",
       "      <th>A1</th>\n",
       "      <th>A2</th>\n",
       "      <th>A3</th>\n",
       "      <th>A4</th>\n",
       "      <th>A5</th>\n",
       "      <th>A6</th>\n",
       "      <th>A7</th>\n",
       "      <th>A8</th>\n",
       "      <th>A9</th>\n",
       "      <th>A10</th>\n",
       "      <th>Age_Mons</th>\n",
       "      <th>Qchat-10-Score</th>\n",
       "      <th>Sex</th>\n",
       "      <th>Ethnicity</th>\n",
       "      <th>Jaundice</th>\n",
       "      <th>Family_mem_with_ASD</th>\n",
       "      <th>Who completed the test</th>\n",
       "      <th>Class/ASD Traits</th>\n",
       "    </tr>\n",
       "  </thead>\n",
       "  <tbody>\n",
       "    <tr>\n",
       "      <th>0</th>\n",
       "      <td>1</td>\n",
       "      <td>0</td>\n",
       "      <td>0</td>\n",
       "      <td>0</td>\n",
       "      <td>0</td>\n",
       "      <td>0</td>\n",
       "      <td>0</td>\n",
       "      <td>1</td>\n",
       "      <td>1</td>\n",
       "      <td>0</td>\n",
       "      <td>1</td>\n",
       "      <td>28</td>\n",
       "      <td>3</td>\n",
       "      <td>f</td>\n",
       "      <td>middle eastern</td>\n",
       "      <td>yes</td>\n",
       "      <td>no</td>\n",
       "      <td>family member</td>\n",
       "      <td>No</td>\n",
       "    </tr>\n",
       "    <tr>\n",
       "      <th>1</th>\n",
       "      <td>2</td>\n",
       "      <td>1</td>\n",
       "      <td>1</td>\n",
       "      <td>0</td>\n",
       "      <td>0</td>\n",
       "      <td>0</td>\n",
       "      <td>1</td>\n",
       "      <td>1</td>\n",
       "      <td>0</td>\n",
       "      <td>0</td>\n",
       "      <td>0</td>\n",
       "      <td>36</td>\n",
       "      <td>4</td>\n",
       "      <td>m</td>\n",
       "      <td>White European</td>\n",
       "      <td>yes</td>\n",
       "      <td>no</td>\n",
       "      <td>family member</td>\n",
       "      <td>Yes</td>\n",
       "    </tr>\n",
       "    <tr>\n",
       "      <th>2</th>\n",
       "      <td>3</td>\n",
       "      <td>1</td>\n",
       "      <td>0</td>\n",
       "      <td>0</td>\n",
       "      <td>0</td>\n",
       "      <td>0</td>\n",
       "      <td>0</td>\n",
       "      <td>1</td>\n",
       "      <td>1</td>\n",
       "      <td>0</td>\n",
       "      <td>1</td>\n",
       "      <td>36</td>\n",
       "      <td>4</td>\n",
       "      <td>m</td>\n",
       "      <td>middle eastern</td>\n",
       "      <td>yes</td>\n",
       "      <td>no</td>\n",
       "      <td>family member</td>\n",
       "      <td>Yes</td>\n",
       "    </tr>\n",
       "    <tr>\n",
       "      <th>3</th>\n",
       "      <td>4</td>\n",
       "      <td>1</td>\n",
       "      <td>1</td>\n",
       "      <td>1</td>\n",
       "      <td>1</td>\n",
       "      <td>1</td>\n",
       "      <td>1</td>\n",
       "      <td>1</td>\n",
       "      <td>1</td>\n",
       "      <td>1</td>\n",
       "      <td>1</td>\n",
       "      <td>24</td>\n",
       "      <td>10</td>\n",
       "      <td>m</td>\n",
       "      <td>Hispanic</td>\n",
       "      <td>no</td>\n",
       "      <td>no</td>\n",
       "      <td>family member</td>\n",
       "      <td>Yes</td>\n",
       "    </tr>\n",
       "    <tr>\n",
       "      <th>4</th>\n",
       "      <td>5</td>\n",
       "      <td>1</td>\n",
       "      <td>1</td>\n",
       "      <td>0</td>\n",
       "      <td>1</td>\n",
       "      <td>1</td>\n",
       "      <td>1</td>\n",
       "      <td>1</td>\n",
       "      <td>1</td>\n",
       "      <td>1</td>\n",
       "      <td>1</td>\n",
       "      <td>20</td>\n",
       "      <td>9</td>\n",
       "      <td>f</td>\n",
       "      <td>White European</td>\n",
       "      <td>no</td>\n",
       "      <td>yes</td>\n",
       "      <td>family member</td>\n",
       "      <td>Yes</td>\n",
       "    </tr>\n",
       "  </tbody>\n",
       "</table>\n",
       "</div>"
      ],
      "text/plain": [
       "   Case_No  A1  A2  A3  A4  A5  A6  A7  A8  A9  A10  Age_Mons  Qchat-10-Score  \\\n",
       "0        1   0   0   0   0   0   0   1   1   0    1        28               3   \n",
       "1        2   1   1   0   0   0   1   1   0   0    0        36               4   \n",
       "2        3   1   0   0   0   0   0   1   1   0    1        36               4   \n",
       "3        4   1   1   1   1   1   1   1   1   1    1        24              10   \n",
       "4        5   1   1   0   1   1   1   1   1   1    1        20               9   \n",
       "\n",
       "  Sex       Ethnicity Jaundice Family_mem_with_ASD Who completed the test  \\\n",
       "0   f  middle eastern      yes                  no          family member   \n",
       "1   m  White European      yes                  no          family member   \n",
       "2   m  middle eastern      yes                  no          family member   \n",
       "3   m        Hispanic       no                  no          family member   \n",
       "4   f  White European       no                 yes          family member   \n",
       "\n",
       "  Class/ASD Traits   \n",
       "0                No  \n",
       "1               Yes  \n",
       "2               Yes  \n",
       "3               Yes  \n",
       "4               Yes  "
      ]
     },
     "execution_count": 3,
     "metadata": {},
     "output_type": "execute_result"
    }
   ],
   "source": [
    "df.head()"
   ]
  },
  {
   "cell_type": "code",
   "execution_count": 4,
   "metadata": {},
   "outputs": [
    {
     "name": "stdout",
     "output_type": "stream",
     "text": [
      "<class 'pandas.core.frame.DataFrame'>\n",
      "RangeIndex: 1054 entries, 0 to 1053\n",
      "Data columns (total 19 columns):\n",
      " #   Column                  Non-Null Count  Dtype \n",
      "---  ------                  --------------  ----- \n",
      " 0   Case_No                 1054 non-null   int64 \n",
      " 1   A1                      1054 non-null   int64 \n",
      " 2   A2                      1054 non-null   int64 \n",
      " 3   A3                      1054 non-null   int64 \n",
      " 4   A4                      1054 non-null   int64 \n",
      " 5   A5                      1054 non-null   int64 \n",
      " 6   A6                      1054 non-null   int64 \n",
      " 7   A7                      1054 non-null   int64 \n",
      " 8   A8                      1054 non-null   int64 \n",
      " 9   A9                      1054 non-null   int64 \n",
      " 10  A10                     1054 non-null   int64 \n",
      " 11  Age_Mons                1054 non-null   int64 \n",
      " 12  Qchat-10-Score          1054 non-null   int64 \n",
      " 13  Sex                     1054 non-null   object\n",
      " 14  Ethnicity               1054 non-null   object\n",
      " 15  Jaundice                1054 non-null   object\n",
      " 16  Family_mem_with_ASD     1054 non-null   object\n",
      " 17  Who completed the test  1054 non-null   object\n",
      " 18  Class/ASD Traits        1054 non-null   object\n",
      "dtypes: int64(13), object(6)\n",
      "memory usage: 156.6+ KB\n"
     ]
    }
   ],
   "source": [
    "df.info()"
   ]
  },
  {
   "cell_type": "code",
   "execution_count": 5,
   "metadata": {},
   "outputs": [
    {
     "data": {
      "text/html": [
       "<div>\n",
       "<style scoped>\n",
       "    .dataframe tbody tr th:only-of-type {\n",
       "        vertical-align: middle;\n",
       "    }\n",
       "\n",
       "    .dataframe tbody tr th {\n",
       "        vertical-align: top;\n",
       "    }\n",
       "\n",
       "    .dataframe thead th {\n",
       "        text-align: right;\n",
       "    }\n",
       "</style>\n",
       "<table border=\"1\" class=\"dataframe\">\n",
       "  <thead>\n",
       "    <tr style=\"text-align: right;\">\n",
       "      <th></th>\n",
       "      <th>Case_No</th>\n",
       "      <th>A1</th>\n",
       "      <th>A2</th>\n",
       "      <th>A3</th>\n",
       "      <th>A4</th>\n",
       "      <th>A5</th>\n",
       "      <th>A6</th>\n",
       "      <th>A7</th>\n",
       "      <th>A8</th>\n",
       "      <th>A9</th>\n",
       "      <th>A10</th>\n",
       "      <th>Age_Mons</th>\n",
       "      <th>Qchat-10-Score</th>\n",
       "    </tr>\n",
       "  </thead>\n",
       "  <tbody>\n",
       "    <tr>\n",
       "      <th>count</th>\n",
       "      <td>1054.000000</td>\n",
       "      <td>1054.000000</td>\n",
       "      <td>1054.000000</td>\n",
       "      <td>1054.000000</td>\n",
       "      <td>1054.000000</td>\n",
       "      <td>1054.000000</td>\n",
       "      <td>1054.000000</td>\n",
       "      <td>1054.000000</td>\n",
       "      <td>1054.000000</td>\n",
       "      <td>1054.000000</td>\n",
       "      <td>1054.000000</td>\n",
       "      <td>1054.000000</td>\n",
       "      <td>1054.000000</td>\n",
       "    </tr>\n",
       "    <tr>\n",
       "      <th>mean</th>\n",
       "      <td>527.500000</td>\n",
       "      <td>0.563567</td>\n",
       "      <td>0.448767</td>\n",
       "      <td>0.401328</td>\n",
       "      <td>0.512334</td>\n",
       "      <td>0.524668</td>\n",
       "      <td>0.576850</td>\n",
       "      <td>0.649905</td>\n",
       "      <td>0.459203</td>\n",
       "      <td>0.489564</td>\n",
       "      <td>0.586338</td>\n",
       "      <td>27.867173</td>\n",
       "      <td>5.212524</td>\n",
       "    </tr>\n",
       "    <tr>\n",
       "      <th>std</th>\n",
       "      <td>304.407895</td>\n",
       "      <td>0.496178</td>\n",
       "      <td>0.497604</td>\n",
       "      <td>0.490400</td>\n",
       "      <td>0.500085</td>\n",
       "      <td>0.499628</td>\n",
       "      <td>0.494293</td>\n",
       "      <td>0.477226</td>\n",
       "      <td>0.498569</td>\n",
       "      <td>0.500128</td>\n",
       "      <td>0.492723</td>\n",
       "      <td>7.980354</td>\n",
       "      <td>2.907304</td>\n",
       "    </tr>\n",
       "    <tr>\n",
       "      <th>min</th>\n",
       "      <td>1.000000</td>\n",
       "      <td>0.000000</td>\n",
       "      <td>0.000000</td>\n",
       "      <td>0.000000</td>\n",
       "      <td>0.000000</td>\n",
       "      <td>0.000000</td>\n",
       "      <td>0.000000</td>\n",
       "      <td>0.000000</td>\n",
       "      <td>0.000000</td>\n",
       "      <td>0.000000</td>\n",
       "      <td>0.000000</td>\n",
       "      <td>12.000000</td>\n",
       "      <td>0.000000</td>\n",
       "    </tr>\n",
       "    <tr>\n",
       "      <th>25%</th>\n",
       "      <td>264.250000</td>\n",
       "      <td>0.000000</td>\n",
       "      <td>0.000000</td>\n",
       "      <td>0.000000</td>\n",
       "      <td>0.000000</td>\n",
       "      <td>0.000000</td>\n",
       "      <td>0.000000</td>\n",
       "      <td>0.000000</td>\n",
       "      <td>0.000000</td>\n",
       "      <td>0.000000</td>\n",
       "      <td>0.000000</td>\n",
       "      <td>23.000000</td>\n",
       "      <td>3.000000</td>\n",
       "    </tr>\n",
       "    <tr>\n",
       "      <th>50%</th>\n",
       "      <td>527.500000</td>\n",
       "      <td>1.000000</td>\n",
       "      <td>0.000000</td>\n",
       "      <td>0.000000</td>\n",
       "      <td>1.000000</td>\n",
       "      <td>1.000000</td>\n",
       "      <td>1.000000</td>\n",
       "      <td>1.000000</td>\n",
       "      <td>0.000000</td>\n",
       "      <td>0.000000</td>\n",
       "      <td>1.000000</td>\n",
       "      <td>30.000000</td>\n",
       "      <td>5.000000</td>\n",
       "    </tr>\n",
       "    <tr>\n",
       "      <th>75%</th>\n",
       "      <td>790.750000</td>\n",
       "      <td>1.000000</td>\n",
       "      <td>1.000000</td>\n",
       "      <td>1.000000</td>\n",
       "      <td>1.000000</td>\n",
       "      <td>1.000000</td>\n",
       "      <td>1.000000</td>\n",
       "      <td>1.000000</td>\n",
       "      <td>1.000000</td>\n",
       "      <td>1.000000</td>\n",
       "      <td>1.000000</td>\n",
       "      <td>36.000000</td>\n",
       "      <td>8.000000</td>\n",
       "    </tr>\n",
       "    <tr>\n",
       "      <th>max</th>\n",
       "      <td>1054.000000</td>\n",
       "      <td>1.000000</td>\n",
       "      <td>1.000000</td>\n",
       "      <td>1.000000</td>\n",
       "      <td>1.000000</td>\n",
       "      <td>1.000000</td>\n",
       "      <td>1.000000</td>\n",
       "      <td>1.000000</td>\n",
       "      <td>1.000000</td>\n",
       "      <td>1.000000</td>\n",
       "      <td>1.000000</td>\n",
       "      <td>36.000000</td>\n",
       "      <td>10.000000</td>\n",
       "    </tr>\n",
       "  </tbody>\n",
       "</table>\n",
       "</div>"
      ],
      "text/plain": [
       "           Case_No           A1           A2           A3           A4  \\\n",
       "count  1054.000000  1054.000000  1054.000000  1054.000000  1054.000000   \n",
       "mean    527.500000     0.563567     0.448767     0.401328     0.512334   \n",
       "std     304.407895     0.496178     0.497604     0.490400     0.500085   \n",
       "min       1.000000     0.000000     0.000000     0.000000     0.000000   \n",
       "25%     264.250000     0.000000     0.000000     0.000000     0.000000   \n",
       "50%     527.500000     1.000000     0.000000     0.000000     1.000000   \n",
       "75%     790.750000     1.000000     1.000000     1.000000     1.000000   \n",
       "max    1054.000000     1.000000     1.000000     1.000000     1.000000   \n",
       "\n",
       "                A5           A6           A7           A8           A9  \\\n",
       "count  1054.000000  1054.000000  1054.000000  1054.000000  1054.000000   \n",
       "mean      0.524668     0.576850     0.649905     0.459203     0.489564   \n",
       "std       0.499628     0.494293     0.477226     0.498569     0.500128   \n",
       "min       0.000000     0.000000     0.000000     0.000000     0.000000   \n",
       "25%       0.000000     0.000000     0.000000     0.000000     0.000000   \n",
       "50%       1.000000     1.000000     1.000000     0.000000     0.000000   \n",
       "75%       1.000000     1.000000     1.000000     1.000000     1.000000   \n",
       "max       1.000000     1.000000     1.000000     1.000000     1.000000   \n",
       "\n",
       "               A10     Age_Mons  Qchat-10-Score  \n",
       "count  1054.000000  1054.000000     1054.000000  \n",
       "mean      0.586338    27.867173        5.212524  \n",
       "std       0.492723     7.980354        2.907304  \n",
       "min       0.000000    12.000000        0.000000  \n",
       "25%       0.000000    23.000000        3.000000  \n",
       "50%       1.000000    30.000000        5.000000  \n",
       "75%       1.000000    36.000000        8.000000  \n",
       "max       1.000000    36.000000       10.000000  "
      ]
     },
     "execution_count": 5,
     "metadata": {},
     "output_type": "execute_result"
    }
   ],
   "source": [
    "df.describe()"
   ]
  },
  {
   "cell_type": "code",
   "execution_count": 6,
   "metadata": {},
   "outputs": [
    {
     "data": {
      "text/plain": [
       "Index(['Case_No', 'A1', 'A2', 'A3', 'A4', 'A5', 'A6', 'A7', 'A8', 'A9', 'A10',\n",
       "       'Age_Mons', 'Qchat-10-Score', 'Sex', 'Ethnicity', 'Jaundice',\n",
       "       'Family_mem_with_ASD', 'Who completed the test', 'Class/ASD Traits '],\n",
       "      dtype='object')"
      ]
     },
     "execution_count": 6,
     "metadata": {},
     "output_type": "execute_result"
    }
   ],
   "source": [
    "df.columns"
   ]
  },
  {
   "cell_type": "code",
   "execution_count": 7,
   "metadata": {},
   "outputs": [
    {
     "data": {
      "text/plain": [
       "(1054, 19)"
      ]
     },
     "execution_count": 7,
     "metadata": {},
     "output_type": "execute_result"
    }
   ],
   "source": [
    "df.shape"
   ]
  },
  {
   "cell_type": "code",
   "execution_count": 8,
   "metadata": {},
   "outputs": [],
   "source": [
    "def summarize_dataset(df):\n",
    "    print(df.info())\n",
    "    print('This dataset has 1054 rows and 19 columns')"
   ]
  },
  {
   "cell_type": "code",
   "execution_count": 9,
   "metadata": {},
   "outputs": [
    {
     "name": "stdout",
     "output_type": "stream",
     "text": [
      "<class 'pandas.core.frame.DataFrame'>\n",
      "RangeIndex: 1054 entries, 0 to 1053\n",
      "Data columns (total 19 columns):\n",
      " #   Column                  Non-Null Count  Dtype \n",
      "---  ------                  --------------  ----- \n",
      " 0   Case_No                 1054 non-null   int64 \n",
      " 1   A1                      1054 non-null   int64 \n",
      " 2   A2                      1054 non-null   int64 \n",
      " 3   A3                      1054 non-null   int64 \n",
      " 4   A4                      1054 non-null   int64 \n",
      " 5   A5                      1054 non-null   int64 \n",
      " 6   A6                      1054 non-null   int64 \n",
      " 7   A7                      1054 non-null   int64 \n",
      " 8   A8                      1054 non-null   int64 \n",
      " 9   A9                      1054 non-null   int64 \n",
      " 10  A10                     1054 non-null   int64 \n",
      " 11  Age_Mons                1054 non-null   int64 \n",
      " 12  Qchat-10-Score          1054 non-null   int64 \n",
      " 13  Sex                     1054 non-null   object\n",
      " 14  Ethnicity               1054 non-null   object\n",
      " 15  Jaundice                1054 non-null   object\n",
      " 16  Family_mem_with_ASD     1054 non-null   object\n",
      " 17  Who completed the test  1054 non-null   object\n",
      " 18  Class/ASD Traits        1054 non-null   object\n",
      "dtypes: int64(13), object(6)\n",
      "memory usage: 156.6+ KB\n",
      "None\n",
      "This dataset has 1054 rows and 19 columns\n"
     ]
    }
   ],
   "source": [
    "summarize_dataset(df)"
   ]
  },
  {
   "cell_type": "code",
   "execution_count": 10,
   "metadata": {},
   "outputs": [
    {
     "data": {
      "text/plain": [
       "Case_No                   0\n",
       "A1                        0\n",
       "A2                        0\n",
       "A3                        0\n",
       "A4                        0\n",
       "A5                        0\n",
       "A6                        0\n",
       "A7                        0\n",
       "A8                        0\n",
       "A9                        0\n",
       "A10                       0\n",
       "Age_Mons                  0\n",
       "Qchat-10-Score            0\n",
       "Sex                       0\n",
       "Ethnicity                 0\n",
       "Jaundice                  0\n",
       "Family_mem_with_ASD       0\n",
       "Who completed the test    0\n",
       "Class/ASD Traits          0\n",
       "dtype: int64"
      ]
     },
     "execution_count": 10,
     "metadata": {},
     "output_type": "execute_result"
    }
   ],
   "source": [
    "df.isna().sum()"
   ]
  },
  {
   "cell_type": "code",
   "execution_count": 11,
   "metadata": {},
   "outputs": [
    {
     "data": {
      "text/plain": [
       "36    320\n",
       "24     70\n",
       "12     67\n",
       "30     67\n",
       "28     42\n",
       "33     36\n",
       "26     36\n",
       "34     34\n",
       "15     31\n",
       "31     30\n",
       "35     30\n",
       "32     30\n",
       "23     28\n",
       "22     27\n",
       "25     26\n",
       "29     24\n",
       "27     23\n",
       "19     21\n",
       "20     21\n",
       "14     19\n",
       "13     18\n",
       "18     16\n",
       "16     13\n",
       "21     13\n",
       "17     12\n",
       "Name: Age_Mons, dtype: int64"
      ]
     },
     "execution_count": 11,
     "metadata": {},
     "output_type": "execute_result"
    }
   ],
   "source": [
    "df.Age_Mons.value_counts()"
   ]
  },
  {
   "cell_type": "code",
   "execution_count": 12,
   "metadata": {},
   "outputs": [
    {
     "data": {
      "text/plain": [
       "White European    334\n",
       "asian             299\n",
       "middle eastern    188\n",
       "south asian        60\n",
       "black              53\n",
       "Hispanic           40\n",
       "Others             35\n",
       "Latino             26\n",
       "Pacifica            8\n",
       "mixed               8\n",
       "Native Indian       3\n",
       "Name: Ethnicity, dtype: int64"
      ]
     },
     "execution_count": 12,
     "metadata": {},
     "output_type": "execute_result"
    }
   ],
   "source": [
    "df.Ethnicity.value_counts()"
   ]
  },
  {
   "cell_type": "code",
   "execution_count": 13,
   "metadata": {},
   "outputs": [
    {
     "data": {
      "text/plain": [
       "no     766\n",
       "yes    288\n",
       "Name: Jaundice, dtype: int64"
      ]
     },
     "execution_count": 13,
     "metadata": {},
     "output_type": "execute_result"
    }
   ],
   "source": [
    "df.Jaundice.value_counts()"
   ]
  },
  {
   "cell_type": "code",
   "execution_count": 14,
   "metadata": {},
   "outputs": [
    {
     "data": {
      "text/plain": [
       "no     884\n",
       "yes    170\n",
       "Name: Family_mem_with_ASD, dtype: int64"
      ]
     },
     "execution_count": 14,
     "metadata": {},
     "output_type": "execute_result"
    }
   ],
   "source": [
    "df.Family_mem_with_ASD.value_counts()"
   ]
  },
  {
   "cell_type": "code",
   "execution_count": 15,
   "metadata": {},
   "outputs": [
    {
     "data": {
      "text/plain": [
       "Index(['Case_No', 'A1', 'A2', 'A3', 'A4', 'A5', 'A6', 'A7', 'A8', 'A9', 'A10',\n",
       "       'Age_Mons', 'Qchat-10-Score', 'Sex', 'Ethnicity', 'Jaundice',\n",
       "       'Family_mem_with_ASD', 'Who completed the test', 'Class/ASD Traits '],\n",
       "      dtype='object')"
      ]
     },
     "execution_count": 15,
     "metadata": {},
     "output_type": "execute_result"
    }
   ],
   "source": [
    "df.columns"
   ]
  },
  {
   "cell_type": "code",
   "execution_count": 16,
   "metadata": {},
   "outputs": [
    {
     "data": {
      "image/png": "[encoded data removed]",
      "text/plain": [
       "<Figure size 1728x1008 with 9 Axes>"
      ]
     },
     "metadata": {
      "needs_background": "light"
     },
     "output_type": "display_data"
    }
   ],
   "source": [
    "#Subplots of individual features\n",
    "plt.figure(figsize=(24, 14))\n",
    "\n",
    "plt.subplot(331)\n",
    "sns.countplot(df.A1)\n",
    "plt.title('Does your child look at you when you call his/her name?')\n",
    "\n",
    "plt.subplot(332)\n",
    "sns.countplot(df.A2)\n",
    "plt.title('How easy is it for you to get eye contact with your child? ')\n",
    "\n",
    "plt.subplot(333)\n",
    "sns.countplot(df.A3)\n",
    "plt.title('Does your child point to indicate that s/he wants something?')\n",
    "\n",
    "plt.subplot(334)\n",
    "sns.countplot(df.A4)\n",
    "plt.title('Does your child point to share interest with you?')\n",
    "\n",
    "plt.subplot(335)\n",
    "sns.countplot(df.A5)\n",
    "plt.title('Does your child pretend?')\n",
    "\n",
    "plt.subplot(336)\n",
    "sns.countplot(df.A6)\n",
    "plt.title('Does your child follow where you’re looking? ')\n",
    "\n",
    "plt.subplot(337)\n",
    "sns.countplot(df.A7)\n",
    "plt.title('If you or someone else in the family is visibly upset, does your child show signs of wanting to comfort them?')\n",
    "\n",
    "plt.subplot(338)\n",
    "sns.countplot(df.A8)\n",
    "plt.title('Would you describe your child’s first words as:')\n",
    "\n",
    "plt.subplot(339)\n",
    "sns.countplot(df.A9)\n",
    "plt.title('Does your child use simple gestures?')\n",
    "\n",
    "#plt.subplot(3310)\n",
    "#sns.countplot(df.A10)\n",
    "#plt.title('Does your child stare at nothing with no apparent purpose?')\n",
    "\n",
    "plt.tight_layout()\n",
    "plt.show()"
   ]
  },
  {
   "cell_type": "markdown",
   "metadata": {},
   "source": [
    "## Prepare"
   ]
  },
  {
   "cell_type": "markdown",
   "metadata": {},
   "source": [
    "#### Wrangle Function"
   ]
  },
  {
   "cell_type": "code",
   "execution_count": 60,
   "metadata": {},
   "outputs": [],
   "source": [
    "def wrangle_autism():\n",
    "    '''\n",
    "    This function will acquire data locally and turn dataset into\n",
    "    a clean dataframe\n",
    "    '''\n",
    "    df = pd.read_csv('Toddler Autism dataset July 2018.csv')\n",
    "    df.rename(columns={'A1': 'name_response', \n",
    "                       'A2': 'eye_contact', \n",
    "                       'A3': 'pointing', \n",
    "                       'A4': 'shared_interest', \n",
    "                       'A5': 'pretend_play', \n",
    "                       'A6': 'joint_attention', \n",
    "                       'A7': 'emotions',\n",
    "                       'A8': 'vocal',\n",
    "                       'A9': 'gestures',\n",
    "                       'A10': 'blank_gaze',\n",
    "                       'Age_Mons': 'age',\n",
    "                       'Sex': 'sex',\n",
    "                       'Ethnicity': 'ethnicity',\n",
    "                       'Jaundice': 'jaundice',\n",
    "                       'Family_mem_with_ASD': 'family_mem_with_asd',\n",
    "                       'Class/ASD Traits ': 'asd_traits'}, inplace=True)\n",
    "    binary(df)\n",
    "    dummies = pd.get_dummies(df[['sex']], drop_first=True)\n",
    "    df = pd.concat([df, dummies], axis=1) \n",
    "    df['asd_traits'] = df[['asd_traits']].replace({'No': 0, 'Yes': 1})\n",
    "    df['ethnicity'] = df[['ethnicity']].replace({'White European': 1,\n",
    "                                             'asian': 2, \n",
    "                                             'middle eastern': 3, \n",
    "                                             'south asian': 2, \n",
    "                                             'black': 4, \n",
    "                                             'Hispanic': 5, \n",
    "                                             'Others': 6, \n",
    "                                             'Latino': 5, \n",
    "                                             'mixed': 6,\n",
    "                                             'Pacifica': 6,\n",
    "                                             'Native Indian': 6})\n",
    "    df.drop(columns = ['Qchat-10-Score', 'Who completed the test', 'sex'], inplace=True)\n",
    "    df = df.set_index('Case_No')\n",
    "    return df\n",
    "                   "
   ]
  },
  {
   "cell_type": "markdown",
   "metadata": {},
   "source": [
    "#### Rename Columns"
   ]
  },
  {
   "cell_type": "code",
   "execution_count": 18,
   "metadata": {},
   "outputs": [
    {
     "data": {
      "text/plain": [
       "Index(['Case_No', 'A1', 'A2', 'A3', 'A4', 'A5', 'A6', 'A7', 'A8', 'A9', 'A10',\n",
       "       'Age_Mons', 'Qchat-10-Score', 'Sex', 'Ethnicity', 'Jaundice',\n",
       "       'Family_mem_with_ASD', 'Who completed the test', 'Class/ASD Traits '],\n",
       "      dtype='object')"
      ]
     },
     "execution_count": 18,
     "metadata": {},
     "output_type": "execute_result"
    }
   ],
   "source": [
    "df.columns"
   ]
  },
  {
   "cell_type": "code",
   "execution_count": 19,
   "metadata": {},
   "outputs": [],
   "source": [
    "df.rename(columns={'A1': 'name_response', \n",
    "                   'A2': 'eye_contact', \n",
    "                   'A3': 'pointing', \n",
    "                   'A4': 'shared_interest', \n",
    "                   'A5': 'pretend_play', \n",
    "                   'A6': 'joint_attention', \n",
    "                   'A7': 'emotions',\n",
    "                   'A8': 'vocal',\n",
    "                   'A9': 'gestures',\n",
    "                   'A10': 'blank_gaze',\n",
    "                   'Age_Mons': 'age',\n",
    "                   'Sex': 'sex',\n",
    "                   'Ethnicity': 'ethnicity',\n",
    "                   'Jaundice': 'jaundice',\n",
    "                   'Family_mem_with_ASD': 'family_mem_with_asd',\n",
    "                   'Class/ASD Traits ': 'asd_traits'}, inplace=True)\n",
    "                   \n",
    "                   \n",
    "                   "
   ]
  },
  {
   "cell_type": "code",
   "execution_count": 20,
   "metadata": {
    "scrolled": true
   },
   "outputs": [
    {
     "data": {
      "text/html": [
       "<div>\n",
       "<style scoped>\n",
       "    .dataframe tbody tr th:only-of-type {\n",
       "        vertical-align: middle;\n",
       "    }\n",
       "\n",
       "    .dataframe tbody tr th {\n",
       "        vertical-align: top;\n",
       "    }\n",
       "\n",
       "    .dataframe thead th {\n",
       "        text-align: right;\n",
       "    }\n",
       "</style>\n",
       "<table border=\"1\" class=\"dataframe\">\n",
       "  <thead>\n",
       "    <tr style=\"text-align: right;\">\n",
       "      <th></th>\n",
       "      <th>Case_No</th>\n",
       "      <th>name_response</th>\n",
       "      <th>eye_contact</th>\n",
       "      <th>pointing</th>\n",
       "      <th>shared_interest</th>\n",
       "      <th>pretend_play</th>\n",
       "      <th>joint_attention</th>\n",
       "      <th>emotions</th>\n",
       "      <th>vocal</th>\n",
       "      <th>gestures</th>\n",
       "      <th>blank_gaze</th>\n",
       "      <th>age</th>\n",
       "      <th>Qchat-10-Score</th>\n",
       "      <th>sex</th>\n",
       "      <th>ethnicity</th>\n",
       "      <th>jaundice</th>\n",
       "      <th>family_mem_with_asd</th>\n",
       "      <th>Who completed the test</th>\n",
       "      <th>asd_traits</th>\n",
       "    </tr>\n",
       "  </thead>\n",
       "  <tbody>\n",
       "    <tr>\n",
       "      <th>0</th>\n",
       "      <td>1</td>\n",
       "      <td>0</td>\n",
       "      <td>0</td>\n",
       "      <td>0</td>\n",
       "      <td>0</td>\n",
       "      <td>0</td>\n",
       "      <td>0</td>\n",
       "      <td>1</td>\n",
       "      <td>1</td>\n",
       "      <td>0</td>\n",
       "      <td>1</td>\n",
       "      <td>28</td>\n",
       "      <td>3</td>\n",
       "      <td>f</td>\n",
       "      <td>middle eastern</td>\n",
       "      <td>yes</td>\n",
       "      <td>no</td>\n",
       "      <td>family member</td>\n",
       "      <td>No</td>\n",
       "    </tr>\n",
       "    <tr>\n",
       "      <th>1</th>\n",
       "      <td>2</td>\n",
       "      <td>1</td>\n",
       "      <td>1</td>\n",
       "      <td>0</td>\n",
       "      <td>0</td>\n",
       "      <td>0</td>\n",
       "      <td>1</td>\n",
       "      <td>1</td>\n",
       "      <td>0</td>\n",
       "      <td>0</td>\n",
       "      <td>0</td>\n",
       "      <td>36</td>\n",
       "      <td>4</td>\n",
       "      <td>m</td>\n",
       "      <td>White European</td>\n",
       "      <td>yes</td>\n",
       "      <td>no</td>\n",
       "      <td>family member</td>\n",
       "      <td>Yes</td>\n",
       "    </tr>\n",
       "    <tr>\n",
       "      <th>2</th>\n",
       "      <td>3</td>\n",
       "      <td>1</td>\n",
       "      <td>0</td>\n",
       "      <td>0</td>\n",
       "      <td>0</td>\n",
       "      <td>0</td>\n",
       "      <td>0</td>\n",
       "      <td>1</td>\n",
       "      <td>1</td>\n",
       "      <td>0</td>\n",
       "      <td>1</td>\n",
       "      <td>36</td>\n",
       "      <td>4</td>\n",
       "      <td>m</td>\n",
       "      <td>middle eastern</td>\n",
       "      <td>yes</td>\n",
       "      <td>no</td>\n",
       "      <td>family member</td>\n",
       "      <td>Yes</td>\n",
       "    </tr>\n",
       "    <tr>\n",
       "      <th>3</th>\n",
       "      <td>4</td>\n",
       "      <td>1</td>\n",
       "      <td>1</td>\n",
       "      <td>1</td>\n",
       "      <td>1</td>\n",
       "      <td>1</td>\n",
       "      <td>1</td>\n",
       "      <td>1</td>\n",
       "      <td>1</td>\n",
       "      <td>1</td>\n",
       "      <td>1</td>\n",
       "      <td>24</td>\n",
       "      <td>10</td>\n",
       "      <td>m</td>\n",
       "      <td>Hispanic</td>\n",
       "      <td>no</td>\n",
       "      <td>no</td>\n",
       "      <td>family member</td>\n",
       "      <td>Yes</td>\n",
       "    </tr>\n",
       "    <tr>\n",
       "      <th>4</th>\n",
       "      <td>5</td>\n",
       "      <td>1</td>\n",
       "      <td>1</td>\n",
       "      <td>0</td>\n",
       "      <td>1</td>\n",
       "      <td>1</td>\n",
       "      <td>1</td>\n",
       "      <td>1</td>\n",
       "      <td>1</td>\n",
       "      <td>1</td>\n",
       "      <td>1</td>\n",
       "      <td>20</td>\n",
       "      <td>9</td>\n",
       "      <td>f</td>\n",
       "      <td>White European</td>\n",
       "      <td>no</td>\n",
       "      <td>yes</td>\n",
       "      <td>family member</td>\n",
       "      <td>Yes</td>\n",
       "    </tr>\n",
       "  </tbody>\n",
       "</table>\n",
       "</div>"
      ],
      "text/plain": [
       "   Case_No  name_response  eye_contact  pointing  shared_interest  \\\n",
       "0        1              0            0         0                0   \n",
       "1        2              1            1         0                0   \n",
       "2        3              1            0         0                0   \n",
       "3        4              1            1         1                1   \n",
       "4        5              1            1         0                1   \n",
       "\n",
       "   pretend_play  joint_attention  emotions  vocal  gestures  blank_gaze  age  \\\n",
       "0             0                0         1      1         0           1   28   \n",
       "1             0                1         1      0         0           0   36   \n",
       "2             0                0         1      1         0           1   36   \n",
       "3             1                1         1      1         1           1   24   \n",
       "4             1                1         1      1         1           1   20   \n",
       "\n",
       "   Qchat-10-Score sex       ethnicity jaundice family_mem_with_asd  \\\n",
       "0               3   f  middle eastern      yes                  no   \n",
       "1               4   m  White European      yes                  no   \n",
       "2               4   m  middle eastern      yes                  no   \n",
       "3              10   m        Hispanic       no                  no   \n",
       "4               9   f  White European       no                 yes   \n",
       "\n",
       "  Who completed the test asd_traits  \n",
       "0          family member         No  \n",
       "1          family member        Yes  \n",
       "2          family member        Yes  \n",
       "3          family member        Yes  \n",
       "4          family member        Yes  "
      ]
     },
     "execution_count": 20,
     "metadata": {},
     "output_type": "execute_result"
    }
   ],
   "source": [
    "df.head()"
   ]
  },
  {
   "cell_type": "code",
   "execution_count": 21,
   "metadata": {},
   "outputs": [],
   "source": [
    "df.drop(columns = ['Qchat-10-Score', 'Who completed the test'], inplace=True)"
   ]
  },
  {
   "cell_type": "code",
   "execution_count": 22,
   "metadata": {},
   "outputs": [],
   "source": [
    "df = wrangle_autism()"
   ]
  },
  {
   "cell_type": "code",
   "execution_count": 23,
   "metadata": {},
   "outputs": [
    {
     "data": {
      "text/html": [
       "<div>\n",
       "<style scoped>\n",
       "    .dataframe tbody tr th:only-of-type {\n",
       "        vertical-align: middle;\n",
       "    }\n",
       "\n",
       "    .dataframe tbody tr th {\n",
       "        vertical-align: top;\n",
       "    }\n",
       "\n",
       "    .dataframe thead th {\n",
       "        text-align: right;\n",
       "    }\n",
       "</style>\n",
       "<table border=\"1\" class=\"dataframe\">\n",
       "  <thead>\n",
       "    <tr style=\"text-align: right;\">\n",
       "      <th></th>\n",
       "      <th>name_response</th>\n",
       "      <th>eye_contact</th>\n",
       "      <th>pointing</th>\n",
       "      <th>shared_interest</th>\n",
       "      <th>pretend_play</th>\n",
       "      <th>joint_attention</th>\n",
       "      <th>emotions</th>\n",
       "      <th>vocal</th>\n",
       "      <th>gestures</th>\n",
       "      <th>blank_gaze</th>\n",
       "      <th>age</th>\n",
       "      <th>sex</th>\n",
       "      <th>ethnicity</th>\n",
       "      <th>jaundice</th>\n",
       "      <th>family_mem_with_asd</th>\n",
       "      <th>asd_traits</th>\n",
       "    </tr>\n",
       "    <tr>\n",
       "      <th>Case_No</th>\n",
       "      <th></th>\n",
       "      <th></th>\n",
       "      <th></th>\n",
       "      <th></th>\n",
       "      <th></th>\n",
       "      <th></th>\n",
       "      <th></th>\n",
       "      <th></th>\n",
       "      <th></th>\n",
       "      <th></th>\n",
       "      <th></th>\n",
       "      <th></th>\n",
       "      <th></th>\n",
       "      <th></th>\n",
       "      <th></th>\n",
       "      <th></th>\n",
       "    </tr>\n",
       "  </thead>\n",
       "  <tbody>\n",
       "    <tr>\n",
       "      <th>1</th>\n",
       "      <td>0</td>\n",
       "      <td>0</td>\n",
       "      <td>0</td>\n",
       "      <td>0</td>\n",
       "      <td>0</td>\n",
       "      <td>0</td>\n",
       "      <td>1</td>\n",
       "      <td>1</td>\n",
       "      <td>0</td>\n",
       "      <td>1</td>\n",
       "      <td>28</td>\n",
       "      <td>f</td>\n",
       "      <td>middle eastern</td>\n",
       "      <td>yes</td>\n",
       "      <td>no</td>\n",
       "      <td>No</td>\n",
       "    </tr>\n",
       "    <tr>\n",
       "      <th>2</th>\n",
       "      <td>1</td>\n",
       "      <td>1</td>\n",
       "      <td>0</td>\n",
       "      <td>0</td>\n",
       "      <td>0</td>\n",
       "      <td>1</td>\n",
       "      <td>1</td>\n",
       "      <td>0</td>\n",
       "      <td>0</td>\n",
       "      <td>0</td>\n",
       "      <td>36</td>\n",
       "      <td>m</td>\n",
       "      <td>White European</td>\n",
       "      <td>yes</td>\n",
       "      <td>no</td>\n",
       "      <td>Yes</td>\n",
       "    </tr>\n",
       "    <tr>\n",
       "      <th>3</th>\n",
       "      <td>1</td>\n",
       "      <td>0</td>\n",
       "      <td>0</td>\n",
       "      <td>0</td>\n",
       "      <td>0</td>\n",
       "      <td>0</td>\n",
       "      <td>1</td>\n",
       "      <td>1</td>\n",
       "      <td>0</td>\n",
       "      <td>1</td>\n",
       "      <td>36</td>\n",
       "      <td>m</td>\n",
       "      <td>middle eastern</td>\n",
       "      <td>yes</td>\n",
       "      <td>no</td>\n",
       "      <td>Yes</td>\n",
       "    </tr>\n",
       "    <tr>\n",
       "      <th>4</th>\n",
       "      <td>1</td>\n",
       "      <td>1</td>\n",
       "      <td>1</td>\n",
       "      <td>1</td>\n",
       "      <td>1</td>\n",
       "      <td>1</td>\n",
       "      <td>1</td>\n",
       "      <td>1</td>\n",
       "      <td>1</td>\n",
       "      <td>1</td>\n",
       "      <td>24</td>\n",
       "      <td>m</td>\n",
       "      <td>Hispanic</td>\n",
       "      <td>no</td>\n",
       "      <td>no</td>\n",
       "      <td>Yes</td>\n",
       "    </tr>\n",
       "    <tr>\n",
       "      <th>5</th>\n",
       "      <td>1</td>\n",
       "      <td>1</td>\n",
       "      <td>0</td>\n",
       "      <td>1</td>\n",
       "      <td>1</td>\n",
       "      <td>1</td>\n",
       "      <td>1</td>\n",
       "      <td>1</td>\n",
       "      <td>1</td>\n",
       "      <td>1</td>\n",
       "      <td>20</td>\n",
       "      <td>f</td>\n",
       "      <td>White European</td>\n",
       "      <td>no</td>\n",
       "      <td>yes</td>\n",
       "      <td>Yes</td>\n",
       "    </tr>\n",
       "  </tbody>\n",
       "</table>\n",
       "</div>"
      ],
      "text/plain": [
       "         name_response  eye_contact  pointing  shared_interest  pretend_play  \\\n",
       "Case_No                                                                        \n",
       "1                    0            0         0                0             0   \n",
       "2                    1            1         0                0             0   \n",
       "3                    1            0         0                0             0   \n",
       "4                    1            1         1                1             1   \n",
       "5                    1            1         0                1             1   \n",
       "\n",
       "         joint_attention  emotions  vocal  gestures  blank_gaze  age sex  \\\n",
       "Case_No                                                                    \n",
       "1                      0         1      1         0           1   28   f   \n",
       "2                      1         1      0         0           0   36   m   \n",
       "3                      0         1      1         0           1   36   m   \n",
       "4                      1         1      1         1           1   24   m   \n",
       "5                      1         1      1         1           1   20   f   \n",
       "\n",
       "              ethnicity jaundice family_mem_with_asd asd_traits  \n",
       "Case_No                                                          \n",
       "1        middle eastern      yes                  no         No  \n",
       "2        White European      yes                  no        Yes  \n",
       "3        middle eastern      yes                  no        Yes  \n",
       "4              Hispanic       no                  no        Yes  \n",
       "5        White European       no                 yes        Yes  "
      ]
     },
     "execution_count": 23,
     "metadata": {},
     "output_type": "execute_result"
    }
   ],
   "source": [
    "df.head()"
   ]
  },
  {
   "cell_type": "code",
   "execution_count": 24,
   "metadata": {},
   "outputs": [],
   "source": [
    "dummies = pd.get_dummies(df[['sex']], drop_first=True)\n",
    "df = pd.concat([df, dummies], axis=1)                        \n"
   ]
  },
  {
   "cell_type": "code",
   "execution_count": 25,
   "metadata": {},
   "outputs": [],
   "source": [
    "#function to change columns from yes/no to o/1\n",
    "def binary(df):\n",
    "    binary_columns = ['jaundice','family_mem_with_asd', 'family_mem_with_asd']\n",
    "    for feature in binary_columns:\n",
    "        df[feature].replace(to_replace='yes', value=1, inplace=True)\n",
    "        df[feature].replace(to_replace='no', value=0, inplace=True)"
   ]
  },
  {
   "cell_type": "code",
   "execution_count": 26,
   "metadata": {},
   "outputs": [],
   "source": [
    "binary(df)"
   ]
  },
  {
   "cell_type": "code",
   "execution_count": 62,
   "metadata": {},
   "outputs": [],
   "source": [
    "df.drop(columns = ['sex'], inplace=True)"
   ]
  },
  {
   "cell_type": "code",
   "execution_count": 63,
   "metadata": {},
   "outputs": [
    {
     "data": {
      "text/html": [
       "<div>\n",
       "<style scoped>\n",
       "    .dataframe tbody tr th:only-of-type {\n",
       "        vertical-align: middle;\n",
       "    }\n",
       "\n",
       "    .dataframe tbody tr th {\n",
       "        vertical-align: top;\n",
       "    }\n",
       "\n",
       "    .dataframe thead th {\n",
       "        text-align: right;\n",
       "    }\n",
       "</style>\n",
       "<table border=\"1\" class=\"dataframe\">\n",
       "  <thead>\n",
       "    <tr style=\"text-align: right;\">\n",
       "      <th></th>\n",
       "      <th>name_response</th>\n",
       "      <th>eye_contact</th>\n",
       "      <th>pointing</th>\n",
       "      <th>shared_interest</th>\n",
       "      <th>pretend_play</th>\n",
       "      <th>joint_attention</th>\n",
       "      <th>emotions</th>\n",
       "      <th>vocal</th>\n",
       "      <th>gestures</th>\n",
       "      <th>blank_gaze</th>\n",
       "      <th>age</th>\n",
       "      <th>ethnicity</th>\n",
       "      <th>jaundice</th>\n",
       "      <th>family_mem_with_asd</th>\n",
       "      <th>asd_traits</th>\n",
       "      <th>sex_m</th>\n",
       "    </tr>\n",
       "    <tr>\n",
       "      <th>Case_No</th>\n",
       "      <th></th>\n",
       "      <th></th>\n",
       "      <th></th>\n",
       "      <th></th>\n",
       "      <th></th>\n",
       "      <th></th>\n",
       "      <th></th>\n",
       "      <th></th>\n",
       "      <th></th>\n",
       "      <th></th>\n",
       "      <th></th>\n",
       "      <th></th>\n",
       "      <th></th>\n",
       "      <th></th>\n",
       "      <th></th>\n",
       "      <th></th>\n",
       "    </tr>\n",
       "  </thead>\n",
       "  <tbody>\n",
       "    <tr>\n",
       "      <th>1</th>\n",
       "      <td>0</td>\n",
       "      <td>0</td>\n",
       "      <td>0</td>\n",
       "      <td>0</td>\n",
       "      <td>0</td>\n",
       "      <td>0</td>\n",
       "      <td>1</td>\n",
       "      <td>1</td>\n",
       "      <td>0</td>\n",
       "      <td>1</td>\n",
       "      <td>28</td>\n",
       "      <td>3</td>\n",
       "      <td>1</td>\n",
       "      <td>0</td>\n",
       "      <td>0</td>\n",
       "      <td>0</td>\n",
       "    </tr>\n",
       "    <tr>\n",
       "      <th>2</th>\n",
       "      <td>1</td>\n",
       "      <td>1</td>\n",
       "      <td>0</td>\n",
       "      <td>0</td>\n",
       "      <td>0</td>\n",
       "      <td>1</td>\n",
       "      <td>1</td>\n",
       "      <td>0</td>\n",
       "      <td>0</td>\n",
       "      <td>0</td>\n",
       "      <td>36</td>\n",
       "      <td>1</td>\n",
       "      <td>1</td>\n",
       "      <td>0</td>\n",
       "      <td>1</td>\n",
       "      <td>1</td>\n",
       "    </tr>\n",
       "    <tr>\n",
       "      <th>3</th>\n",
       "      <td>1</td>\n",
       "      <td>0</td>\n",
       "      <td>0</td>\n",
       "      <td>0</td>\n",
       "      <td>0</td>\n",
       "      <td>0</td>\n",
       "      <td>1</td>\n",
       "      <td>1</td>\n",
       "      <td>0</td>\n",
       "      <td>1</td>\n",
       "      <td>36</td>\n",
       "      <td>3</td>\n",
       "      <td>1</td>\n",
       "      <td>0</td>\n",
       "      <td>1</td>\n",
       "      <td>1</td>\n",
       "    </tr>\n",
       "    <tr>\n",
       "      <th>4</th>\n",
       "      <td>1</td>\n",
       "      <td>1</td>\n",
       "      <td>1</td>\n",
       "      <td>1</td>\n",
       "      <td>1</td>\n",
       "      <td>1</td>\n",
       "      <td>1</td>\n",
       "      <td>1</td>\n",
       "      <td>1</td>\n",
       "      <td>1</td>\n",
       "      <td>24</td>\n",
       "      <td>5</td>\n",
       "      <td>0</td>\n",
       "      <td>0</td>\n",
       "      <td>1</td>\n",
       "      <td>1</td>\n",
       "    </tr>\n",
       "    <tr>\n",
       "      <th>5</th>\n",
       "      <td>1</td>\n",
       "      <td>1</td>\n",
       "      <td>0</td>\n",
       "      <td>1</td>\n",
       "      <td>1</td>\n",
       "      <td>1</td>\n",
       "      <td>1</td>\n",
       "      <td>1</td>\n",
       "      <td>1</td>\n",
       "      <td>1</td>\n",
       "      <td>20</td>\n",
       "      <td>1</td>\n",
       "      <td>0</td>\n",
       "      <td>1</td>\n",
       "      <td>1</td>\n",
       "      <td>0</td>\n",
       "    </tr>\n",
       "  </tbody>\n",
       "</table>\n",
       "</div>"
      ],
      "text/plain": [
       "         name_response  eye_contact  pointing  shared_interest  pretend_play  \\\n",
       "Case_No                                                                        \n",
       "1                    0            0         0                0             0   \n",
       "2                    1            1         0                0             0   \n",
       "3                    1            0         0                0             0   \n",
       "4                    1            1         1                1             1   \n",
       "5                    1            1         0                1             1   \n",
       "\n",
       "         joint_attention  emotions  vocal  gestures  blank_gaze  age  \\\n",
       "Case_No                                                                \n",
       "1                      0         1      1         0           1   28   \n",
       "2                      1         1      0         0           0   36   \n",
       "3                      0         1      1         0           1   36   \n",
       "4                      1         1      1         1           1   24   \n",
       "5                      1         1      1         1           1   20   \n",
       "\n",
       "         ethnicity  jaundice  family_mem_with_asd  asd_traits  sex_m  \n",
       "Case_No                                                               \n",
       "1                3         1                    0           0      0  \n",
       "2                1         1                    0           1      1  \n",
       "3                3         1                    0           1      1  \n",
       "4                5         0                    0           1      1  \n",
       "5                1         0                    1           1      0  "
      ]
     },
     "execution_count": 63,
     "metadata": {},
     "output_type": "execute_result"
    }
   ],
   "source": [
    "df.head()"
   ]
  },
  {
   "cell_type": "code",
   "execution_count": 30,
   "metadata": {},
   "outputs": [
    {
     "data": {
      "text/plain": [
       "White European    334\n",
       "asian             299\n",
       "middle eastern    188\n",
       "south asian        60\n",
       "black              53\n",
       "Hispanic           40\n",
       "Others             35\n",
       "Latino             26\n",
       "Pacifica            8\n",
       "mixed               8\n",
       "Native Indian       3\n",
       "Name: ethnicity, dtype: int64"
      ]
     },
     "execution_count": 30,
     "metadata": {},
     "output_type": "execute_result"
    }
   ],
   "source": [
    "df.ethnicity.value_counts()"
   ]
  },
  {
   "cell_type": "code",
   "execution_count": 31,
   "metadata": {},
   "outputs": [],
   "source": [
    "df['asd_traits'] = df[['asd_traits']].replace({'No': 0, 'Yes': 1})"
   ]
  },
  {
   "cell_type": "code",
   "execution_count": 32,
   "metadata": {},
   "outputs": [],
   "source": [
    "df['ethnicity'] = df[['ethnicity']].replace({'White European': 1,\n",
    "                                             'asian': 2, \n",
    "                                             'middle eastern': 3, \n",
    "                                             'south asian': 2, \n",
    "                                             'black': 4, \n",
    "                                             'Hispanic': 5, \n",
    "                                             'Others': 6, \n",
    "                                             'Latino': 5, \n",
    "                                             'mixed': 6,\n",
    "                                             'Pacifica': 6,\n",
    "                                             'Native Indian': 6})"
   ]
  },
  {
   "cell_type": "code",
   "execution_count": 33,
   "metadata": {},
   "outputs": [
    {
     "data": {
      "text/plain": [
       "2    359\n",
       "1    334\n",
       "3    188\n",
       "5     66\n",
       "6     54\n",
       "4     53\n",
       "Name: ethnicity, dtype: int64"
      ]
     },
     "execution_count": 33,
     "metadata": {},
     "output_type": "execute_result"
    }
   ],
   "source": [
    "df.ethnicity.value_counts()"
   ]
  },
  {
   "cell_type": "code",
   "execution_count": 34,
   "metadata": {},
   "outputs": [
    {
     "name": "stdout",
     "output_type": "stream",
     "text": [
      "<class 'pandas.core.frame.DataFrame'>\n",
      "Int64Index: 1054 entries, 1 to 1054\n",
      "Data columns (total 17 columns):\n",
      " #   Column               Non-Null Count  Dtype \n",
      "---  ------               --------------  ----- \n",
      " 0   name_response        1054 non-null   int64 \n",
      " 1   eye_contact          1054 non-null   int64 \n",
      " 2   pointing             1054 non-null   int64 \n",
      " 3   shared_interest      1054 non-null   int64 \n",
      " 4   pretend_play         1054 non-null   int64 \n",
      " 5   joint_attention      1054 non-null   int64 \n",
      " 6   emotions             1054 non-null   int64 \n",
      " 7   vocal                1054 non-null   int64 \n",
      " 8   gestures             1054 non-null   int64 \n",
      " 9   blank_gaze           1054 non-null   int64 \n",
      " 10  age                  1054 non-null   int64 \n",
      " 11  sex                  1054 non-null   object\n",
      " 12  ethnicity            1054 non-null   int64 \n",
      " 13  jaundice             1054 non-null   int64 \n",
      " 14  family_mem_with_asd  1054 non-null   int64 \n",
      " 15  asd_traits           1054 non-null   int64 \n",
      " 16  sex_m                1054 non-null   uint8 \n",
      "dtypes: int64(15), object(1), uint8(1)\n",
      "memory usage: 141.0+ KB\n"
     ]
    }
   ],
   "source": [
    "df.info()"
   ]
  },
  {
   "cell_type": "code",
   "execution_count": 35,
   "metadata": {},
   "outputs": [],
   "source": [
    "#split with \n",
    "def train_validate_test_split(df, target, seed):\n",
    "    '''\n",
    "    spilts our data  into train, validate, test\n",
    "    by taking in a dataframe and dividing into\n",
    "    separate\n",
    "    '''\n",
    "    # Train, Validate, and test\n",
    "    train_and_validate, test = train_test_split(\n",
    "        df, test_size=0.2, random_state=seed)\n",
    "    train, validate = train_test_split(\n",
    "        train_and_validate,\n",
    "        test_size=0.3,\n",
    "        random_state=seed)\n",
    "    \n",
    "    # Split with X and y\n",
    "    X_train = train.drop(columns=[target])\n",
    "    y_train = train[target]\n",
    "    \n",
    "    X_validate = validate.drop(columns=[target])\n",
    "    y_validate = validate[target]\n",
    "    \n",
    "    X_test = test.drop(columns=[target])\n",
    "    y_test = test[target]\n",
    "    \n",
    "    return train, validate, test, X_train, y_train, X_validate, y_validate, X_test, y_test   "
   ]
  },
  {
   "cell_type": "code",
   "execution_count": 64,
   "metadata": {},
   "outputs": [],
   "source": [
    "train, validate, test, X_train, y_train, X_validate, y_validate, X_test, y_test = train_validate_test_split(df, 'asd_traits', 123)"
   ]
  },
  {
   "cell_type": "code",
   "execution_count": 65,
   "metadata": {},
   "outputs": [
    {
     "name": "stdout",
     "output_type": "stream",
     "text": [
      "(590, 16)\n",
      "(253, 16)\n",
      "(211, 16)\n"
     ]
    }
   ],
   "source": [
    "print(train.shape)\n",
    "print(validate.shape)\n",
    "print(test.shape)"
   ]
  },
  {
   "cell_type": "markdown",
   "metadata": {},
   "source": [
    "## Explore"
   ]
  },
  {
   "cell_type": "code",
   "execution_count": 38,
   "metadata": {},
   "outputs": [
    {
     "data": {
      "text/plain": [
       "Index(['name_response', 'eye_contact', 'pointing', 'shared_interest',\n",
       "       'pretend_play', 'joint_attention', 'emotions', 'vocal', 'gestures',\n",
       "       'blank_gaze', 'age', 'sex', 'ethnicity', 'jaundice',\n",
       "       'family_mem_with_asd', 'asd_traits', 'sex_m'],\n",
       "      dtype='object')"
      ]
     },
     "execution_count": 38,
     "metadata": {},
     "output_type": "execute_result"
    }
   ],
   "source": [
    "train.columns"
   ]
  },
  {
   "cell_type": "code",
   "execution_count": 39,
   "metadata": {},
   "outputs": [
    {
     "data": {
      "text/plain": [
       "Index(['name_response', 'eye_contact', 'pointing', 'shared_interest',\n",
       "       'pretend_play', 'joint_attention', 'emotions', 'vocal', 'gestures',\n",
       "       'blank_gaze', 'age', 'sex', 'ethnicity', 'jaundice',\n",
       "       'family_mem_with_asd', 'sex_m'],\n",
       "      dtype='object')"
      ]
     },
     "execution_count": 39,
     "metadata": {},
     "output_type": "execute_result"
    }
   ],
   "source": [
    "X_train.columns"
   ]
  },
  {
   "cell_type": "code",
   "execution_count": 40,
   "metadata": {},
   "outputs": [],
   "source": [
    "import explore"
   ]
  },
  {
   "cell_type": "code",
   "execution_count": 41,
   "metadata": {},
   "outputs": [
    {
     "data": {
      "image/png": "[encoded data removed]",
      "text/plain": [
       "<Figure size 144x144 with 1 Axes>"
      ]
     },
     "metadata": {
      "needs_background": "light"
     },
     "output_type": "display_data"
    },
    {
     "name": "stdout",
     "output_type": "stream",
     "text": [
      "   name_response  Count  Percent\n",
      "1              0    594    56.36\n",
      "0              1    460    43.64\n",
      "_________________________________________________________________\n"
     ]
    },
    {
     "data": {
      "image/png": "[encoded data removed]",
      "text/plain": [
       "<Figure size 144x144 with 1 Axes>"
      ]
     },
     "metadata": {
      "needs_background": "light"
     },
     "output_type": "display_data"
    },
    {
     "name": "stdout",
     "output_type": "stream",
     "text": [
      "   eye_contact  Count  Percent\n",
      "0            0    581    55.12\n",
      "1            1    473    44.88\n",
      "_________________________________________________________________\n"
     ]
    },
    {
     "data": {
      "image/png": "[encoded data removed]",
      "text/plain": [
       "<Figure size 144x144 with 1 Axes>"
      ]
     },
     "metadata": {
      "needs_background": "light"
     },
     "output_type": "display_data"
    },
    {
     "name": "stdout",
     "output_type": "stream",
     "text": [
      "   pointing  Count  Percent\n",
      "0         0    631    59.87\n",
      "1         1    423    40.13\n",
      "_________________________________________________________________\n"
     ]
    },
    {
     "data": {
      "image/png": "[encoded data removed]",
      "text/plain": [
       "<Figure size 144x144 with 1 Axes>"
      ]
     },
     "metadata": {
      "needs_background": "light"
     },
     "output_type": "display_data"
    },
    {
     "name": "stdout",
     "output_type": "stream",
     "text": [
      "   shared_interest  Count  Percent\n",
      "1                0    540    51.23\n",
      "0                1    514    48.77\n",
      "_________________________________________________________________\n"
     ]
    },
    {
     "data": {
      "image/png": "[encoded data removed]",
      "text/plain": [
       "<Figure size 144x144 with 1 Axes>"
      ]
     },
     "metadata": {
      "needs_background": "light"
     },
     "output_type": "display_data"
    },
    {
     "name": "stdout",
     "output_type": "stream",
     "text": [
      "   pretend_play  Count  Percent\n",
      "1             0    553    52.47\n",
      "0             1    501    47.53\n",
      "_________________________________________________________________\n"
     ]
    },
    {
     "data": {
      "image/png": "[encoded data removed]",
      "text/plain": [
       "<Figure size 144x144 with 1 Axes>"
      ]
     },
     "metadata": {
      "needs_background": "light"
     },
     "output_type": "display_data"
    },
    {
     "name": "stdout",
     "output_type": "stream",
     "text": [
      "   joint_attention  Count  Percent\n",
      "1                0    608    57.69\n",
      "0                1    446    42.31\n",
      "_________________________________________________________________\n"
     ]
    },
    {
     "data": {
      "image/png": "[encoded data removed]",
      "text/plain": [
       "<Figure size 144x144 with 1 Axes>"
      ]
     },
     "metadata": {
      "needs_background": "light"
     },
     "output_type": "display_data"
    },
    {
     "name": "stdout",
     "output_type": "stream",
     "text": [
      "   emotions  Count  Percent\n",
      "1         1    685    64.99\n",
      "0         0    369    35.01\n",
      "_________________________________________________________________\n"
     ]
    },
    {
     "data": {
      "image/png": "[encoded data removed]",
      "text/plain": [
       "<Figure size 144x144 with 1 Axes>"
      ]
     },
     "metadata": {
      "needs_background": "light"
     },
     "output_type": "display_data"
    },
    {
     "name": "stdout",
     "output_type": "stream",
     "text": [
      "   vocal  Count  Percent\n",
      "0      1    570    54.08\n",
      "1      0    484    45.92\n",
      "_________________________________________________________________\n"
     ]
    },
    {
     "data": {
      "image/png": "[encoded data removed]",
      "text/plain": [
       "<Figure size 144x144 with 1 Axes>"
      ]
     },
     "metadata": {
      "needs_background": "light"
     },
     "output_type": "display_data"
    },
    {
     "name": "stdout",
     "output_type": "stream",
     "text": [
      "   gestures  Count  Percent\n",
      "0         0    538    51.04\n",
      "1         1    516    48.96\n",
      "_________________________________________________________________\n"
     ]
    },
    {
     "data": {
      "image/png": "[encoded data removed]",
      "text/plain": [
       "<Figure size 144x144 with 1 Axes>"
      ]
     },
     "metadata": {
      "needs_background": "light"
     },
     "output_type": "display_data"
    },
    {
     "name": "stdout",
     "output_type": "stream",
     "text": [
      "   blank_gaze  Count  Percent\n",
      "1           1    618    58.63\n",
      "0           0    436    41.37\n",
      "_________________________________________________________________\n"
     ]
    },
    {
     "data": {
      "image/png": "[encoded data removed]",
      "text/plain": [
       "<Figure size 144x144 with 1 Axes>"
      ]
     },
     "metadata": {
      "needs_background": "light"
     },
     "output_type": "display_data"
    },
    {
     "name": "stdout",
     "output_type": "stream",
     "text": [
      "   ethnicity  Count  Percent\n",
      "2          3    359    34.06\n",
      "1          1    334    31.69\n",
      "3          5    188    17.84\n",
      "5          4     66     6.26\n",
      "6          2     54     5.12\n",
      "4          6     53     5.03\n",
      "_________________________________________________________________\n"
     ]
    },
    {
     "data": {
      "image/png": "[encoded data removed]",
      "text/plain": [
       "<Figure size 144x144 with 1 Axes>"
      ]
     },
     "metadata": {
      "needs_background": "light"
     },
     "output_type": "display_data"
    },
    {
     "name": "stdout",
     "output_type": "stream",
     "text": [
      "   jaundice  Count  Percent\n",
      "0         1    766    72.68\n",
      "1         0    288    27.32\n",
      "_________________________________________________________________\n"
     ]
    },
    {
     "data": {
      "image/png": "[encoded data removed]",
      "text/plain": [
       "<Figure size 144x144 with 1 Axes>"
      ]
     },
     "metadata": {
      "needs_background": "light"
     },
     "output_type": "display_data"
    },
    {
     "name": "stdout",
     "output_type": "stream",
     "text": [
      "   family_mem_with_asd  Count  Percent\n",
      "0                    0    884    83.87\n",
      "1                    1    170    16.13\n",
      "_________________________________________________________________\n"
     ]
    },
    {
     "data": {
      "image/png": "[encoded data removed]",
      "text/plain": [
       "<Figure size 144x144 with 1 Axes>"
      ]
     },
     "metadata": {
      "needs_background": "light"
     },
     "output_type": "display_data"
    },
    {
     "name": "stdout",
     "output_type": "stream",
     "text": [
      "   asd_traits  Count  Percent\n",
      "1           0    728    69.07\n",
      "0           1    326    30.93\n",
      "_________________________________________________________________\n"
     ]
    },
    {
     "data": {
      "image/png": "[encoded data removed]",
      "text/plain": [
       "<Figure size 144x144 with 1 Axes>"
      ]
     },
     "metadata": {
      "needs_background": "light"
     },
     "output_type": "display_data"
    },
    {
     "name": "stdout",
     "output_type": "stream",
     "text": [
      "   sex_m  Count  Percent\n",
      "1      0    735    69.73\n",
      "0      1    319    30.27\n",
      "_________________________________________________________________\n"
     ]
    },
    {
     "data": {
      "image/png": "[encoded data removed]",
      "text/plain": [
       "<Figure size 576x144 with 2 Axes>"
      ]
     },
     "metadata": {
      "needs_background": "light"
     },
     "output_type": "display_data"
    },
    {
     "name": "stdout",
     "output_type": "stream",
     "text": [
      "count    1054.000000\n",
      "mean       27.867173\n",
      "std         7.980354\n",
      "min        12.000000\n",
      "25%        23.000000\n",
      "50%        30.000000\n",
      "75%        36.000000\n",
      "max        36.000000\n",
      "Name: age, dtype: float64\n"
     ]
    }
   ],
   "source": [
    "explore.explore_univariate(df, explore.cat_vars, explore.quant_vars)"
   ]
  },
  {
   "cell_type": "markdown",
   "metadata": {},
   "source": [
    "<div class=\"alert alert-block alert-success\">\n",
    "<b>Univariate Takeaways :</b> \n",
    "<br>- 56% of toddlers in this dataset respond to name when called\n",
    "<br>- 55% of toddlers in this dataset make eye contact \n",
    "<br>- 60% of toddlers in this dataset point to what they want  \n",
    "<br>- 51% of toddlers in this dataset show shared_interest\n",
    "<br>- 52% of toddlers in this dataset engage in pretend play \n",
    "<br>- 58% of toddlers in this dataset show joint attention\n",
    "<br>- 65% of toddlers in this dataset social emotion recognition\n",
    "<br>- 54% of toddlers in this dataset are not vocal\n",
    "<br>- 51% of toddlers in this dataset can communicate using gestures\n",
    "<br>- 59% of toddlers in this dataset engage in blank gazing\n",
    "<br>- The majority (34%) of toddlers in this data set are middle eastern\n",
    "<br>- 73% of toddlers in this dataset had jaundice as a baby\n",
    "<br>- 84% of toddlers in this dataset do not have a family member with asd\n",
    "<br>- Age is mostly normally distributed, with a spike at the 35 month age    \n",
    "</div> "
   ]
  },
  {
   "cell_type": "code",
   "execution_count": 42,
   "metadata": {},
   "outputs": [
    {
     "name": "stdout",
     "output_type": "stream",
     "text": [
      "name_response \n",
      "_____________________\n",
      "\n",
      "         chi2       p-value  degrees of freedom\n",
      "0  142.434654  7.813447e-33                   1\n",
      "\n",
      "observed:\n",
      " asd_traits       0    1  All\n",
      "name_response               \n",
      "0              133  115  248\n",
      "1               30  312  342\n",
      "All            163  427  590\n",
      "\n",
      "expected:\n",
      "            0           1\n",
      "0  68.515254  179.484746\n",
      "1  94.484746  247.515254\n"
     ]
    },
    {
     "data": {
      "image/png": "[encoded data removed]",
      "text/plain": [
       "<Figure size 144x144 with 1 Axes>"
      ]
     },
     "metadata": {
      "needs_background": "light"
     },
     "output_type": "display_data"
    },
    {
     "name": "stdout",
     "output_type": "stream",
     "text": [
      "\n",
      "_____________________\n",
      "\n",
      "eye_contact \n",
      "_____________________\n",
      "\n",
      "         chi2       p-value  degrees of freedom\n",
      "0  105.480515  9.583564e-25                   1\n",
      "\n",
      "observed:\n",
      " asd_traits     0    1  All\n",
      "eye_contact               \n",
      "0            145  177  322\n",
      "1             18  250  268\n",
      "All          163  427  590\n",
      "\n",
      "expected:\n",
      "            0           1\n",
      "0  88.959322  233.040678\n",
      "1  74.040678  193.959322\n"
     ]
    },
    {
     "data": {
      "image/png": "[encoded data removed]",
      "text/plain": [
       "<Figure size 144x144 with 1 Axes>"
      ]
     },
     "metadata": {
      "needs_background": "light"
     },
     "output_type": "display_data"
    },
    {
     "name": "stdout",
     "output_type": "stream",
     "text": [
      "\n",
      "_____________________\n",
      "\n",
      "pointing \n",
      "_____________________\n",
      "\n",
      "         chi2       p-value  degrees of freedom\n",
      "0  101.506912  7.121450e-24                   1\n",
      "\n",
      "observed:\n",
      " asd_traits    0    1  All\n",
      "pointing                 \n",
      "0           149  193  342\n",
      "1            14  234  248\n",
      "All         163  427  590\n",
      "\n",
      "expected:\n",
      "            0           1\n",
      "0  94.484746  247.515254\n",
      "1  68.515254  179.484746\n"
     ]
    },
    {
     "data": {
      "image/png": "[encoded data removed]",
      "text/plain": [
       "<Figure size 144x144 with 1 Axes>"
      ]
     },
     "metadata": {
      "needs_background": "light"
     },
     "output_type": "display_data"
    },
    {
     "name": "stdout",
     "output_type": "stream",
     "text": [
      "\n",
      "_____________________\n",
      "\n",
      "shared_interest \n",
      "_____________________\n",
      "\n",
      "         chi2       p-value  degrees of freedom\n",
      "0  142.579053  7.265572e-33                   1\n",
      "\n",
      "observed:\n",
      " asd_traits         0    1  All\n",
      "shared_interest               \n",
      "0                140  131  271\n",
      "1                 23  296  319\n",
      "All              163  427  590\n",
      "\n",
      "expected:\n",
      "            0           1\n",
      "0  74.869492  196.130508\n",
      "1  88.130508  230.869492\n"
     ]
    },
    {
     "data": {
      "image/png": "[encoded data removed]",
      "text/plain": [
       "<Figure size 144x144 with 1 Axes>"
      ]
     },
     "metadata": {
      "needs_background": "light"
     },
     "output_type": "display_data"
    },
    {
     "name": "stdout",
     "output_type": "stream",
     "text": [
      "\n",
      "_____________________\n",
      "\n",
      "pretend_play \n",
      "_____________________\n",
      "\n",
      "         chi2       p-value  degrees of freedom\n",
      "0  181.535951  2.239070e-41                   1\n",
      "\n",
      "observed:\n",
      " asd_traits      0    1  All\n",
      "pretend_play               \n",
      "0             148  122  270\n",
      "1              15  305  320\n",
      "All           163  427  590\n",
      "\n",
      "expected:\n",
      "           0          1\n",
      "0  74.59322  195.40678\n",
      "1  88.40678  231.59322\n"
     ]
    },
    {
     "data": {
      "image/png": "[encoded data removed]",
      "text/plain": [
       "<Figure size 144x144 with 1 Axes>"
      ]
     },
     "metadata": {
      "needs_background": "light"
     },
     "output_type": "display_data"
    },
    {
     "name": "stdout",
     "output_type": "stream",
     "text": [
      "\n",
      "_____________________\n",
      "\n",
      "joint_attention \n",
      "_____________________\n",
      "\n",
      "         chi2       p-value  degrees of freedom\n",
      "0  189.772483  3.564456e-43                   1\n",
      "\n",
      "observed:\n",
      " asd_traits         0    1  All\n",
      "joint_attention               \n",
      "0                139   97  236\n",
      "1                 24  330  354\n",
      "All              163  427  590\n",
      "\n",
      "expected:\n",
      "       0      1\n",
      "0  65.2  170.8\n",
      "1  97.8  256.2\n"
     ]
    },
    {
     "data": {
      "image/png": "[encoded data removed]",
      "text/plain": [
       "<Figure size 144x144 with 1 Axes>"
      ]
     },
     "metadata": {
      "needs_background": "light"
     },
     "output_type": "display_data"
    },
    {
     "name": "stdout",
     "output_type": "stream",
     "text": [
      "\n",
      "_____________________\n",
      "\n",
      "emotions \n",
      "_____________________\n",
      "\n",
      "        chi2       p-value  degrees of freedom\n",
      "0  160.89785  7.202484e-37                   1\n",
      "\n",
      "observed:\n",
      " asd_traits    0    1  All\n",
      "emotions                 \n",
      "0           117   72  189\n",
      "1            46  355  401\n",
      "All         163  427  590\n",
      "\n",
      "expected:\n",
      "             0           1\n",
      "0   52.215254  136.784746\n",
      "1  110.784746  290.215254\n"
     ]
    },
    {
     "data": {
      "image/png": "[encoded data removed]",
      "text/plain": [
       "<Figure size 144x144 with 1 Axes>"
      ]
     },
     "metadata": {
      "needs_background": "light"
     },
     "output_type": "display_data"
    },
    {
     "name": "stdout",
     "output_type": "stream",
     "text": [
      "\n",
      "_____________________\n",
      "\n",
      "vocal \n",
      "_____________________\n",
      "\n",
      "        chi2       p-value  degrees of freedom\n",
      "0  91.922545  9.013627e-22                   1\n",
      "\n",
      "observed:\n",
      " asd_traits    0    1  All\n",
      "vocal                    \n",
      "0           140  177  317\n",
      "1            23  250  273\n",
      "All         163  427  590\n",
      "\n",
      "expected:\n",
      "            0           1\n",
      "0  87.577966  229.422034\n",
      "1  75.422034  197.577966\n"
     ]
    },
    {
     "data": {
      "image/png": "[encoded data removed]",
      "text/plain": [
       "<Figure size 144x144 with 1 Axes>"
      ]
     },
     "metadata": {
      "needs_background": "light"
     },
     "output_type": "display_data"
    },
    {
     "name": "stdout",
     "output_type": "stream",
     "text": [
      "\n",
      "_____________________\n",
      "\n",
      "gestures \n",
      "_____________________\n",
      "\n",
      "         chi2       p-value  degrees of freedom\n",
      "0  200.165715  1.921627e-45                   1\n",
      "\n",
      "observed:\n",
      " asd_traits    0    1  All\n",
      "gestures                 \n",
      "0           158  134  292\n",
      "1             5  293  298\n",
      "All         163  427  590\n",
      "\n",
      "expected:\n",
      "            0           1\n",
      "0  80.671186  211.328814\n",
      "1  82.328814  215.671186\n"
     ]
    },
    {
     "data": {
      "image/png": "[encoded data removed]",
      "text/plain": [
       "<Figure size 144x144 with 1 Axes>"
      ]
     },
     "metadata": {
      "needs_background": "light"
     },
     "output_type": "display_data"
    },
    {
     "name": "stdout",
     "output_type": "stream",
     "text": [
      "\n",
      "_____________________\n",
      "\n",
      "blank_gaze \n",
      "_____________________\n",
      "\n",
      "        chi2   p-value  degrees of freedom\n",
      "0  19.317897  0.000011                   1\n",
      "\n",
      "observed:\n",
      " asd_traits    0    1  All\n",
      "blank_gaze               \n",
      "0            92  154  246\n",
      "1            71  273  344\n",
      "All         163  427  590\n",
      "\n",
      "expected:\n",
      "            0           1\n",
      "0  67.962712  178.037288\n",
      "1  95.037288  248.962712\n"
     ]
    },
    {
     "data": {
      "image/png": "[encoded data removed]",
      "text/plain": [
       "<Figure size 144x144 with 1 Axes>"
      ]
     },
     "metadata": {
      "needs_background": "light"
     },
     "output_type": "display_data"
    },
    {
     "name": "stdout",
     "output_type": "stream",
     "text": [
      "\n",
      "_____________________\n",
      "\n",
      "ethnicity \n",
      "_____________________\n",
      "\n",
      "        chi2   p-value  degrees of freedom\n",
      "0  32.920763  0.000004                   5\n",
      "\n",
      "observed:\n",
      " asd_traits    0    1  All\n",
      "ethnicity                \n",
      "1            41  149  190\n",
      "2            55  163  218\n",
      "3            51   53  104\n",
      "4             5   20   25\n",
      "5             8   17   25\n",
      "6             3   25   28\n",
      "All         163  427  590\n",
      "\n",
      "expected:\n",
      "            0           1\n",
      "0  52.491525  137.508475\n",
      "1  60.227119  157.772881\n",
      "2  28.732203   75.267797\n",
      "3   6.906780   18.093220\n",
      "4   6.906780   18.093220\n",
      "5   7.735593   20.264407\n"
     ]
    },
    {
     "data": {
      "image/png": "[encoded data removed]",
      "text/plain": [
       "<Figure size 144x144 with 1 Axes>"
      ]
     },
     "metadata": {
      "needs_background": "light"
     },
     "output_type": "display_data"
    },
    {
     "name": "stdout",
     "output_type": "stream",
     "text": [
      "\n",
      "_____________________\n",
      "\n",
      "jaundice \n",
      "_____________________\n",
      "\n",
      "      chi2   p-value  degrees of freedom\n",
      "0  4.86779  0.027363                   1\n",
      "\n",
      "observed:\n",
      " asd_traits    0    1  All\n",
      "jaundice                 \n",
      "0           133  309  442\n",
      "1            30  118  148\n",
      "All         163  427  590\n",
      "\n",
      "expected:\n",
      "             0           1\n",
      "0  122.111864  319.888136\n",
      "1   40.888136  107.111864\n"
     ]
    },
    {
     "data": {
      "image/png": "[encoded data removed]",
      "text/plain": [
       "<Figure size 144x144 with 1 Axes>"
      ]
     },
     "metadata": {
      "needs_background": "light"
     },
     "output_type": "display_data"
    },
    {
     "name": "stdout",
     "output_type": "stream",
     "text": [
      "\n",
      "_____________________\n",
      "\n",
      "family_mem_with_asd \n",
      "_____________________\n",
      "\n",
      "       chi2   p-value  degrees of freedom\n",
      "0  1.945139  0.163112                   1\n",
      "\n",
      "observed:\n",
      " asd_traits             0    1  All\n",
      "family_mem_with_asd               \n",
      "0                    134  372  506\n",
      "1                     29   55   84\n",
      "All                  163  427  590\n",
      "\n",
      "expected:\n",
      "            0          1\n",
      "0  139.79322  366.20678\n",
      "1   23.20678   60.79322\n"
     ]
    },
    {
     "data": {
      "image/png": "[encoded data removed]",
      "text/plain": [
       "<Figure size 144x144 with 1 Axes>"
      ]
     },
     "metadata": {
      "needs_background": "light"
     },
     "output_type": "display_data"
    },
    {
     "name": "stdout",
     "output_type": "stream",
     "text": [
      "\n",
      "_____________________\n",
      "\n",
      "asd_traits \n",
      "_____________________\n",
      "\n",
      "         chi2        p-value  degrees of freedom\n",
      "0  585.009234  3.051254e-129                   1\n",
      "\n",
      "observed:\n",
      " asd_traits    0    1  All\n",
      "asd_traits               \n",
      "0           163    0  163\n",
      "1             0  427  427\n",
      "All         163  427  590\n",
      "\n",
      "expected:\n",
      "             0           1\n",
      "0   45.032203  117.967797\n",
      "1  117.967797  309.032203\n"
     ]
    },
    {
     "data": {
      "image/png": "[encoded data removed]",
      "text/plain": [
       "<Figure size 144x144 with 1 Axes>"
      ]
     },
     "metadata": {
      "needs_background": "light"
     },
     "output_type": "display_data"
    },
    {
     "name": "stdout",
     "output_type": "stream",
     "text": [
      "\n",
      "_____________________\n",
      "\n",
      "sex_m \n",
      "_____________________\n",
      "\n",
      "        chi2   p-value  degrees of freedom\n",
      "0  12.383221  0.000433                   1\n",
      "\n",
      "observed:\n",
      " asd_traits    0    1  All\n",
      "sex_m                    \n",
      "0            66  108  174\n",
      "1            97  319  416\n",
      "All         163  427  590\n",
      "\n",
      "expected:\n",
      "             0           1\n",
      "0   48.071186  125.928814\n",
      "1  114.928814  301.071186\n"
     ]
    },
    {
     "data": {
      "image/png": "[encoded data removed]",
      "text/plain": [
       "<Figure size 144x144 with 1 Axes>"
      ]
     },
     "metadata": {
      "needs_background": "light"
     },
     "output_type": "display_data"
    },
    {
     "name": "stdout",
     "output_type": "stream",
     "text": [
      "\n",
      "_____________________\n",
      "\n",
      "age \n",
      "____________________\n",
      "\n"
     ]
    },
    {
     "data": {
      "image/png": "[encoded data removed]",
      "text/plain": [
       "<Figure size 288x288 with 1 Axes>"
      ]
     },
     "metadata": {
      "needs_background": "light"
     },
     "output_type": "display_data"
    },
    {
     "name": "stdout",
     "output_type": "stream",
     "text": [
      "            count       mean       std   min   25%   50%   75%   max\n",
      "asd_traits                                                          \n",
      "0           163.0  27.319018  9.011451  12.0  19.0  30.0  36.0  36.0\n",
      "1           427.0  28.533958  7.309756  12.0  24.0  30.0  36.0  36.0 \n",
      "\n",
      "\n",
      "Mann-Whitney Test:\n",
      " MannwhitneyuResult(statistic=33604.0, pvalue=0.5115652355934631)\n",
      "\n",
      "____________________\n",
      "\n"
     ]
    }
   ],
   "source": [
    "explore.explore_bivariate(train, 'asd_traits', explore.cat_vars, explore.quant_vars)"
   ]
  },
  {
   "cell_type": "markdown",
   "metadata": {},
   "source": [
    "<div class=\"alert alert-block alert-success\">\n",
    "<b>Bivariate Takeaways :</b> \n",
    "<br>-  \n",
    "<br>- </div> "
   ]
  },
  {
   "cell_type": "code",
   "execution_count": 45,
   "metadata": {},
   "outputs": [
    {
     "data": {
      "image/png": "[encoded data removed]",
      "text/plain": [
       "<Figure size 576x396 with 1 Axes>"
      ]
     },
     "metadata": {
      "needs_background": "light"
     },
     "output_type": "display_data"
    }
   ],
   "source": [
    "fig, ax = plt.subplots()\n",
    "\n",
    "ax.hist(df[df[\"asd_traits\"]==1][\"age\"], bins=15, alpha=0.5, color=\"blue\", label=\"asd traits\")\n",
    "ax.hist(df[df[\"asd_traits\"]==0][\"age\"], bins=15, alpha=0.5, color=\"green\", label=\"no asd traits\")\n",
    "\n",
    "ax.set_xlabel(\"age\")\n",
    "ax.set_ylabel(\"Number of toddlers\")\n",
    "\n",
    "fig.suptitle(\"Age vs. Asd Traits/No Asd Traits\")\n",
    "\n",
    "ax.legend();"
   ]
  },
  {
   "cell_type": "markdown",
   "metadata": {},
   "source": [
    "<div class=\"alert alert-block alert-success\">\n",
    "<b>Age vs Asd Traits :</b> \n",
    "<br>-  Over 300 toddlers in the dataset show asd traits around 35 months\n",
    "<br>-  35 months is approximately 3 years and plenty of time has passed to determine if milestones are being met/progress is being made    \n",
    "</div> "
   ]
  },
  {
   "cell_type": "code",
   "execution_count": 47,
   "metadata": {},
   "outputs": [
    {
     "data": {
      "image/png": "[encoded data removed]",
      "text/plain": [
       "<Figure size 576x396 with 1 Axes>"
      ]
     },
     "metadata": {
      "needs_background": "light"
     },
     "output_type": "display_data"
    }
   ],
   "source": [
    "fig, ax = plt.subplots()\n",
    "\n",
    "sns.kdeplot(df[df[\"asd_traits\"]==1][\"age\"],shade=True, color=\"blue\",label=\"asd traits\", ax=ax)\n",
    "sns.kdeplot(df[df[\"asd_traits\"]==0][\"age\"],shade=True, color=\"green\", label=\"no asd traits\", ax=ax)\n",
    "\n",
    "ax.set_xlabel(\"age\")\n",
    "ax.set_ylabel(\"Number of toddlers\")\n",
    "\n",
    "fig.suptitle(\"Age vs. Asd Traits/No Asd Traits\")\n",
    "\n",
    "ax.legend();"
   ]
  },
  {
   "cell_type": "code",
   "execution_count": 43,
   "metadata": {},
   "outputs": [
    {
     "data": {
      "text/plain": [
       "Text(0, 0.5, 'age')"
      ]
     },
     "execution_count": 43,
     "metadata": {},
     "output_type": "execute_result"
    },
    {
     "data": {
      "image/png": "[encoded data removed]",
      "text/plain": [
       "<Figure size 576x396 with 1 Axes>"
      ]
     },
     "metadata": {
      "needs_background": "light"
     },
     "output_type": "display_data"
    }
   ],
   "source": [
    "#Focus on the plots we are already interested in:\n",
    "plt.title('Age vs Autism Traits')\n",
    "sns.swarmplot(x= 'asd_traits', y= 'age', data = train, hue= 'ethnicity')\n",
    "plt.xlabel('Asd traits vs no traits')\n",
    "plt.ylabel('age')"
   ]
  },
  {
   "cell_type": "code",
   "execution_count": 70,
   "metadata": {},
   "outputs": [
    {
     "data": {
      "text/plain": [
       "<AxesSubplot:>"
      ]
     },
     "execution_count": 70,
     "metadata": {},
     "output_type": "execute_result"
    },
    {
     "data": {
      "image/png": "[encoded data removed]",
      "text/plain": [
       "<Figure size 1080x1080 with 2 Axes>"
      ]
     },
     "metadata": {
      "needs_background": "light"
     },
     "output_type": "display_data"
    }
   ],
   "source": [
    "corr = df.corr( )\n",
    "plt.figure(figsize = (15,15))\n",
    "sns.heatmap(data = corr, annot = True, square = True, cbar = True)"
   ]
  },
  {
   "cell_type": "code",
   "execution_count": 71,
   "metadata": {},
   "outputs": [
    {
     "data": {
      "text/html": [
       "<div>\n",
       "<style scoped>\n",
       "    .dataframe tbody tr th:only-of-type {\n",
       "        vertical-align: middle;\n",
       "    }\n",
       "\n",
       "    .dataframe tbody tr th {\n",
       "        vertical-align: top;\n",
       "    }\n",
       "\n",
       "    .dataframe thead th {\n",
       "        text-align: right;\n",
       "    }\n",
       "</style>\n",
       "<table border=\"1\" class=\"dataframe\">\n",
       "  <thead>\n",
       "    <tr style=\"text-align: right;\">\n",
       "      <th></th>\n",
       "      <th>name_response</th>\n",
       "      <th>eye_contact</th>\n",
       "      <th>pointing</th>\n",
       "      <th>shared_interest</th>\n",
       "      <th>pretend_play</th>\n",
       "      <th>joint_attention</th>\n",
       "      <th>emotions</th>\n",
       "      <th>vocal</th>\n",
       "      <th>gestures</th>\n",
       "      <th>blank_gaze</th>\n",
       "      <th>age</th>\n",
       "      <th>ethnicity</th>\n",
       "      <th>jaundice</th>\n",
       "      <th>family_mem_with_asd</th>\n",
       "      <th>sex_m</th>\n",
       "    </tr>\n",
       "  </thead>\n",
       "  <tbody>\n",
       "    <tr>\n",
       "      <th>name_response</th>\n",
       "      <td>1.000000</td>\n",
       "      <td>0.494128</td>\n",
       "      <td>0.238210</td>\n",
       "      <td>0.207314</td>\n",
       "      <td>0.279191</td>\n",
       "      <td>0.419138</td>\n",
       "      <td>0.342598</td>\n",
       "      <td>0.191119</td>\n",
       "      <td>0.338312</td>\n",
       "      <td>0.164330</td>\n",
       "      <td>0.008859</td>\n",
       "      <td>-0.066397</td>\n",
       "      <td>-0.014177</td>\n",
       "      <td>0.022684</td>\n",
       "      <td>0.142022</td>\n",
       "    </tr>\n",
       "    <tr>\n",
       "      <th>eye_contact</th>\n",
       "      <td>0.494128</td>\n",
       "      <td>1.000000</td>\n",
       "      <td>0.195505</td>\n",
       "      <td>0.239752</td>\n",
       "      <td>0.243549</td>\n",
       "      <td>0.314078</td>\n",
       "      <td>0.254253</td>\n",
       "      <td>0.191117</td>\n",
       "      <td>0.290300</td>\n",
       "      <td>0.177729</td>\n",
       "      <td>0.029533</td>\n",
       "      <td>-0.006678</td>\n",
       "      <td>0.021774</td>\n",
       "      <td>0.017965</td>\n",
       "      <td>0.104790</td>\n",
       "    </tr>\n",
       "    <tr>\n",
       "      <th>pointing</th>\n",
       "      <td>0.238210</td>\n",
       "      <td>0.195505</td>\n",
       "      <td>1.000000</td>\n",
       "      <td>0.529940</td>\n",
       "      <td>0.361781</td>\n",
       "      <td>0.295779</td>\n",
       "      <td>0.209316</td>\n",
       "      <td>0.256507</td>\n",
       "      <td>0.417139</td>\n",
       "      <td>-0.011119</td>\n",
       "      <td>-0.129589</td>\n",
       "      <td>-0.016831</td>\n",
       "      <td>0.022098</td>\n",
       "      <td>-0.022684</td>\n",
       "      <td>0.016106</td>\n",
       "    </tr>\n",
       "    <tr>\n",
       "      <th>shared_interest</th>\n",
       "      <td>0.207314</td>\n",
       "      <td>0.239752</td>\n",
       "      <td>0.529940</td>\n",
       "      <td>1.000000</td>\n",
       "      <td>0.334396</td>\n",
       "      <td>0.344347</td>\n",
       "      <td>0.285643</td>\n",
       "      <td>0.220972</td>\n",
       "      <td>0.448139</td>\n",
       "      <td>0.006945</td>\n",
       "      <td>-0.089257</td>\n",
       "      <td>-0.050602</td>\n",
       "      <td>0.031223</td>\n",
       "      <td>-0.091657</td>\n",
       "      <td>0.097542</td>\n",
       "    </tr>\n",
       "    <tr>\n",
       "      <th>pretend_play</th>\n",
       "      <td>0.279191</td>\n",
       "      <td>0.243549</td>\n",
       "      <td>0.361781</td>\n",
       "      <td>0.334396</td>\n",
       "      <td>1.000000</td>\n",
       "      <td>0.430556</td>\n",
       "      <td>0.331806</td>\n",
       "      <td>0.320225</td>\n",
       "      <td>0.472047</td>\n",
       "      <td>0.030524</td>\n",
       "      <td>0.027204</td>\n",
       "      <td>-0.007469</td>\n",
       "      <td>0.029263</td>\n",
       "      <td>-0.044390</td>\n",
       "      <td>0.092309</td>\n",
       "    </tr>\n",
       "    <tr>\n",
       "      <th>joint_attention</th>\n",
       "      <td>0.419138</td>\n",
       "      <td>0.314078</td>\n",
       "      <td>0.295779</td>\n",
       "      <td>0.344347</td>\n",
       "      <td>0.430556</td>\n",
       "      <td>1.000000</td>\n",
       "      <td>0.321796</td>\n",
       "      <td>0.278939</td>\n",
       "      <td>0.465012</td>\n",
       "      <td>0.067363</td>\n",
       "      <td>0.088823</td>\n",
       "      <td>-0.059225</td>\n",
       "      <td>-0.030327</td>\n",
       "      <td>-0.003960</td>\n",
       "      <td>0.056144</td>\n",
       "    </tr>\n",
       "    <tr>\n",
       "      <th>emotions</th>\n",
       "      <td>0.342598</td>\n",
       "      <td>0.254253</td>\n",
       "      <td>0.209316</td>\n",
       "      <td>0.285643</td>\n",
       "      <td>0.331806</td>\n",
       "      <td>0.321796</td>\n",
       "      <td>1.000000</td>\n",
       "      <td>0.214566</td>\n",
       "      <td>0.308489</td>\n",
       "      <td>0.222464</td>\n",
       "      <td>0.045737</td>\n",
       "      <td>-0.029244</td>\n",
       "      <td>0.053713</td>\n",
       "      <td>-0.063323</td>\n",
       "      <td>0.049874</td>\n",
       "    </tr>\n",
       "    <tr>\n",
       "      <th>vocal</th>\n",
       "      <td>0.191119</td>\n",
       "      <td>0.191117</td>\n",
       "      <td>0.256507</td>\n",
       "      <td>0.220972</td>\n",
       "      <td>0.320225</td>\n",
       "      <td>0.278939</td>\n",
       "      <td>0.214566</td>\n",
       "      <td>1.000000</td>\n",
       "      <td>0.299914</td>\n",
       "      <td>0.074646</td>\n",
       "      <td>0.047314</td>\n",
       "      <td>0.010635</td>\n",
       "      <td>-0.035141</td>\n",
       "      <td>-0.057082</td>\n",
       "      <td>0.085815</td>\n",
       "    </tr>\n",
       "    <tr>\n",
       "      <th>gestures</th>\n",
       "      <td>0.338312</td>\n",
       "      <td>0.290300</td>\n",
       "      <td>0.417139</td>\n",
       "      <td>0.448139</td>\n",
       "      <td>0.472047</td>\n",
       "      <td>0.465012</td>\n",
       "      <td>0.308489</td>\n",
       "      <td>0.299914</td>\n",
       "      <td>1.000000</td>\n",
       "      <td>0.022351</td>\n",
       "      <td>-0.044251</td>\n",
       "      <td>-0.075153</td>\n",
       "      <td>0.041035</td>\n",
       "      <td>0.005558</td>\n",
       "      <td>0.103221</td>\n",
       "    </tr>\n",
       "    <tr>\n",
       "      <th>blank_gaze</th>\n",
       "      <td>0.164330</td>\n",
       "      <td>0.177729</td>\n",
       "      <td>-0.011119</td>\n",
       "      <td>0.006945</td>\n",
       "      <td>0.030524</td>\n",
       "      <td>0.067363</td>\n",
       "      <td>0.222464</td>\n",
       "      <td>0.074646</td>\n",
       "      <td>0.022351</td>\n",
       "      <td>1.000000</td>\n",
       "      <td>0.064074</td>\n",
       "      <td>0.005102</td>\n",
       "      <td>0.037337</td>\n",
       "      <td>0.029746</td>\n",
       "      <td>-0.026755</td>\n",
       "    </tr>\n",
       "    <tr>\n",
       "      <th>age</th>\n",
       "      <td>0.008859</td>\n",
       "      <td>0.029533</td>\n",
       "      <td>-0.129589</td>\n",
       "      <td>-0.089257</td>\n",
       "      <td>0.027204</td>\n",
       "      <td>0.088823</td>\n",
       "      <td>0.045737</td>\n",
       "      <td>0.047314</td>\n",
       "      <td>-0.044251</td>\n",
       "      <td>0.064074</td>\n",
       "      <td>1.000000</td>\n",
       "      <td>-0.000976</td>\n",
       "      <td>-0.017671</td>\n",
       "      <td>0.055407</td>\n",
       "      <td>0.140907</td>\n",
       "    </tr>\n",
       "    <tr>\n",
       "      <th>ethnicity</th>\n",
       "      <td>-0.066397</td>\n",
       "      <td>-0.006678</td>\n",
       "      <td>-0.016831</td>\n",
       "      <td>-0.050602</td>\n",
       "      <td>-0.007469</td>\n",
       "      <td>-0.059225</td>\n",
       "      <td>-0.029244</td>\n",
       "      <td>0.010635</td>\n",
       "      <td>-0.075153</td>\n",
       "      <td>0.005102</td>\n",
       "      <td>-0.000976</td>\n",
       "      <td>1.000000</td>\n",
       "      <td>-0.029254</td>\n",
       "      <td>-0.053267</td>\n",
       "      <td>-0.105485</td>\n",
       "    </tr>\n",
       "    <tr>\n",
       "      <th>jaundice</th>\n",
       "      <td>-0.014177</td>\n",
       "      <td>0.021774</td>\n",
       "      <td>0.022098</td>\n",
       "      <td>0.031223</td>\n",
       "      <td>0.029263</td>\n",
       "      <td>-0.030327</td>\n",
       "      <td>0.053713</td>\n",
       "      <td>-0.035141</td>\n",
       "      <td>0.041035</td>\n",
       "      <td>0.037337</td>\n",
       "      <td>-0.017671</td>\n",
       "      <td>-0.029254</td>\n",
       "      <td>1.000000</td>\n",
       "      <td>0.055149</td>\n",
       "      <td>0.039848</td>\n",
       "    </tr>\n",
       "    <tr>\n",
       "      <th>family_mem_with_asd</th>\n",
       "      <td>0.022684</td>\n",
       "      <td>0.017965</td>\n",
       "      <td>-0.022684</td>\n",
       "      <td>-0.091657</td>\n",
       "      <td>-0.044390</td>\n",
       "      <td>-0.003960</td>\n",
       "      <td>-0.063323</td>\n",
       "      <td>-0.057082</td>\n",
       "      <td>0.005558</td>\n",
       "      <td>0.029746</td>\n",
       "      <td>0.055407</td>\n",
       "      <td>-0.053267</td>\n",
       "      <td>0.055149</td>\n",
       "      <td>1.000000</td>\n",
       "      <td>0.040132</td>\n",
       "    </tr>\n",
       "    <tr>\n",
       "      <th>sex_m</th>\n",
       "      <td>0.142022</td>\n",
       "      <td>0.104790</td>\n",
       "      <td>0.016106</td>\n",
       "      <td>0.097542</td>\n",
       "      <td>0.092309</td>\n",
       "      <td>0.056144</td>\n",
       "      <td>0.049874</td>\n",
       "      <td>0.085815</td>\n",
       "      <td>0.103221</td>\n",
       "      <td>-0.026755</td>\n",
       "      <td>0.140907</td>\n",
       "      <td>-0.105485</td>\n",
       "      <td>0.039848</td>\n",
       "      <td>0.040132</td>\n",
       "      <td>1.000000</td>\n",
       "    </tr>\n",
       "  </tbody>\n",
       "</table>\n",
       "</div>"
      ],
      "text/plain": [
       "                     name_response  eye_contact  pointing  shared_interest  \\\n",
       "name_response             1.000000     0.494128  0.238210         0.207314   \n",
       "eye_contact               0.494128     1.000000  0.195505         0.239752   \n",
       "pointing                  0.238210     0.195505  1.000000         0.529940   \n",
       "shared_interest           0.207314     0.239752  0.529940         1.000000   \n",
       "pretend_play              0.279191     0.243549  0.361781         0.334396   \n",
       "joint_attention           0.419138     0.314078  0.295779         0.344347   \n",
       "emotions                  0.342598     0.254253  0.209316         0.285643   \n",
       "vocal                     0.191119     0.191117  0.256507         0.220972   \n",
       "gestures                  0.338312     0.290300  0.417139         0.448139   \n",
       "blank_gaze                0.164330     0.177729 -0.011119         0.006945   \n",
       "age                       0.008859     0.029533 -0.129589        -0.089257   \n",
       "ethnicity                -0.066397    -0.006678 -0.016831        -0.050602   \n",
       "jaundice                 -0.014177     0.021774  0.022098         0.031223   \n",
       "family_mem_with_asd       0.022684     0.017965 -0.022684        -0.091657   \n",
       "sex_m                     0.142022     0.104790  0.016106         0.097542   \n",
       "\n",
       "                     pretend_play  joint_attention  emotions     vocal  \\\n",
       "name_response            0.279191         0.419138  0.342598  0.191119   \n",
       "eye_contact              0.243549         0.314078  0.254253  0.191117   \n",
       "pointing                 0.361781         0.295779  0.209316  0.256507   \n",
       "shared_interest          0.334396         0.344347  0.285643  0.220972   \n",
       "pretend_play             1.000000         0.430556  0.331806  0.320225   \n",
       "joint_attention          0.430556         1.000000  0.321796  0.278939   \n",
       "emotions                 0.331806         0.321796  1.000000  0.214566   \n",
       "vocal                    0.320225         0.278939  0.214566  1.000000   \n",
       "gestures                 0.472047         0.465012  0.308489  0.299914   \n",
       "blank_gaze               0.030524         0.067363  0.222464  0.074646   \n",
       "age                      0.027204         0.088823  0.045737  0.047314   \n",
       "ethnicity               -0.007469        -0.059225 -0.029244  0.010635   \n",
       "jaundice                 0.029263        -0.030327  0.053713 -0.035141   \n",
       "family_mem_with_asd     -0.044390        -0.003960 -0.063323 -0.057082   \n",
       "sex_m                    0.092309         0.056144  0.049874  0.085815   \n",
       "\n",
       "                     gestures  blank_gaze       age  ethnicity  jaundice  \\\n",
       "name_response        0.338312    0.164330  0.008859  -0.066397 -0.014177   \n",
       "eye_contact          0.290300    0.177729  0.029533  -0.006678  0.021774   \n",
       "pointing             0.417139   -0.011119 -0.129589  -0.016831  0.022098   \n",
       "shared_interest      0.448139    0.006945 -0.089257  -0.050602  0.031223   \n",
       "pretend_play         0.472047    0.030524  0.027204  -0.007469  0.029263   \n",
       "joint_attention      0.465012    0.067363  0.088823  -0.059225 -0.030327   \n",
       "emotions             0.308489    0.222464  0.045737  -0.029244  0.053713   \n",
       "vocal                0.299914    0.074646  0.047314   0.010635 -0.035141   \n",
       "gestures             1.000000    0.022351 -0.044251  -0.075153  0.041035   \n",
       "blank_gaze           0.022351    1.000000  0.064074   0.005102  0.037337   \n",
       "age                 -0.044251    0.064074  1.000000  -0.000976 -0.017671   \n",
       "ethnicity           -0.075153    0.005102 -0.000976   1.000000 -0.029254   \n",
       "jaundice             0.041035    0.037337 -0.017671  -0.029254  1.000000   \n",
       "family_mem_with_asd  0.005558    0.029746  0.055407  -0.053267  0.055149   \n",
       "sex_m                0.103221   -0.026755  0.140907  -0.105485  0.039848   \n",
       "\n",
       "                     family_mem_with_asd     sex_m  \n",
       "name_response                   0.022684  0.142022  \n",
       "eye_contact                     0.017965  0.104790  \n",
       "pointing                       -0.022684  0.016106  \n",
       "shared_interest                -0.091657  0.097542  \n",
       "pretend_play                   -0.044390  0.092309  \n",
       "joint_attention                -0.003960  0.056144  \n",
       "emotions                       -0.063323  0.049874  \n",
       "vocal                          -0.057082  0.085815  \n",
       "gestures                        0.005558  0.103221  \n",
       "blank_gaze                      0.029746 -0.026755  \n",
       "age                             0.055407  0.140907  \n",
       "ethnicity                      -0.053267 -0.105485  \n",
       "jaundice                        0.055149  0.039848  \n",
       "family_mem_with_asd             1.000000  0.040132  \n",
       "sex_m                           0.040132  1.000000  "
      ]
     },
     "execution_count": 71,
     "metadata": {},
     "output_type": "execute_result"
    }
   ],
   "source": [
    "X_train.corr()"
   ]
  },
  {
   "cell_type": "code",
   "execution_count": 73,
   "metadata": {},
   "outputs": [
    {
     "data": {
      "text/plain": [
       "asd_traits         1.000000\n",
       "gestures           0.586254\n",
       "joint_attention    0.571009\n",
       "pretend_play       0.558501\n",
       "emotions           0.526276\n",
       "shared_interest    0.495392\n",
       "name_response      0.495179\n",
       "eye_contact        0.426631\n",
       "pointing           0.418623\n",
       "vocal              0.398517\n",
       "Name: asd_traits, dtype: float64"
      ]
     },
     "execution_count": 73,
     "metadata": {},
     "output_type": "execute_result"
    }
   ],
   "source": [
    "#Top 10 Correlations for asd traits\n",
    "train.corr().iloc[14].sort_values(ascending=False)[0:10]"
   ]
  },
  {
   "cell_type": "markdown",
   "metadata": {},
   "source": [
    "## Hypothesis Testing"
   ]
  },
  {
   "cell_type": "code",
   "execution_count": 74,
   "metadata": {},
   "outputs": [],
   "source": [
    "\n",
    "\n",
    "def chi2(df, var, target, alpha):\n",
    "    '''\n",
    "    This function takes in a df, variable, a target variable, and the alpha, and runs a chi squared test. Statistical analysis is printed in the output.\n",
    "    '''\n",
    "    observed = pd.crosstab(df[var], df[target])\n",
    "    chi2, p, degf, expected = stats.chi2_contingency(observed)\n",
    "    print('Observed\\n')\n",
    "    print(observed.values)\n",
    "    print('---\\nExpected\\n')\n",
    "    print(expected)\n",
    "    print('---\\n')\n",
    "    print(f'chi^2 = {chi2:.4f}')\n",
    "    print(f'p     = {p:.4f}\\n')\n",
    "    if p < alpha:\n",
    "        print(f'Becasue the p-value: {round(p, 4)} is less than alpha: {alpha}, we can reject the null hypothesis')\n",
    "    else:\n",
    "        print('There is insufficient evidence to reject the null hypothesis')\n",
    "    "
   ]
  },
  {
   "cell_type": "code",
   "execution_count": 75,
   "metadata": {},
   "outputs": [],
   "source": [
    "# set alpha and confidence interval before running any tests\n",
    "alpha = .05\n",
    "confidence_level = .95"
   ]
  },
  {
   "cell_type": "markdown",
   "metadata": {},
   "source": [
    "### Hypothesis 1:  \n",
    "* HO: Answering \"Does your child point to indicate that s/he wants something?\" is independent of autistic traits \n",
    "* HA: Answering \"Does your child point to indicate that s/he wants something?\" is not independent of autistic traits "
   ]
  },
  {
   "cell_type": "code",
   "execution_count": 79,
   "metadata": {},
   "outputs": [
    {
     "name": "stdout",
     "output_type": "stream",
     "text": [
      "Observed\n",
      "\n",
      "[[307 231]\n",
      " [ 19 497]]\n",
      "---\n",
      "Expected\n",
      "\n",
      "[[166.40227704 371.59772296]\n",
      " [159.59772296 356.40227704]]\n",
      "---\n",
      "\n",
      "chi^2 = 348.8213\n",
      "p     = 0.0000\n",
      "\n",
      "Becasue the p-value: 0.0 is less than alpha: 0.05, we can reject the null hypothesis\n"
     ]
    }
   ],
   "source": [
    "chi2(df, 'gestures', 'asd_traits', alpha)"
   ]
  },
  {
   "cell_type": "markdown",
   "metadata": {},
   "source": [
    "### Hypothesis 2:  \n",
    "* HO:  Having a family member with autism does not effect autistis traits\n",
    "* HA:  Having a family member with autism does effect autistic traits"
   ]
  },
  {
   "cell_type": "code",
   "execution_count": 80,
   "metadata": {},
   "outputs": [
    {
     "name": "stdout",
     "output_type": "stream",
     "text": [
      "Observed\n",
      "\n",
      "[[271 613]\n",
      " [ 55 115]]\n",
      "---\n",
      "Expected\n",
      "\n",
      "[[273.41935484 610.58064516]\n",
      " [ 52.58064516 117.41935484]]\n",
      "---\n",
      "\n",
      "chi^2 = 0.1209\n",
      "p     = 0.7280\n",
      "\n",
      "There is insufficient evidence to reject the null hypothesis\n"
     ]
    }
   ],
   "source": [
    "chi2(df, 'family_mem_with_asd', 'asd_traits', alpha)"
   ]
  },
  {
   "cell_type": "markdown",
   "metadata": {},
   "source": [
    "### Hypothesis 3:  \n",
    "* HO:\n",
    "* HA:"
   ]
  },
  {
   "cell_type": "markdown",
   "metadata": {},
   "source": [
    "### Hypothesis 4:  \n",
    "* HO:\n",
    "* HA:"
   ]
  },
  {
   "cell_type": "markdown",
   "metadata": {},
   "source": [
    "### Scale"
   ]
  },
  {
   "cell_type": "code",
   "execution_count": 66,
   "metadata": {},
   "outputs": [],
   "source": [
    "#SCALE\n",
    "def Standard_Scaler(X_train, X_validate, X_test):\n",
    "    \"\"\"\n",
    "    Takes in X_train, X_validate and X_test dfs with numeric values only\n",
    "    Returns scaler, X_train_scaled, X_validate_scaled, X_test_scaled dfs\n",
    "    \"\"\"\n",
    "\n",
    "    scaler = StandardScaler().fit(X_train)\n",
    "    X_train_scaled = pd.DataFrame(scaler.transform(X_train), index = X_train.index, columns = X_train.columns)\n",
    "    X_validate_scaled = pd.DataFrame(scaler.transform(X_validate), index = X_validate.index, columns = X_validate.columns)\n",
    "    X_test_scaled = pd.DataFrame(scaler.transform(X_test), index = X_test.index, columns = X_test.columns)\n",
    "    \n",
    "    return scaler, X_train_scaled, X_validate_scaled, X_test_scaled"
   ]
  },
  {
   "cell_type": "code",
   "execution_count": 67,
   "metadata": {},
   "outputs": [],
   "source": [
    "scaler, X_train_scaled, X_validate_scaled, X_test_scaled = Standard_Scaler(X_train, X_validate, X_test)"
   ]
  },
  {
   "cell_type": "code",
   "execution_count": 69,
   "metadata": {},
   "outputs": [
    {
     "data": {
      "text/html": [
       "<div>\n",
       "<style scoped>\n",
       "    .dataframe tbody tr th:only-of-type {\n",
       "        vertical-align: middle;\n",
       "    }\n",
       "\n",
       "    .dataframe tbody tr th {\n",
       "        vertical-align: top;\n",
       "    }\n",
       "\n",
       "    .dataframe thead th {\n",
       "        text-align: right;\n",
       "    }\n",
       "</style>\n",
       "<table border=\"1\" class=\"dataframe\">\n",
       "  <thead>\n",
       "    <tr style=\"text-align: right;\">\n",
       "      <th></th>\n",
       "      <th>name_response</th>\n",
       "      <th>eye_contact</th>\n",
       "      <th>pointing</th>\n",
       "      <th>shared_interest</th>\n",
       "      <th>pretend_play</th>\n",
       "      <th>joint_attention</th>\n",
       "      <th>emotions</th>\n",
       "      <th>vocal</th>\n",
       "      <th>gestures</th>\n",
       "      <th>blank_gaze</th>\n",
       "      <th>age</th>\n",
       "      <th>ethnicity</th>\n",
       "      <th>jaundice</th>\n",
       "      <th>family_mem_with_asd</th>\n",
       "      <th>sex_m</th>\n",
       "    </tr>\n",
       "    <tr>\n",
       "      <th>Case_No</th>\n",
       "      <th></th>\n",
       "      <th></th>\n",
       "      <th></th>\n",
       "      <th></th>\n",
       "      <th></th>\n",
       "      <th></th>\n",
       "      <th></th>\n",
       "      <th></th>\n",
       "      <th></th>\n",
       "      <th></th>\n",
       "      <th></th>\n",
       "      <th></th>\n",
       "      <th></th>\n",
       "      <th></th>\n",
       "      <th></th>\n",
       "    </tr>\n",
       "  </thead>\n",
       "  <tbody>\n",
       "    <tr>\n",
       "      <th>577</th>\n",
       "      <td>0.851555</td>\n",
       "      <td>-0.912304</td>\n",
       "      <td>1.174322</td>\n",
       "      <td>-1.084952</td>\n",
       "      <td>0.918559</td>\n",
       "      <td>0.816497</td>\n",
       "      <td>-1.456603</td>\n",
       "      <td>-0.928008</td>\n",
       "      <td>0.989882</td>\n",
       "      <td>-1.182529</td>\n",
       "      <td>-0.536779</td>\n",
       "      <td>-0.951307</td>\n",
       "      <td>-0.578655</td>\n",
       "      <td>-0.407441</td>\n",
       "      <td>0.646737</td>\n",
       "    </tr>\n",
       "    <tr>\n",
       "      <th>223</th>\n",
       "      <td>0.851555</td>\n",
       "      <td>1.096126</td>\n",
       "      <td>-0.851555</td>\n",
       "      <td>-1.084952</td>\n",
       "      <td>-1.088662</td>\n",
       "      <td>-1.224745</td>\n",
       "      <td>-1.456603</td>\n",
       "      <td>1.077577</td>\n",
       "      <td>-1.010222</td>\n",
       "      <td>0.845645</td>\n",
       "      <td>0.997495</td>\n",
       "      <td>-0.951307</td>\n",
       "      <td>-0.578655</td>\n",
       "      <td>-0.407441</td>\n",
       "      <td>0.646737</td>\n",
       "    </tr>\n",
       "    <tr>\n",
       "      <th>472</th>\n",
       "      <td>0.851555</td>\n",
       "      <td>-0.912304</td>\n",
       "      <td>-0.851555</td>\n",
       "      <td>-1.084952</td>\n",
       "      <td>-1.088662</td>\n",
       "      <td>-1.224745</td>\n",
       "      <td>-1.456603</td>\n",
       "      <td>-0.928008</td>\n",
       "      <td>-1.010222</td>\n",
       "      <td>-1.182529</td>\n",
       "      <td>0.997495</td>\n",
       "      <td>-0.193856</td>\n",
       "      <td>-0.578655</td>\n",
       "      <td>2.454345</td>\n",
       "      <td>0.646737</td>\n",
       "    </tr>\n",
       "    <tr>\n",
       "      <th>441</th>\n",
       "      <td>0.851555</td>\n",
       "      <td>1.096126</td>\n",
       "      <td>-0.851555</td>\n",
       "      <td>0.921699</td>\n",
       "      <td>-1.088662</td>\n",
       "      <td>0.816497</td>\n",
       "      <td>0.686529</td>\n",
       "      <td>-0.928008</td>\n",
       "      <td>0.989882</td>\n",
       "      <td>0.845645</td>\n",
       "      <td>-0.281067</td>\n",
       "      <td>-0.951307</td>\n",
       "      <td>-0.578655</td>\n",
       "      <td>-0.407441</td>\n",
       "      <td>-1.546223</td>\n",
       "    </tr>\n",
       "    <tr>\n",
       "      <th>792</th>\n",
       "      <td>0.851555</td>\n",
       "      <td>1.096126</td>\n",
       "      <td>-0.851555</td>\n",
       "      <td>0.921699</td>\n",
       "      <td>0.918559</td>\n",
       "      <td>0.816497</td>\n",
       "      <td>0.686529</td>\n",
       "      <td>-0.928008</td>\n",
       "      <td>0.989882</td>\n",
       "      <td>0.845645</td>\n",
       "      <td>0.997495</td>\n",
       "      <td>-0.193856</td>\n",
       "      <td>1.728145</td>\n",
       "      <td>-0.407441</td>\n",
       "      <td>0.646737</td>\n",
       "    </tr>\n",
       "  </tbody>\n",
       "</table>\n",
       "</div>"
      ],
      "text/plain": [
       "         name_response  eye_contact  pointing  shared_interest  pretend_play  \\\n",
       "Case_No                                                                        \n",
       "577           0.851555    -0.912304  1.174322        -1.084952      0.918559   \n",
       "223           0.851555     1.096126 -0.851555        -1.084952     -1.088662   \n",
       "472           0.851555    -0.912304 -0.851555        -1.084952     -1.088662   \n",
       "441           0.851555     1.096126 -0.851555         0.921699     -1.088662   \n",
       "792           0.851555     1.096126 -0.851555         0.921699      0.918559   \n",
       "\n",
       "         joint_attention  emotions     vocal  gestures  blank_gaze       age  \\\n",
       "Case_No                                                                        \n",
       "577             0.816497 -1.456603 -0.928008  0.989882   -1.182529 -0.536779   \n",
       "223            -1.224745 -1.456603  1.077577 -1.010222    0.845645  0.997495   \n",
       "472            -1.224745 -1.456603 -0.928008 -1.010222   -1.182529  0.997495   \n",
       "441             0.816497  0.686529 -0.928008  0.989882    0.845645 -0.281067   \n",
       "792             0.816497  0.686529 -0.928008  0.989882    0.845645  0.997495   \n",
       "\n",
       "         ethnicity  jaundice  family_mem_with_asd     sex_m  \n",
       "Case_No                                                      \n",
       "577      -0.951307 -0.578655            -0.407441  0.646737  \n",
       "223      -0.951307 -0.578655            -0.407441  0.646737  \n",
       "472      -0.193856 -0.578655             2.454345  0.646737  \n",
       "441      -0.951307 -0.578655            -0.407441 -1.546223  \n",
       "792      -0.193856  1.728145            -0.407441  0.646737  "
      ]
     },
     "execution_count": 69,
     "metadata": {},
     "output_type": "execute_result"
    }
   ],
   "source": [
    "X_train_scaled.head()"
   ]
  },
  {
   "cell_type": "markdown",
   "metadata": {},
   "source": [
    "## Clustering"
   ]
  },
  {
   "cell_type": "code",
   "execution_count": null,
   "metadata": {},
   "outputs": [],
   "source": [
    "X = df[['home_age', 'sqft']]\n",
    "\n",
    "scaler = sklearn.preprocessing.StandardScaler().fit(X)\n",
    "X_scaled = pd.DataFrame(scaler.transform(X), columns= X.columns).set_index([X.index.values])\n",
    "\n",
    "k =2 \n",
    "\n",
    "kmeans = KMeans(n_clusters= k)\n",
    "kmeans.fit(X_scaled)\n",
    "kmeans.inertia_"
   ]
  },
  {
   "cell_type": "code",
   "execution_count": null,
   "metadata": {},
   "outputs": [],
   "source": [
    "# lets plot inertia vs k\n",
    "\n",
    "with plt.style.context('seaborn-whitegrid'):\n",
    "    plt.figure(figsize=(9, 6))\n",
    "    pd.Series({k: KMeans(k).fit(X_scaled).inertia_ for k in range(2, 12)}).plot(marker='x')\n",
    "    plt.xticks(range(2, 12))\n",
    "    plt.xlabel('k')\n",
    "    plt.ylabel('inertia')\n",
    "    plt.title('Change in inertia as k increases')"
   ]
  },
  {
   "cell_type": "code",
   "execution_count": null,
   "metadata": {},
   "outputs": [],
   "source": [
    "# define independent variables for k-means\n",
    "# this is creating a 2col df of the features\n",
    "X = df[['home_age', 'sqft']]\n",
    "X.head(2)"
   ]
  },
  {
   "cell_type": "code",
   "execution_count": null,
   "metadata": {},
   "outputs": [],
   "source": [
    "# Scale the X\n",
    "\n",
    "scaler = sklearn.preprocessing.StandardScaler().fit(X)\n",
    "X_scaled = pd.DataFrame(scaler.transform(X), columns= X.columns).set_index([X.index.values])"
   ]
  },
  {
   "cell_type": "code",
   "execution_count": null,
   "metadata": {},
   "outputs": [],
   "source": [
    "#define the thing\n",
    "kmeans = KMeans(n_clusters=6)\n",
    "\n",
    "# fit the thing\n",
    "kmeans.fit(X_scaled)\n",
    "\n",
    "# Use (predict using) the thing \n",
    "kmeans.predict(X_scaled)"
   ]
  },
  {
   "cell_type": "code",
   "execution_count": null,
   "metadata": {},
   "outputs": [],
   "source": [
    "# make a new column names cluster in dataframe\n",
    "\n",
    "df['cluster'] = kmeans.predict(X_scaled)\n",
    "df.head(2)"
   ]
  },
  {
   "cell_type": "code",
   "execution_count": null,
   "metadata": {},
   "outputs": [],
   "source": [
    "# Cluster Centers aka centroids. The output is scaled!!\n",
    "kmeans.cluster_centers_"
   ]
  },
  {
   "cell_type": "code",
   "execution_count": null,
   "metadata": {},
   "outputs": [],
   "source": [
    "# Make a dataframe \n",
    "centroids_scaled = pd.DataFrame(kmeans.cluster_centers_, columns = X.columns)\n",
    "centroids_scaled"
   ]
  },
  {
   "cell_type": "code",
   "execution_count": null,
   "metadata": {},
   "outputs": [],
   "source": []
  },
  {
   "cell_type": "markdown",
   "metadata": {},
   "source": [
    "## Feature Engineering"
   ]
  },
  {
   "cell_type": "code",
   "execution_count": null,
   "metadata": {},
   "outputs": [],
   "source": []
  },
  {
   "cell_type": "markdown",
   "metadata": {},
   "source": [
    "## Baseline"
   ]
  },
  {
   "cell_type": "markdown",
   "metadata": {},
   "source": [
    "<div class=\"alert alert-block alert-success\">\n",
    "<b>Baseline Takeaways :</b> \n",
    "<br>- Baseline will be toddlers that have asd traits\n",
    "<br>- Baseline accuracy: <b> 72.4% </b>(the score we want to beat with our model) </div> "
   ]
  },
  {
   "cell_type": "code",
   "execution_count": 48,
   "metadata": {},
   "outputs": [
    {
     "data": {
      "text/plain": [
       "1    427\n",
       "0    163\n",
       "Name: asd_traits, dtype: int64"
      ]
     },
     "execution_count": 48,
     "metadata": {},
     "output_type": "execute_result"
    }
   ],
   "source": [
    "#Count of toddlers with asd traits =1 and without asd traits = 0\n",
    "train.asd_traits.value_counts()"
   ]
  },
  {
   "cell_type": "code",
   "execution_count": 49,
   "metadata": {},
   "outputs": [],
   "source": [
    "#Baseline prediction will be mode, which is 1, toddlers with asd traits\n",
    "train['baseline_prediction'] = 1"
   ]
  },
  {
   "cell_type": "code",
   "execution_count": 51,
   "metadata": {},
   "outputs": [
    {
     "data": {
      "text/plain": [
       "0.724"
      ]
     },
     "execution_count": 51,
     "metadata": {},
     "output_type": "execute_result"
    }
   ],
   "source": [
    "#Baseline accuracy\n",
    "baseline_accuracy = round((train.asd_traits == 1).mean(), 3)\n",
    "baseline_accuracy"
   ]
  },
  {
   "cell_type": "markdown",
   "metadata": {},
   "source": [
    "## Modeling"
   ]
  },
  {
   "cell_type": "markdown",
   "metadata": {},
   "source": [
    "### KNN"
   ]
  },
  {
   "cell_type": "markdown",
   "metadata": {},
   "source": [
    "### Logistic Regression"
   ]
  },
  {
   "cell_type": "markdown",
   "metadata": {},
   "source": [
    "### Decision Tree"
   ]
  },
  {
   "cell_type": "code",
   "execution_count": null,
   "metadata": {},
   "outputs": [],
   "source": []
  }
 ],
 "metadata": {
  "kernelspec": {
   "display_name": "Python 3",
   "language": "python",
   "name": "python3"
  },
  "language_info": {
   "codemirror_mode": {
    "name": "ipython",
    "version": 3
   },
   "file_extension": ".py",
   "mimetype": "text/x-python",
   "name": "python",
   "nbconvert_exporter": "python",
   "pygments_lexer": "ipython3",
   "version": "3.8.5"
  }
 },
 "nbformat": 4,
 "nbformat_minor": 4
}
