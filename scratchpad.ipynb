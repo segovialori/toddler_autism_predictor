{
 "cells": [
  {
   "cell_type": "markdown",
   "metadata": {},
   "source": [
    "# Predicting Autistic Traits in Toddlers"
   ]
  },
  {
   "cell_type": "markdown",
   "metadata": {},
   "source": [
    "## Imports"
   ]
  },
  {
   "cell_type": "code",
   "execution_count": 1,
   "metadata": {},
   "outputs": [],
   "source": [
    "# import python libraries\n",
    "import pandas as pd\n",
    "import numpy as np\n",
    "import matplotlib.pyplot as plt\n",
    "import seaborn as sns\n",
    "from scipy import stats\n",
    "\n",
    "#imports for model object and metric functions\n",
    "from sklearn.model_selection import train_test_split\n",
    "from sklearn.linear_model import LogisticRegression\n",
    "from sklearn.tree import DecisionTreeClassifier\n",
    "from sklearn.ensemble import RandomForestClassifier\n",
    "from sklearn.neighbors import KNeighborsClassifier\n",
    "from sklearn.metrics import classification_report\n",
    "from sklearn.metrics import confusion_matrix\n",
    "\n",
    "# ignore warnings\n",
    "import warnings\n",
    "warnings.filterwarnings(\"ignore\")\n",
    "\n",
    "#visulization settings\n",
    "import graphviz\n",
    "from sklearn.tree import export_graphviz\n",
    "import matplotlib.style as style \n",
    "style.available\n",
    "style.use('seaborn-notebook') #sets the size of the charts\n",
    "style.use('seaborn-colorblind') #sets color of charts"
   ]
  },
  {
   "cell_type": "markdown",
   "metadata": {},
   "source": [
    "## Acquire"
   ]
  },
  {
   "cell_type": "markdown",
   "metadata": {},
   "source": [
    "<div class=\"alert alert-block alert-success\">\n",
    "<b>Acquire Summary :</b> \n",
    "<br>- This dataset was developed by Dr Fadi Fayez Thabtah using a mobile app called ASDTests (ASDtests.com) to screen for autism traits in toddlers and acquired in csv format from kaggle.com.  \n",
    "<br>- This data set has 1054 rows and 19 columns</div> "
   ]
  },
  {
   "cell_type": "code",
   "execution_count": 2,
   "metadata": {},
   "outputs": [],
   "source": [
    "df = pd.read_csv('Toddler Autism dataset July 2018.csv')"
   ]
  },
  {
   "cell_type": "code",
   "execution_count": 3,
   "metadata": {},
   "outputs": [
    {
     "data": {
      "text/html": [
       "<div>\n",
       "<style scoped>\n",
       "    .dataframe tbody tr th:only-of-type {\n",
       "        vertical-align: middle;\n",
       "    }\n",
       "\n",
       "    .dataframe tbody tr th {\n",
       "        vertical-align: top;\n",
       "    }\n",
       "\n",
       "    .dataframe thead th {\n",
       "        text-align: right;\n",
       "    }\n",
       "</style>\n",
       "<table border=\"1\" class=\"dataframe\">\n",
       "  <thead>\n",
       "    <tr style=\"text-align: right;\">\n",
       "      <th></th>\n",
       "      <th>Case_No</th>\n",
       "      <th>A1</th>\n",
       "      <th>A2</th>\n",
       "      <th>A3</th>\n",
       "      <th>A4</th>\n",
       "      <th>A5</th>\n",
       "      <th>A6</th>\n",
       "      <th>A7</th>\n",
       "      <th>A8</th>\n",
       "      <th>A9</th>\n",
       "      <th>A10</th>\n",
       "      <th>Age_Mons</th>\n",
       "      <th>Qchat-10-Score</th>\n",
       "      <th>Sex</th>\n",
       "      <th>Ethnicity</th>\n",
       "      <th>Jaundice</th>\n",
       "      <th>Family_mem_with_ASD</th>\n",
       "      <th>Who completed the test</th>\n",
       "      <th>Class/ASD Traits</th>\n",
       "    </tr>\n",
       "  </thead>\n",
       "  <tbody>\n",
       "    <tr>\n",
       "      <th>0</th>\n",
       "      <td>1</td>\n",
       "      <td>0</td>\n",
       "      <td>0</td>\n",
       "      <td>0</td>\n",
       "      <td>0</td>\n",
       "      <td>0</td>\n",
       "      <td>0</td>\n",
       "      <td>1</td>\n",
       "      <td>1</td>\n",
       "      <td>0</td>\n",
       "      <td>1</td>\n",
       "      <td>28</td>\n",
       "      <td>3</td>\n",
       "      <td>f</td>\n",
       "      <td>middle eastern</td>\n",
       "      <td>yes</td>\n",
       "      <td>no</td>\n",
       "      <td>family member</td>\n",
       "      <td>No</td>\n",
       "    </tr>\n",
       "    <tr>\n",
       "      <th>1</th>\n",
       "      <td>2</td>\n",
       "      <td>1</td>\n",
       "      <td>1</td>\n",
       "      <td>0</td>\n",
       "      <td>0</td>\n",
       "      <td>0</td>\n",
       "      <td>1</td>\n",
       "      <td>1</td>\n",
       "      <td>0</td>\n",
       "      <td>0</td>\n",
       "      <td>0</td>\n",
       "      <td>36</td>\n",
       "      <td>4</td>\n",
       "      <td>m</td>\n",
       "      <td>White European</td>\n",
       "      <td>yes</td>\n",
       "      <td>no</td>\n",
       "      <td>family member</td>\n",
       "      <td>Yes</td>\n",
       "    </tr>\n",
       "    <tr>\n",
       "      <th>2</th>\n",
       "      <td>3</td>\n",
       "      <td>1</td>\n",
       "      <td>0</td>\n",
       "      <td>0</td>\n",
       "      <td>0</td>\n",
       "      <td>0</td>\n",
       "      <td>0</td>\n",
       "      <td>1</td>\n",
       "      <td>1</td>\n",
       "      <td>0</td>\n",
       "      <td>1</td>\n",
       "      <td>36</td>\n",
       "      <td>4</td>\n",
       "      <td>m</td>\n",
       "      <td>middle eastern</td>\n",
       "      <td>yes</td>\n",
       "      <td>no</td>\n",
       "      <td>family member</td>\n",
       "      <td>Yes</td>\n",
       "    </tr>\n",
       "    <tr>\n",
       "      <th>3</th>\n",
       "      <td>4</td>\n",
       "      <td>1</td>\n",
       "      <td>1</td>\n",
       "      <td>1</td>\n",
       "      <td>1</td>\n",
       "      <td>1</td>\n",
       "      <td>1</td>\n",
       "      <td>1</td>\n",
       "      <td>1</td>\n",
       "      <td>1</td>\n",
       "      <td>1</td>\n",
       "      <td>24</td>\n",
       "      <td>10</td>\n",
       "      <td>m</td>\n",
       "      <td>Hispanic</td>\n",
       "      <td>no</td>\n",
       "      <td>no</td>\n",
       "      <td>family member</td>\n",
       "      <td>Yes</td>\n",
       "    </tr>\n",
       "    <tr>\n",
       "      <th>4</th>\n",
       "      <td>5</td>\n",
       "      <td>1</td>\n",
       "      <td>1</td>\n",
       "      <td>0</td>\n",
       "      <td>1</td>\n",
       "      <td>1</td>\n",
       "      <td>1</td>\n",
       "      <td>1</td>\n",
       "      <td>1</td>\n",
       "      <td>1</td>\n",
       "      <td>1</td>\n",
       "      <td>20</td>\n",
       "      <td>9</td>\n",
       "      <td>f</td>\n",
       "      <td>White European</td>\n",
       "      <td>no</td>\n",
       "      <td>yes</td>\n",
       "      <td>family member</td>\n",
       "      <td>Yes</td>\n",
       "    </tr>\n",
       "  </tbody>\n",
       "</table>\n",
       "</div>"
      ],
      "text/plain": [
       "   Case_No  A1  A2  A3  A4  A5  A6  A7  A8  A9  A10  Age_Mons  Qchat-10-Score  \\\n",
       "0        1   0   0   0   0   0   0   1   1   0    1        28               3   \n",
       "1        2   1   1   0   0   0   1   1   0   0    0        36               4   \n",
       "2        3   1   0   0   0   0   0   1   1   0    1        36               4   \n",
       "3        4   1   1   1   1   1   1   1   1   1    1        24              10   \n",
       "4        5   1   1   0   1   1   1   1   1   1    1        20               9   \n",
       "\n",
       "  Sex       Ethnicity Jaundice Family_mem_with_ASD Who completed the test  \\\n",
       "0   f  middle eastern      yes                  no          family member   \n",
       "1   m  White European      yes                  no          family member   \n",
       "2   m  middle eastern      yes                  no          family member   \n",
       "3   m        Hispanic       no                  no          family member   \n",
       "4   f  White European       no                 yes          family member   \n",
       "\n",
       "  Class/ASD Traits   \n",
       "0                No  \n",
       "1               Yes  \n",
       "2               Yes  \n",
       "3               Yes  \n",
       "4               Yes  "
      ]
     },
     "execution_count": 3,
     "metadata": {},
     "output_type": "execute_result"
    }
   ],
   "source": [
    "df.head()"
   ]
  },
  {
   "cell_type": "code",
   "execution_count": 4,
   "metadata": {},
   "outputs": [
    {
     "name": "stdout",
     "output_type": "stream",
     "text": [
      "<class 'pandas.core.frame.DataFrame'>\n",
      "RangeIndex: 1054 entries, 0 to 1053\n",
      "Data columns (total 19 columns):\n",
      " #   Column                  Non-Null Count  Dtype \n",
      "---  ------                  --------------  ----- \n",
      " 0   Case_No                 1054 non-null   int64 \n",
      " 1   A1                      1054 non-null   int64 \n",
      " 2   A2                      1054 non-null   int64 \n",
      " 3   A3                      1054 non-null   int64 \n",
      " 4   A4                      1054 non-null   int64 \n",
      " 5   A5                      1054 non-null   int64 \n",
      " 6   A6                      1054 non-null   int64 \n",
      " 7   A7                      1054 non-null   int64 \n",
      " 8   A8                      1054 non-null   int64 \n",
      " 9   A9                      1054 non-null   int64 \n",
      " 10  A10                     1054 non-null   int64 \n",
      " 11  Age_Mons                1054 non-null   int64 \n",
      " 12  Qchat-10-Score          1054 non-null   int64 \n",
      " 13  Sex                     1054 non-null   object\n",
      " 14  Ethnicity               1054 non-null   object\n",
      " 15  Jaundice                1054 non-null   object\n",
      " 16  Family_mem_with_ASD     1054 non-null   object\n",
      " 17  Who completed the test  1054 non-null   object\n",
      " 18  Class/ASD Traits        1054 non-null   object\n",
      "dtypes: int64(13), object(6)\n",
      "memory usage: 156.6+ KB\n"
     ]
    }
   ],
   "source": [
    "df.info()"
   ]
  },
  {
   "cell_type": "code",
   "execution_count": 5,
   "metadata": {},
   "outputs": [
    {
     "data": {
      "text/html": [
       "<div>\n",
       "<style scoped>\n",
       "    .dataframe tbody tr th:only-of-type {\n",
       "        vertical-align: middle;\n",
       "    }\n",
       "\n",
       "    .dataframe tbody tr th {\n",
       "        vertical-align: top;\n",
       "    }\n",
       "\n",
       "    .dataframe thead th {\n",
       "        text-align: right;\n",
       "    }\n",
       "</style>\n",
       "<table border=\"1\" class=\"dataframe\">\n",
       "  <thead>\n",
       "    <tr style=\"text-align: right;\">\n",
       "      <th></th>\n",
       "      <th>Case_No</th>\n",
       "      <th>A1</th>\n",
       "      <th>A2</th>\n",
       "      <th>A3</th>\n",
       "      <th>A4</th>\n",
       "      <th>A5</th>\n",
       "      <th>A6</th>\n",
       "      <th>A7</th>\n",
       "      <th>A8</th>\n",
       "      <th>A9</th>\n",
       "      <th>A10</th>\n",
       "      <th>Age_Mons</th>\n",
       "      <th>Qchat-10-Score</th>\n",
       "    </tr>\n",
       "  </thead>\n",
       "  <tbody>\n",
       "    <tr>\n",
       "      <th>count</th>\n",
       "      <td>1054.000000</td>\n",
       "      <td>1054.000000</td>\n",
       "      <td>1054.000000</td>\n",
       "      <td>1054.000000</td>\n",
       "      <td>1054.000000</td>\n",
       "      <td>1054.000000</td>\n",
       "      <td>1054.000000</td>\n",
       "      <td>1054.000000</td>\n",
       "      <td>1054.000000</td>\n",
       "      <td>1054.000000</td>\n",
       "      <td>1054.000000</td>\n",
       "      <td>1054.000000</td>\n",
       "      <td>1054.000000</td>\n",
       "    </tr>\n",
       "    <tr>\n",
       "      <th>mean</th>\n",
       "      <td>527.500000</td>\n",
       "      <td>0.563567</td>\n",
       "      <td>0.448767</td>\n",
       "      <td>0.401328</td>\n",
       "      <td>0.512334</td>\n",
       "      <td>0.524668</td>\n",
       "      <td>0.576850</td>\n",
       "      <td>0.649905</td>\n",
       "      <td>0.459203</td>\n",
       "      <td>0.489564</td>\n",
       "      <td>0.586338</td>\n",
       "      <td>27.867173</td>\n",
       "      <td>5.212524</td>\n",
       "    </tr>\n",
       "    <tr>\n",
       "      <th>std</th>\n",
       "      <td>304.407895</td>\n",
       "      <td>0.496178</td>\n",
       "      <td>0.497604</td>\n",
       "      <td>0.490400</td>\n",
       "      <td>0.500085</td>\n",
       "      <td>0.499628</td>\n",
       "      <td>0.494293</td>\n",
       "      <td>0.477226</td>\n",
       "      <td>0.498569</td>\n",
       "      <td>0.500128</td>\n",
       "      <td>0.492723</td>\n",
       "      <td>7.980354</td>\n",
       "      <td>2.907304</td>\n",
       "    </tr>\n",
       "    <tr>\n",
       "      <th>min</th>\n",
       "      <td>1.000000</td>\n",
       "      <td>0.000000</td>\n",
       "      <td>0.000000</td>\n",
       "      <td>0.000000</td>\n",
       "      <td>0.000000</td>\n",
       "      <td>0.000000</td>\n",
       "      <td>0.000000</td>\n",
       "      <td>0.000000</td>\n",
       "      <td>0.000000</td>\n",
       "      <td>0.000000</td>\n",
       "      <td>0.000000</td>\n",
       "      <td>12.000000</td>\n",
       "      <td>0.000000</td>\n",
       "    </tr>\n",
       "    <tr>\n",
       "      <th>25%</th>\n",
       "      <td>264.250000</td>\n",
       "      <td>0.000000</td>\n",
       "      <td>0.000000</td>\n",
       "      <td>0.000000</td>\n",
       "      <td>0.000000</td>\n",
       "      <td>0.000000</td>\n",
       "      <td>0.000000</td>\n",
       "      <td>0.000000</td>\n",
       "      <td>0.000000</td>\n",
       "      <td>0.000000</td>\n",
       "      <td>0.000000</td>\n",
       "      <td>23.000000</td>\n",
       "      <td>3.000000</td>\n",
       "    </tr>\n",
       "    <tr>\n",
       "      <th>50%</th>\n",
       "      <td>527.500000</td>\n",
       "      <td>1.000000</td>\n",
       "      <td>0.000000</td>\n",
       "      <td>0.000000</td>\n",
       "      <td>1.000000</td>\n",
       "      <td>1.000000</td>\n",
       "      <td>1.000000</td>\n",
       "      <td>1.000000</td>\n",
       "      <td>0.000000</td>\n",
       "      <td>0.000000</td>\n",
       "      <td>1.000000</td>\n",
       "      <td>30.000000</td>\n",
       "      <td>5.000000</td>\n",
       "    </tr>\n",
       "    <tr>\n",
       "      <th>75%</th>\n",
       "      <td>790.750000</td>\n",
       "      <td>1.000000</td>\n",
       "      <td>1.000000</td>\n",
       "      <td>1.000000</td>\n",
       "      <td>1.000000</td>\n",
       "      <td>1.000000</td>\n",
       "      <td>1.000000</td>\n",
       "      <td>1.000000</td>\n",
       "      <td>1.000000</td>\n",
       "      <td>1.000000</td>\n",
       "      <td>1.000000</td>\n",
       "      <td>36.000000</td>\n",
       "      <td>8.000000</td>\n",
       "    </tr>\n",
       "    <tr>\n",
       "      <th>max</th>\n",
       "      <td>1054.000000</td>\n",
       "      <td>1.000000</td>\n",
       "      <td>1.000000</td>\n",
       "      <td>1.000000</td>\n",
       "      <td>1.000000</td>\n",
       "      <td>1.000000</td>\n",
       "      <td>1.000000</td>\n",
       "      <td>1.000000</td>\n",
       "      <td>1.000000</td>\n",
       "      <td>1.000000</td>\n",
       "      <td>1.000000</td>\n",
       "      <td>36.000000</td>\n",
       "      <td>10.000000</td>\n",
       "    </tr>\n",
       "  </tbody>\n",
       "</table>\n",
       "</div>"
      ],
      "text/plain": [
       "           Case_No           A1           A2           A3           A4  \\\n",
       "count  1054.000000  1054.000000  1054.000000  1054.000000  1054.000000   \n",
       "mean    527.500000     0.563567     0.448767     0.401328     0.512334   \n",
       "std     304.407895     0.496178     0.497604     0.490400     0.500085   \n",
       "min       1.000000     0.000000     0.000000     0.000000     0.000000   \n",
       "25%     264.250000     0.000000     0.000000     0.000000     0.000000   \n",
       "50%     527.500000     1.000000     0.000000     0.000000     1.000000   \n",
       "75%     790.750000     1.000000     1.000000     1.000000     1.000000   \n",
       "max    1054.000000     1.000000     1.000000     1.000000     1.000000   \n",
       "\n",
       "                A5           A6           A7           A8           A9  \\\n",
       "count  1054.000000  1054.000000  1054.000000  1054.000000  1054.000000   \n",
       "mean      0.524668     0.576850     0.649905     0.459203     0.489564   \n",
       "std       0.499628     0.494293     0.477226     0.498569     0.500128   \n",
       "min       0.000000     0.000000     0.000000     0.000000     0.000000   \n",
       "25%       0.000000     0.000000     0.000000     0.000000     0.000000   \n",
       "50%       1.000000     1.000000     1.000000     0.000000     0.000000   \n",
       "75%       1.000000     1.000000     1.000000     1.000000     1.000000   \n",
       "max       1.000000     1.000000     1.000000     1.000000     1.000000   \n",
       "\n",
       "               A10     Age_Mons  Qchat-10-Score  \n",
       "count  1054.000000  1054.000000     1054.000000  \n",
       "mean      0.586338    27.867173        5.212524  \n",
       "std       0.492723     7.980354        2.907304  \n",
       "min       0.000000    12.000000        0.000000  \n",
       "25%       0.000000    23.000000        3.000000  \n",
       "50%       1.000000    30.000000        5.000000  \n",
       "75%       1.000000    36.000000        8.000000  \n",
       "max       1.000000    36.000000       10.000000  "
      ]
     },
     "execution_count": 5,
     "metadata": {},
     "output_type": "execute_result"
    }
   ],
   "source": [
    "df.describe()"
   ]
  },
  {
   "cell_type": "code",
   "execution_count": 6,
   "metadata": {},
   "outputs": [
    {
     "data": {
      "text/plain": [
       "Index(['Case_No', 'A1', 'A2', 'A3', 'A4', 'A5', 'A6', 'A7', 'A8', 'A9', 'A10',\n",
       "       'Age_Mons', 'Qchat-10-Score', 'Sex', 'Ethnicity', 'Jaundice',\n",
       "       'Family_mem_with_ASD', 'Who completed the test', 'Class/ASD Traits '],\n",
       "      dtype='object')"
      ]
     },
     "execution_count": 6,
     "metadata": {},
     "output_type": "execute_result"
    }
   ],
   "source": [
    "df.columns"
   ]
  },
  {
   "cell_type": "code",
   "execution_count": 7,
   "metadata": {},
   "outputs": [
    {
     "data": {
      "text/plain": [
       "(1054, 19)"
      ]
     },
     "execution_count": 7,
     "metadata": {},
     "output_type": "execute_result"
    }
   ],
   "source": [
    "df.shape"
   ]
  },
  {
   "cell_type": "code",
   "execution_count": 8,
   "metadata": {},
   "outputs": [],
   "source": [
    "def summarize_dataset(df):\n",
    "    print(df.info())\n",
    "    print('This dataset has 1054 rows and 19 columns')"
   ]
  },
  {
   "cell_type": "code",
   "execution_count": 9,
   "metadata": {},
   "outputs": [
    {
     "name": "stdout",
     "output_type": "stream",
     "text": [
      "<class 'pandas.core.frame.DataFrame'>\n",
      "RangeIndex: 1054 entries, 0 to 1053\n",
      "Data columns (total 19 columns):\n",
      " #   Column                  Non-Null Count  Dtype \n",
      "---  ------                  --------------  ----- \n",
      " 0   Case_No                 1054 non-null   int64 \n",
      " 1   A1                      1054 non-null   int64 \n",
      " 2   A2                      1054 non-null   int64 \n",
      " 3   A3                      1054 non-null   int64 \n",
      " 4   A4                      1054 non-null   int64 \n",
      " 5   A5                      1054 non-null   int64 \n",
      " 6   A6                      1054 non-null   int64 \n",
      " 7   A7                      1054 non-null   int64 \n",
      " 8   A8                      1054 non-null   int64 \n",
      " 9   A9                      1054 non-null   int64 \n",
      " 10  A10                     1054 non-null   int64 \n",
      " 11  Age_Mons                1054 non-null   int64 \n",
      " 12  Qchat-10-Score          1054 non-null   int64 \n",
      " 13  Sex                     1054 non-null   object\n",
      " 14  Ethnicity               1054 non-null   object\n",
      " 15  Jaundice                1054 non-null   object\n",
      " 16  Family_mem_with_ASD     1054 non-null   object\n",
      " 17  Who completed the test  1054 non-null   object\n",
      " 18  Class/ASD Traits        1054 non-null   object\n",
      "dtypes: int64(13), object(6)\n",
      "memory usage: 156.6+ KB\n",
      "None\n",
      "This dataset has 1054 rows and 19 columns\n"
     ]
    }
   ],
   "source": [
    "summarize_dataset(df)"
   ]
  },
  {
   "cell_type": "code",
   "execution_count": 10,
   "metadata": {},
   "outputs": [
    {
     "data": {
      "text/plain": [
       "Case_No                   0\n",
       "A1                        0\n",
       "A2                        0\n",
       "A3                        0\n",
       "A4                        0\n",
       "A5                        0\n",
       "A6                        0\n",
       "A7                        0\n",
       "A8                        0\n",
       "A9                        0\n",
       "A10                       0\n",
       "Age_Mons                  0\n",
       "Qchat-10-Score            0\n",
       "Sex                       0\n",
       "Ethnicity                 0\n",
       "Jaundice                  0\n",
       "Family_mem_with_ASD       0\n",
       "Who completed the test    0\n",
       "Class/ASD Traits          0\n",
       "dtype: int64"
      ]
     },
     "execution_count": 10,
     "metadata": {},
     "output_type": "execute_result"
    }
   ],
   "source": [
    "df.isna().sum()"
   ]
  },
  {
   "cell_type": "code",
   "execution_count": 11,
   "metadata": {},
   "outputs": [
    {
     "data": {
      "text/plain": [
       "36    320\n",
       "24     70\n",
       "12     67\n",
       "30     67\n",
       "28     42\n",
       "33     36\n",
       "26     36\n",
       "34     34\n",
       "15     31\n",
       "31     30\n",
       "35     30\n",
       "32     30\n",
       "23     28\n",
       "22     27\n",
       "25     26\n",
       "29     24\n",
       "27     23\n",
       "19     21\n",
       "20     21\n",
       "14     19\n",
       "13     18\n",
       "18     16\n",
       "16     13\n",
       "21     13\n",
       "17     12\n",
       "Name: Age_Mons, dtype: int64"
      ]
     },
     "execution_count": 11,
     "metadata": {},
     "output_type": "execute_result"
    }
   ],
   "source": [
    "df.Age_Mons.value_counts()"
   ]
  },
  {
   "cell_type": "code",
   "execution_count": 12,
   "metadata": {},
   "outputs": [
    {
     "data": {
      "text/plain": [
       "White European    334\n",
       "asian             299\n",
       "middle eastern    188\n",
       "south asian        60\n",
       "black              53\n",
       "Hispanic           40\n",
       "Others             35\n",
       "Latino             26\n",
       "Pacifica            8\n",
       "mixed               8\n",
       "Native Indian       3\n",
       "Name: Ethnicity, dtype: int64"
      ]
     },
     "execution_count": 12,
     "metadata": {},
     "output_type": "execute_result"
    }
   ],
   "source": [
    "df.Ethnicity.value_counts()"
   ]
  },
  {
   "cell_type": "code",
   "execution_count": 13,
   "metadata": {},
   "outputs": [
    {
     "data": {
      "text/plain": [
       "no     766\n",
       "yes    288\n",
       "Name: Jaundice, dtype: int64"
      ]
     },
     "execution_count": 13,
     "metadata": {},
     "output_type": "execute_result"
    }
   ],
   "source": [
    "df.Jaundice.value_counts()"
   ]
  },
  {
   "cell_type": "code",
   "execution_count": 14,
   "metadata": {},
   "outputs": [
    {
     "data": {
      "text/plain": [
       "no     884\n",
       "yes    170\n",
       "Name: Family_mem_with_ASD, dtype: int64"
      ]
     },
     "execution_count": 14,
     "metadata": {},
     "output_type": "execute_result"
    }
   ],
   "source": [
    "df.Family_mem_with_ASD.value_counts()"
   ]
  },
  {
   "cell_type": "code",
   "execution_count": 15,
   "metadata": {},
   "outputs": [
    {
     "data": {
      "text/plain": [
       "Index(['Case_No', 'A1', 'A2', 'A3', 'A4', 'A5', 'A6', 'A7', 'A8', 'A9', 'A10',\n",
       "       'Age_Mons', 'Qchat-10-Score', 'Sex', 'Ethnicity', 'Jaundice',\n",
       "       'Family_mem_with_ASD', 'Who completed the test', 'Class/ASD Traits '],\n",
       "      dtype='object')"
      ]
     },
     "execution_count": 15,
     "metadata": {},
     "output_type": "execute_result"
    }
   ],
   "source": [
    "df.columns"
   ]
  },
  {
   "cell_type": "code",
   "execution_count": 16,
   "metadata": {},
   "outputs": [
    {
     "data": {
      "image/png": "[encoded data removed]",
      "text/plain": [
       "<Figure size 1728x1008 with 9 Axes>"
      ]
     },
     "metadata": {
      "needs_background": "light"
     },
     "output_type": "display_data"
    }
   ],
   "source": [
    "#Subplots of individual features\n",
    "plt.figure(figsize=(24, 14))\n",
    "\n",
    "plt.subplot(331)\n",
    "sns.countplot(df.A1)\n",
    "plt.title('Does your child look at you when you call his/her name?')\n",
    "\n",
    "plt.subplot(332)\n",
    "sns.countplot(df.A2)\n",
    "plt.title('How easy is it for you to get eye contact with your child? ')\n",
    "\n",
    "plt.subplot(333)\n",
    "sns.countplot(df.A3)\n",
    "plt.title('Does your child point to indicate that s/he wants something?')\n",
    "\n",
    "plt.subplot(334)\n",
    "sns.countplot(df.A4)\n",
    "plt.title('Does your child point to share interest with you?')\n",
    "\n",
    "plt.subplot(335)\n",
    "sns.countplot(df.A5)\n",
    "plt.title('Does your child pretend?')\n",
    "\n",
    "plt.subplot(336)\n",
    "sns.countplot(df.A6)\n",
    "plt.title('Does your child follow where you’re looking? ')\n",
    "\n",
    "plt.subplot(337)\n",
    "sns.countplot(df.A7)\n",
    "plt.title('If you or someone else in the family is visibly upset, does your child show signs of wanting to comfort them?')\n",
    "\n",
    "plt.subplot(338)\n",
    "sns.countplot(df.A8)\n",
    "plt.title('Would you describe your child’s first words as:')\n",
    "\n",
    "plt.subplot(339)\n",
    "sns.countplot(df.A9)\n",
    "plt.title('Does your child use simple gestures?')\n",
    "\n",
    "#plt.subplot(3310)\n",
    "#sns.countplot(df.A10)\n",
    "#plt.title('Does your child stare at nothing with no apparent purpose?')\n",
    "\n",
    "plt.tight_layout()\n",
    "plt.show()"
   ]
  },
  {
   "cell_type": "markdown",
   "metadata": {},
   "source": [
    "## Prepare"
   ]
  },
  {
   "cell_type": "markdown",
   "metadata": {},
   "source": [
    "#### Wrangle Function"
   ]
  },
  {
   "cell_type": "code",
   "execution_count": 17,
   "metadata": {},
   "outputs": [],
   "source": [
    "def wrangle_autism():\n",
    "    '''\n",
    "    This function will acquire data locally and turn dataset into\n",
    "    a clean dataframe\n",
    "    '''\n",
    "    df = pd.read_csv('Toddler Autism dataset July 2018.csv')\n",
    "    df.rename(columns={'A1': 'name_response', \n",
    "                       'A2': 'eye_contact', \n",
    "                       'A3': 'pointing', \n",
    "                       'A4': 'shared_interest', \n",
    "                       'A5': 'pretend_play', \n",
    "                       'A6': 'joint_attention', \n",
    "                       'A7': 'emotions',\n",
    "                       'A8': 'vocal',\n",
    "                       'A9': 'gestures',\n",
    "                       'A10': 'blank_gaze',\n",
    "                       'Age_Mons': 'age',\n",
    "                       'Sex': 'sex',\n",
    "                       'Ethnicity': 'ethnicity',\n",
    "                       'Jaundice': 'jaundice',\n",
    "                       'Family_mem_with_ASD': 'family_mem_with_asd',\n",
    "                       'Class/ASD Traits ': 'asd_traits'}, inplace=True)\n",
    "    df.drop(columns = ['Qchat-10-Score', 'Who completed the test'], inplace=True)\n",
    "    df = df.set_index('Case_No')\n",
    "    return df\n",
    "                   "
   ]
  },
  {
   "cell_type": "markdown",
   "metadata": {},
   "source": [
    "#### Rename Columns"
   ]
  },
  {
   "cell_type": "code",
   "execution_count": 18,
   "metadata": {},
   "outputs": [
    {
     "data": {
      "text/plain": [
       "Index(['Case_No', 'A1', 'A2', 'A3', 'A4', 'A5', 'A6', 'A7', 'A8', 'A9', 'A10',\n",
       "       'Age_Mons', 'Qchat-10-Score', 'Sex', 'Ethnicity', 'Jaundice',\n",
       "       'Family_mem_with_ASD', 'Who completed the test', 'Class/ASD Traits '],\n",
       "      dtype='object')"
      ]
     },
     "execution_count": 18,
     "metadata": {},
     "output_type": "execute_result"
    }
   ],
   "source": [
    "df.columns"
   ]
  },
  {
   "cell_type": "code",
   "execution_count": 19,
   "metadata": {},
   "outputs": [],
   "source": [
    "df.rename(columns={'A1': 'name_response', \n",
    "                   'A2': 'eye_contact', \n",
    "                   'A3': 'pointing', \n",
    "                   'A4': 'shared_interest', \n",
    "                   'A5': 'pretend_play', \n",
    "                   'A6': 'joint_attention', \n",
    "                   'A7': 'emotions',\n",
    "                   'A8': 'vocal',\n",
    "                   'A9': 'gestures',\n",
    "                   'A10': 'blank_gaze',\n",
    "                   'Age_Mons': 'age',\n",
    "                   'Sex': 'sex',\n",
    "                   'Ethnicity': 'ethnicity',\n",
    "                   'Jaundice': 'jaundice',\n",
    "                   'Family_mem_with_ASD': 'family_mem_with_asd',\n",
    "                   'Class/ASD Traits ': 'asd_traits'}, inplace=True)\n",
    "                   \n",
    "                   \n",
    "                   "
   ]
  },
  {
   "cell_type": "code",
   "execution_count": 20,
   "metadata": {
    "scrolled": true
   },
   "outputs": [
    {
     "data": {
      "text/html": [
       "<div>\n",
       "<style scoped>\n",
       "    .dataframe tbody tr th:only-of-type {\n",
       "        vertical-align: middle;\n",
       "    }\n",
       "\n",
       "    .dataframe tbody tr th {\n",
       "        vertical-align: top;\n",
       "    }\n",
       "\n",
       "    .dataframe thead th {\n",
       "        text-align: right;\n",
       "    }\n",
       "</style>\n",
       "<table border=\"1\" class=\"dataframe\">\n",
       "  <thead>\n",
       "    <tr style=\"text-align: right;\">\n",
       "      <th></th>\n",
       "      <th>Case_No</th>\n",
       "      <th>name_response</th>\n",
       "      <th>eye_contact</th>\n",
       "      <th>pointing</th>\n",
       "      <th>shared_interest</th>\n",
       "      <th>pretend_play</th>\n",
       "      <th>joint_attention</th>\n",
       "      <th>emotions</th>\n",
       "      <th>vocal</th>\n",
       "      <th>gestures</th>\n",
       "      <th>blank_gaze</th>\n",
       "      <th>age</th>\n",
       "      <th>Qchat-10-Score</th>\n",
       "      <th>sex</th>\n",
       "      <th>ethnicity</th>\n",
       "      <th>jaundice</th>\n",
       "      <th>family_mem_with_asd</th>\n",
       "      <th>Who completed the test</th>\n",
       "      <th>asd_traits</th>\n",
       "    </tr>\n",
       "  </thead>\n",
       "  <tbody>\n",
       "    <tr>\n",
       "      <th>0</th>\n",
       "      <td>1</td>\n",
       "      <td>0</td>\n",
       "      <td>0</td>\n",
       "      <td>0</td>\n",
       "      <td>0</td>\n",
       "      <td>0</td>\n",
       "      <td>0</td>\n",
       "      <td>1</td>\n",
       "      <td>1</td>\n",
       "      <td>0</td>\n",
       "      <td>1</td>\n",
       "      <td>28</td>\n",
       "      <td>3</td>\n",
       "      <td>f</td>\n",
       "      <td>middle eastern</td>\n",
       "      <td>yes</td>\n",
       "      <td>no</td>\n",
       "      <td>family member</td>\n",
       "      <td>No</td>\n",
       "    </tr>\n",
       "    <tr>\n",
       "      <th>1</th>\n",
       "      <td>2</td>\n",
       "      <td>1</td>\n",
       "      <td>1</td>\n",
       "      <td>0</td>\n",
       "      <td>0</td>\n",
       "      <td>0</td>\n",
       "      <td>1</td>\n",
       "      <td>1</td>\n",
       "      <td>0</td>\n",
       "      <td>0</td>\n",
       "      <td>0</td>\n",
       "      <td>36</td>\n",
       "      <td>4</td>\n",
       "      <td>m</td>\n",
       "      <td>White European</td>\n",
       "      <td>yes</td>\n",
       "      <td>no</td>\n",
       "      <td>family member</td>\n",
       "      <td>Yes</td>\n",
       "    </tr>\n",
       "    <tr>\n",
       "      <th>2</th>\n",
       "      <td>3</td>\n",
       "      <td>1</td>\n",
       "      <td>0</td>\n",
       "      <td>0</td>\n",
       "      <td>0</td>\n",
       "      <td>0</td>\n",
       "      <td>0</td>\n",
       "      <td>1</td>\n",
       "      <td>1</td>\n",
       "      <td>0</td>\n",
       "      <td>1</td>\n",
       "      <td>36</td>\n",
       "      <td>4</td>\n",
       "      <td>m</td>\n",
       "      <td>middle eastern</td>\n",
       "      <td>yes</td>\n",
       "      <td>no</td>\n",
       "      <td>family member</td>\n",
       "      <td>Yes</td>\n",
       "    </tr>\n",
       "    <tr>\n",
       "      <th>3</th>\n",
       "      <td>4</td>\n",
       "      <td>1</td>\n",
       "      <td>1</td>\n",
       "      <td>1</td>\n",
       "      <td>1</td>\n",
       "      <td>1</td>\n",
       "      <td>1</td>\n",
       "      <td>1</td>\n",
       "      <td>1</td>\n",
       "      <td>1</td>\n",
       "      <td>1</td>\n",
       "      <td>24</td>\n",
       "      <td>10</td>\n",
       "      <td>m</td>\n",
       "      <td>Hispanic</td>\n",
       "      <td>no</td>\n",
       "      <td>no</td>\n",
       "      <td>family member</td>\n",
       "      <td>Yes</td>\n",
       "    </tr>\n",
       "    <tr>\n",
       "      <th>4</th>\n",
       "      <td>5</td>\n",
       "      <td>1</td>\n",
       "      <td>1</td>\n",
       "      <td>0</td>\n",
       "      <td>1</td>\n",
       "      <td>1</td>\n",
       "      <td>1</td>\n",
       "      <td>1</td>\n",
       "      <td>1</td>\n",
       "      <td>1</td>\n",
       "      <td>1</td>\n",
       "      <td>20</td>\n",
       "      <td>9</td>\n",
       "      <td>f</td>\n",
       "      <td>White European</td>\n",
       "      <td>no</td>\n",
       "      <td>yes</td>\n",
       "      <td>family member</td>\n",
       "      <td>Yes</td>\n",
       "    </tr>\n",
       "  </tbody>\n",
       "</table>\n",
       "</div>"
      ],
      "text/plain": [
       "   Case_No  name_response  eye_contact  pointing  shared_interest  \\\n",
       "0        1              0            0         0                0   \n",
       "1        2              1            1         0                0   \n",
       "2        3              1            0         0                0   \n",
       "3        4              1            1         1                1   \n",
       "4        5              1            1         0                1   \n",
       "\n",
       "   pretend_play  joint_attention  emotions  vocal  gestures  blank_gaze  age  \\\n",
       "0             0                0         1      1         0           1   28   \n",
       "1             0                1         1      0         0           0   36   \n",
       "2             0                0         1      1         0           1   36   \n",
       "3             1                1         1      1         1           1   24   \n",
       "4             1                1         1      1         1           1   20   \n",
       "\n",
       "   Qchat-10-Score sex       ethnicity jaundice family_mem_with_asd  \\\n",
       "0               3   f  middle eastern      yes                  no   \n",
       "1               4   m  White European      yes                  no   \n",
       "2               4   m  middle eastern      yes                  no   \n",
       "3              10   m        Hispanic       no                  no   \n",
       "4               9   f  White European       no                 yes   \n",
       "\n",
       "  Who completed the test asd_traits  \n",
       "0          family member         No  \n",
       "1          family member        Yes  \n",
       "2          family member        Yes  \n",
       "3          family member        Yes  \n",
       "4          family member        Yes  "
      ]
     },
     "execution_count": 20,
     "metadata": {},
     "output_type": "execute_result"
    }
   ],
   "source": [
    "df.head()"
   ]
  },
  {
   "cell_type": "code",
   "execution_count": 21,
   "metadata": {},
   "outputs": [],
   "source": [
    "df.drop(columns = ['Qchat-10-Score', 'Who completed the test'], inplace=True)"
   ]
  },
  {
   "cell_type": "code",
   "execution_count": 22,
   "metadata": {},
   "outputs": [],
   "source": [
    "df = wrangle_autism()"
   ]
  },
  {
   "cell_type": "code",
   "execution_count": 23,
   "metadata": {},
   "outputs": [
    {
     "data": {
      "text/html": [
       "<div>\n",
       "<style scoped>\n",
       "    .dataframe tbody tr th:only-of-type {\n",
       "        vertical-align: middle;\n",
       "    }\n",
       "\n",
       "    .dataframe tbody tr th {\n",
       "        vertical-align: top;\n",
       "    }\n",
       "\n",
       "    .dataframe thead th {\n",
       "        text-align: right;\n",
       "    }\n",
       "</style>\n",
       "<table border=\"1\" class=\"dataframe\">\n",
       "  <thead>\n",
       "    <tr style=\"text-align: right;\">\n",
       "      <th></th>\n",
       "      <th>name_response</th>\n",
       "      <th>eye_contact</th>\n",
       "      <th>pointing</th>\n",
       "      <th>shared_interest</th>\n",
       "      <th>pretend_play</th>\n",
       "      <th>joint_attention</th>\n",
       "      <th>emotions</th>\n",
       "      <th>vocal</th>\n",
       "      <th>gestures</th>\n",
       "      <th>blank_gaze</th>\n",
       "      <th>age</th>\n",
       "      <th>sex</th>\n",
       "      <th>ethnicity</th>\n",
       "      <th>jaundice</th>\n",
       "      <th>family_mem_with_asd</th>\n",
       "      <th>asd_traits</th>\n",
       "    </tr>\n",
       "    <tr>\n",
       "      <th>Case_No</th>\n",
       "      <th></th>\n",
       "      <th></th>\n",
       "      <th></th>\n",
       "      <th></th>\n",
       "      <th></th>\n",
       "      <th></th>\n",
       "      <th></th>\n",
       "      <th></th>\n",
       "      <th></th>\n",
       "      <th></th>\n",
       "      <th></th>\n",
       "      <th></th>\n",
       "      <th></th>\n",
       "      <th></th>\n",
       "      <th></th>\n",
       "      <th></th>\n",
       "    </tr>\n",
       "  </thead>\n",
       "  <tbody>\n",
       "    <tr>\n",
       "      <th>1</th>\n",
       "      <td>0</td>\n",
       "      <td>0</td>\n",
       "      <td>0</td>\n",
       "      <td>0</td>\n",
       "      <td>0</td>\n",
       "      <td>0</td>\n",
       "      <td>1</td>\n",
       "      <td>1</td>\n",
       "      <td>0</td>\n",
       "      <td>1</td>\n",
       "      <td>28</td>\n",
       "      <td>f</td>\n",
       "      <td>middle eastern</td>\n",
       "      <td>yes</td>\n",
       "      <td>no</td>\n",
       "      <td>No</td>\n",
       "    </tr>\n",
       "    <tr>\n",
       "      <th>2</th>\n",
       "      <td>1</td>\n",
       "      <td>1</td>\n",
       "      <td>0</td>\n",
       "      <td>0</td>\n",
       "      <td>0</td>\n",
       "      <td>1</td>\n",
       "      <td>1</td>\n",
       "      <td>0</td>\n",
       "      <td>0</td>\n",
       "      <td>0</td>\n",
       "      <td>36</td>\n",
       "      <td>m</td>\n",
       "      <td>White European</td>\n",
       "      <td>yes</td>\n",
       "      <td>no</td>\n",
       "      <td>Yes</td>\n",
       "    </tr>\n",
       "    <tr>\n",
       "      <th>3</th>\n",
       "      <td>1</td>\n",
       "      <td>0</td>\n",
       "      <td>0</td>\n",
       "      <td>0</td>\n",
       "      <td>0</td>\n",
       "      <td>0</td>\n",
       "      <td>1</td>\n",
       "      <td>1</td>\n",
       "      <td>0</td>\n",
       "      <td>1</td>\n",
       "      <td>36</td>\n",
       "      <td>m</td>\n",
       "      <td>middle eastern</td>\n",
       "      <td>yes</td>\n",
       "      <td>no</td>\n",
       "      <td>Yes</td>\n",
       "    </tr>\n",
       "    <tr>\n",
       "      <th>4</th>\n",
       "      <td>1</td>\n",
       "      <td>1</td>\n",
       "      <td>1</td>\n",
       "      <td>1</td>\n",
       "      <td>1</td>\n",
       "      <td>1</td>\n",
       "      <td>1</td>\n",
       "      <td>1</td>\n",
       "      <td>1</td>\n",
       "      <td>1</td>\n",
       "      <td>24</td>\n",
       "      <td>m</td>\n",
       "      <td>Hispanic</td>\n",
       "      <td>no</td>\n",
       "      <td>no</td>\n",
       "      <td>Yes</td>\n",
       "    </tr>\n",
       "    <tr>\n",
       "      <th>5</th>\n",
       "      <td>1</td>\n",
       "      <td>1</td>\n",
       "      <td>0</td>\n",
       "      <td>1</td>\n",
       "      <td>1</td>\n",
       "      <td>1</td>\n",
       "      <td>1</td>\n",
       "      <td>1</td>\n",
       "      <td>1</td>\n",
       "      <td>1</td>\n",
       "      <td>20</td>\n",
       "      <td>f</td>\n",
       "      <td>White European</td>\n",
       "      <td>no</td>\n",
       "      <td>yes</td>\n",
       "      <td>Yes</td>\n",
       "    </tr>\n",
       "  </tbody>\n",
       "</table>\n",
       "</div>"
      ],
      "text/plain": [
       "         name_response  eye_contact  pointing  shared_interest  pretend_play  \\\n",
       "Case_No                                                                        \n",
       "1                    0            0         0                0             0   \n",
       "2                    1            1         0                0             0   \n",
       "3                    1            0         0                0             0   \n",
       "4                    1            1         1                1             1   \n",
       "5                    1            1         0                1             1   \n",
       "\n",
       "         joint_attention  emotions  vocal  gestures  blank_gaze  age sex  \\\n",
       "Case_No                                                                    \n",
       "1                      0         1      1         0           1   28   f   \n",
       "2                      1         1      0         0           0   36   m   \n",
       "3                      0         1      1         0           1   36   m   \n",
       "4                      1         1      1         1           1   24   m   \n",
       "5                      1         1      1         1           1   20   f   \n",
       "\n",
       "              ethnicity jaundice family_mem_with_asd asd_traits  \n",
       "Case_No                                                          \n",
       "1        middle eastern      yes                  no         No  \n",
       "2        White European      yes                  no        Yes  \n",
       "3        middle eastern      yes                  no        Yes  \n",
       "4              Hispanic       no                  no        Yes  \n",
       "5        White European       no                 yes        Yes  "
      ]
     },
     "execution_count": 23,
     "metadata": {},
     "output_type": "execute_result"
    }
   ],
   "source": [
    "df.head()"
   ]
  },
  {
   "cell_type": "code",
   "execution_count": 24,
   "metadata": {},
   "outputs": [],
   "source": [
    "dummies = pd.get_dummies(df[['sex']], drop_first=True)\n",
    "df = pd.concat([df, dummies], axis=1)                        \n"
   ]
  },
  {
   "cell_type": "code",
   "execution_count": 25,
   "metadata": {},
   "outputs": [],
   "source": [
    "#function to change columns from yes/no to o/1\n",
    "def binary(df):\n",
    "    binary_columns = ['jaundice','family_mem_with_asd', 'family_mem_with_asd']\n",
    "    for feature in binary_columns:\n",
    "        df[feature].replace(to_replace='yes', value=1, inplace=True)\n",
    "        df[feature].replace(to_replace='no', value=0, inplace=True)"
   ]
  },
  {
   "cell_type": "code",
   "execution_count": 26,
   "metadata": {},
   "outputs": [],
   "source": [
    "binary(df)"
   ]
  },
  {
   "cell_type": "code",
   "execution_count": 28,
   "metadata": {},
   "outputs": [],
   "source": [
    "#df.drop(columns = ['sex', 'is_male'], inplace=True)"
   ]
  },
  {
   "cell_type": "code",
   "execution_count": 29,
   "metadata": {},
   "outputs": [
    {
     "data": {
      "text/html": [
       "<div>\n",
       "<style scoped>\n",
       "    .dataframe tbody tr th:only-of-type {\n",
       "        vertical-align: middle;\n",
       "    }\n",
       "\n",
       "    .dataframe tbody tr th {\n",
       "        vertical-align: top;\n",
       "    }\n",
       "\n",
       "    .dataframe thead th {\n",
       "        text-align: right;\n",
       "    }\n",
       "</style>\n",
       "<table border=\"1\" class=\"dataframe\">\n",
       "  <thead>\n",
       "    <tr style=\"text-align: right;\">\n",
       "      <th></th>\n",
       "      <th>name_response</th>\n",
       "      <th>eye_contact</th>\n",
       "      <th>pointing</th>\n",
       "      <th>shared_interest</th>\n",
       "      <th>pretend_play</th>\n",
       "      <th>joint_attention</th>\n",
       "      <th>emotions</th>\n",
       "      <th>vocal</th>\n",
       "      <th>gestures</th>\n",
       "      <th>blank_gaze</th>\n",
       "      <th>age</th>\n",
       "      <th>sex</th>\n",
       "      <th>ethnicity</th>\n",
       "      <th>jaundice</th>\n",
       "      <th>family_mem_with_asd</th>\n",
       "      <th>asd_traits</th>\n",
       "      <th>sex_m</th>\n",
       "    </tr>\n",
       "    <tr>\n",
       "      <th>Case_No</th>\n",
       "      <th></th>\n",
       "      <th></th>\n",
       "      <th></th>\n",
       "      <th></th>\n",
       "      <th></th>\n",
       "      <th></th>\n",
       "      <th></th>\n",
       "      <th></th>\n",
       "      <th></th>\n",
       "      <th></th>\n",
       "      <th></th>\n",
       "      <th></th>\n",
       "      <th></th>\n",
       "      <th></th>\n",
       "      <th></th>\n",
       "      <th></th>\n",
       "      <th></th>\n",
       "    </tr>\n",
       "  </thead>\n",
       "  <tbody>\n",
       "    <tr>\n",
       "      <th>1</th>\n",
       "      <td>0</td>\n",
       "      <td>0</td>\n",
       "      <td>0</td>\n",
       "      <td>0</td>\n",
       "      <td>0</td>\n",
       "      <td>0</td>\n",
       "      <td>1</td>\n",
       "      <td>1</td>\n",
       "      <td>0</td>\n",
       "      <td>1</td>\n",
       "      <td>28</td>\n",
       "      <td>f</td>\n",
       "      <td>middle eastern</td>\n",
       "      <td>1</td>\n",
       "      <td>0</td>\n",
       "      <td>No</td>\n",
       "      <td>0</td>\n",
       "    </tr>\n",
       "    <tr>\n",
       "      <th>2</th>\n",
       "      <td>1</td>\n",
       "      <td>1</td>\n",
       "      <td>0</td>\n",
       "      <td>0</td>\n",
       "      <td>0</td>\n",
       "      <td>1</td>\n",
       "      <td>1</td>\n",
       "      <td>0</td>\n",
       "      <td>0</td>\n",
       "      <td>0</td>\n",
       "      <td>36</td>\n",
       "      <td>m</td>\n",
       "      <td>White European</td>\n",
       "      <td>1</td>\n",
       "      <td>0</td>\n",
       "      <td>Yes</td>\n",
       "      <td>1</td>\n",
       "    </tr>\n",
       "    <tr>\n",
       "      <th>3</th>\n",
       "      <td>1</td>\n",
       "      <td>0</td>\n",
       "      <td>0</td>\n",
       "      <td>0</td>\n",
       "      <td>0</td>\n",
       "      <td>0</td>\n",
       "      <td>1</td>\n",
       "      <td>1</td>\n",
       "      <td>0</td>\n",
       "      <td>1</td>\n",
       "      <td>36</td>\n",
       "      <td>m</td>\n",
       "      <td>middle eastern</td>\n",
       "      <td>1</td>\n",
       "      <td>0</td>\n",
       "      <td>Yes</td>\n",
       "      <td>1</td>\n",
       "    </tr>\n",
       "    <tr>\n",
       "      <th>4</th>\n",
       "      <td>1</td>\n",
       "      <td>1</td>\n",
       "      <td>1</td>\n",
       "      <td>1</td>\n",
       "      <td>1</td>\n",
       "      <td>1</td>\n",
       "      <td>1</td>\n",
       "      <td>1</td>\n",
       "      <td>1</td>\n",
       "      <td>1</td>\n",
       "      <td>24</td>\n",
       "      <td>m</td>\n",
       "      <td>Hispanic</td>\n",
       "      <td>0</td>\n",
       "      <td>0</td>\n",
       "      <td>Yes</td>\n",
       "      <td>1</td>\n",
       "    </tr>\n",
       "    <tr>\n",
       "      <th>5</th>\n",
       "      <td>1</td>\n",
       "      <td>1</td>\n",
       "      <td>0</td>\n",
       "      <td>1</td>\n",
       "      <td>1</td>\n",
       "      <td>1</td>\n",
       "      <td>1</td>\n",
       "      <td>1</td>\n",
       "      <td>1</td>\n",
       "      <td>1</td>\n",
       "      <td>20</td>\n",
       "      <td>f</td>\n",
       "      <td>White European</td>\n",
       "      <td>0</td>\n",
       "      <td>1</td>\n",
       "      <td>Yes</td>\n",
       "      <td>0</td>\n",
       "    </tr>\n",
       "  </tbody>\n",
       "</table>\n",
       "</div>"
      ],
      "text/plain": [
       "         name_response  eye_contact  pointing  shared_interest  pretend_play  \\\n",
       "Case_No                                                                        \n",
       "1                    0            0         0                0             0   \n",
       "2                    1            1         0                0             0   \n",
       "3                    1            0         0                0             0   \n",
       "4                    1            1         1                1             1   \n",
       "5                    1            1         0                1             1   \n",
       "\n",
       "         joint_attention  emotions  vocal  gestures  blank_gaze  age sex  \\\n",
       "Case_No                                                                    \n",
       "1                      0         1      1         0           1   28   f   \n",
       "2                      1         1      0         0           0   36   m   \n",
       "3                      0         1      1         0           1   36   m   \n",
       "4                      1         1      1         1           1   24   m   \n",
       "5                      1         1      1         1           1   20   f   \n",
       "\n",
       "              ethnicity  jaundice  family_mem_with_asd asd_traits  sex_m  \n",
       "Case_No                                                                   \n",
       "1        middle eastern         1                    0         No      0  \n",
       "2        White European         1                    0        Yes      1  \n",
       "3        middle eastern         1                    0        Yes      1  \n",
       "4              Hispanic         0                    0        Yes      1  \n",
       "5        White European         0                    1        Yes      0  "
      ]
     },
     "execution_count": 29,
     "metadata": {},
     "output_type": "execute_result"
    }
   ],
   "source": [
    "df.head()"
   ]
  },
  {
   "cell_type": "code",
   "execution_count": 30,
   "metadata": {},
   "outputs": [
    {
     "data": {
      "text/plain": [
       "White European    334\n",
       "asian             299\n",
       "middle eastern    188\n",
       "south asian        60\n",
       "black              53\n",
       "Hispanic           40\n",
       "Others             35\n",
       "Latino             26\n",
       "Pacifica            8\n",
       "mixed               8\n",
       "Native Indian       3\n",
       "Name: ethnicity, dtype: int64"
      ]
     },
     "execution_count": 30,
     "metadata": {},
     "output_type": "execute_result"
    }
   ],
   "source": [
    "df.ethnicity.value_counts()"
   ]
  },
  {
   "cell_type": "code",
   "execution_count": 31,
   "metadata": {},
   "outputs": [],
   "source": [
    "df['asd_traits'] = df[['asd_traits']].replace({'No': 0, 'Yes': 1})"
   ]
  },
  {
   "cell_type": "code",
   "execution_count": 32,
   "metadata": {},
   "outputs": [],
   "source": [
    "df['ethnicity'] = df[['ethnicity']].replace({'White European': 1,\n",
    "                                             'asian': 2, \n",
    "                                             'middle eastern': 3, \n",
    "                                             'south asian': 2, \n",
    "                                             'black': 4, \n",
    "                                             'Hispanic': 5, \n",
    "                                             'Others': 6, \n",
    "                                             'Latino': 5, \n",
    "                                             'mixed': 6,\n",
    "                                             'Pacifica': 6,\n",
    "                                             'Native Indian': 6})"
   ]
  },
  {
   "cell_type": "code",
   "execution_count": 33,
   "metadata": {},
   "outputs": [
    {
     "data": {
      "text/plain": [
       "2    359\n",
       "1    334\n",
       "3    188\n",
       "5     66\n",
       "6     54\n",
       "4     53\n",
       "Name: ethnicity, dtype: int64"
      ]
     },
     "execution_count": 33,
     "metadata": {},
     "output_type": "execute_result"
    }
   ],
   "source": [
    "df.ethnicity.value_counts()"
   ]
  },
  {
   "cell_type": "code",
   "execution_count": 34,
   "metadata": {},
   "outputs": [
    {
     "name": "stdout",
     "output_type": "stream",
     "text": [
      "<class 'pandas.core.frame.DataFrame'>\n",
      "Int64Index: 1054 entries, 1 to 1054\n",
      "Data columns (total 17 columns):\n",
      " #   Column               Non-Null Count  Dtype \n",
      "---  ------               --------------  ----- \n",
      " 0   name_response        1054 non-null   int64 \n",
      " 1   eye_contact          1054 non-null   int64 \n",
      " 2   pointing             1054 non-null   int64 \n",
      " 3   shared_interest      1054 non-null   int64 \n",
      " 4   pretend_play         1054 non-null   int64 \n",
      " 5   joint_attention      1054 non-null   int64 \n",
      " 6   emotions             1054 non-null   int64 \n",
      " 7   vocal                1054 non-null   int64 \n",
      " 8   gestures             1054 non-null   int64 \n",
      " 9   blank_gaze           1054 non-null   int64 \n",
      " 10  age                  1054 non-null   int64 \n",
      " 11  sex                  1054 non-null   object\n",
      " 12  ethnicity            1054 non-null   int64 \n",
      " 13  jaundice             1054 non-null   int64 \n",
      " 14  family_mem_with_asd  1054 non-null   int64 \n",
      " 15  asd_traits           1054 non-null   int64 \n",
      " 16  sex_m                1054 non-null   uint8 \n",
      "dtypes: int64(15), object(1), uint8(1)\n",
      "memory usage: 141.0+ KB\n"
     ]
    }
   ],
   "source": [
    "df.info()"
   ]
  },
  {
   "cell_type": "code",
   "execution_count": 35,
   "metadata": {},
   "outputs": [],
   "source": [
    "#split with \n",
    "def train_validate_test_split(df, target, seed):\n",
    "    '''\n",
    "    spilts our data  into train, validate, test\n",
    "    by taking in a dataframe and dividing into\n",
    "    separate\n",
    "    '''\n",
    "    # Train, Validate, and test\n",
    "    train_and_validate, test = train_test_split(\n",
    "        df, test_size=0.2, random_state=seed)\n",
    "    train, validate = train_test_split(\n",
    "        train_and_validate,\n",
    "        test_size=0.3,\n",
    "        random_state=seed)\n",
    "    \n",
    "    # Split with X and y\n",
    "    X_train = train.drop(columns=[target])\n",
    "    y_train = train[target]\n",
    "    \n",
    "    X_validate = validate.drop(columns=[target])\n",
    "    y_validate = validate[target]\n",
    "    \n",
    "    X_test = test.drop(columns=[target])\n",
    "    y_test = test[target]\n",
    "    \n",
    "    return train, validate, test, X_train, y_train, X_validate, y_validate, X_test, y_test   "
   ]
  },
  {
   "cell_type": "code",
   "execution_count": 36,
   "metadata": {},
   "outputs": [],
   "source": [
    "train, validate, test, X_train, y_train, X_validate, y_validate, X_test, y_test = train_validate_test_split(df, 'asd_traits', 123)"
   ]
  },
  {
   "cell_type": "code",
   "execution_count": 37,
   "metadata": {},
   "outputs": [
    {
     "name": "stdout",
     "output_type": "stream",
     "text": [
      "(590, 17)\n",
      "(253, 17)\n",
      "(211, 17)\n"
     ]
    }
   ],
   "source": [
    "print(train.shape)\n",
    "print(validate.shape)\n",
    "print(test.shape)"
   ]
  },
  {
   "cell_type": "markdown",
   "metadata": {},
   "source": [
    "## Explore"
   ]
  },
  {
   "cell_type": "code",
   "execution_count": 38,
   "metadata": {},
   "outputs": [
    {
     "data": {
      "text/plain": [
       "Index(['name_response', 'eye_contact', 'pointing', 'shared_interest',\n",
       "       'pretend_play', 'joint_attention', 'emotions', 'vocal', 'gestures',\n",
       "       'blank_gaze', 'age', 'sex', 'ethnicity', 'jaundice',\n",
       "       'family_mem_with_asd', 'asd_traits', 'sex_m'],\n",
       "      dtype='object')"
      ]
     },
     "execution_count": 38,
     "metadata": {},
     "output_type": "execute_result"
    }
   ],
   "source": [
    "train.columns"
   ]
  },
  {
   "cell_type": "code",
   "execution_count": 39,
   "metadata": {},
   "outputs": [
    {
     "data": {
      "text/plain": [
       "Index(['name_response', 'eye_contact', 'pointing', 'shared_interest',\n",
       "       'pretend_play', 'joint_attention', 'emotions', 'vocal', 'gestures',\n",
       "       'blank_gaze', 'age', 'sex', 'ethnicity', 'jaundice',\n",
       "       'family_mem_with_asd', 'sex_m'],\n",
       "      dtype='object')"
      ]
     },
     "execution_count": 39,
     "metadata": {},
     "output_type": "execute_result"
    }
   ],
   "source": [
    "X_train.columns"
   ]
  },
  {
   "cell_type": "code",
   "execution_count": 40,
   "metadata": {},
   "outputs": [],
   "source": [
    "import explore"
   ]
  },
  {
   "cell_type": "code",
   "execution_count": 41,
   "metadata": {},
   "outputs": [
    {
     "data": {
      "image/png": "[encoded data removed]",
      "text/plain": [
       "<Figure size 144x144 with 1 Axes>"
      ]
     },
     "metadata": {
      "needs_background": "light"
     },
     "output_type": "display_data"
    },
    {
     "name": "stdout",
     "output_type": "stream",
     "text": [
      "   name_response  Count  Percent\n",
      "1              0    594    56.36\n",
      "0              1    460    43.64\n",
      "_________________________________________________________________\n"
     ]
    },
    {
     "data": {
      "image/png": "[encoded data removed]",
      "text/plain": [
       "<Figure size 144x144 with 1 Axes>"
      ]
     },
     "metadata": {
      "needs_background": "light"
     },
     "output_type": "display_data"
    },
    {
     "name": "stdout",
     "output_type": "stream",
     "text": [
      "   eye_contact  Count  Percent\n",
      "0            0    581    55.12\n",
      "1            1    473    44.88\n",
      "_________________________________________________________________\n"
     ]
    },
    {
     "data": {
      "image/png": "[encoded data removed]",
      "text/plain": [
       "<Figure size 144x144 with 1 Axes>"
      ]
     },
     "metadata": {
      "needs_background": "light"
     },
     "output_type": "display_data"
    },
    {
     "name": "stdout",
     "output_type": "stream",
     "text": [
      "   pointing  Count  Percent\n",
      "0         0    631    59.87\n",
      "1         1    423    40.13\n",
      "_________________________________________________________________\n"
     ]
    },
    {
     "data": {
      "image/png": "[encoded data removed]",
      "text/plain": [
       "<Figure size 144x144 with 1 Axes>"
      ]
     },
     "metadata": {
      "needs_background": "light"
     },
     "output_type": "display_data"
    },
    {
     "name": "stdout",
     "output_type": "stream",
     "text": [
      "   shared_interest  Count  Percent\n",
      "1                0    540    51.23\n",
      "0                1    514    48.77\n",
      "_________________________________________________________________\n"
     ]
    },
    {
     "data": {
      "image/png": "[encoded data removed]",
      "text/plain": [
       "<Figure size 144x144 with 1 Axes>"
      ]
     },
     "metadata": {
      "needs_background": "light"
     },
     "output_type": "display_data"
    },
    {
     "name": "stdout",
     "output_type": "stream",
     "text": [
      "   pretend_play  Count  Percent\n",
      "1             0    553    52.47\n",
      "0             1    501    47.53\n",
      "_________________________________________________________________\n"
     ]
    },
    {
     "data": {
      "image/png": "[encoded data removed]",
      "text/plain": [
       "<Figure size 144x144 with 1 Axes>"
      ]
     },
     "metadata": {
      "needs_background": "light"
     },
     "output_type": "display_data"
    },
    {
     "name": "stdout",
     "output_type": "stream",
     "text": [
      "   joint_attention  Count  Percent\n",
      "1                0    608    57.69\n",
      "0                1    446    42.31\n",
      "_________________________________________________________________\n"
     ]
    },
    {
     "data": {
      "image/png": "[encoded data removed]",
      "text/plain": [
       "<Figure size 144x144 with 1 Axes>"
      ]
     },
     "metadata": {
      "needs_background": "light"
     },
     "output_type": "display_data"
    },
    {
     "name": "stdout",
     "output_type": "stream",
     "text": [
      "   emotions  Count  Percent\n",
      "1         1    685    64.99\n",
      "0         0    369    35.01\n",
      "_________________________________________________________________\n"
     ]
    },
    {
     "data": {
      "image/png": "[encoded data removed]",
      "text/plain": [
       "<Figure size 144x144 with 1 Axes>"
      ]
     },
     "metadata": {
      "needs_background": "light"
     },
     "output_type": "display_data"
    },
    {
     "name": "stdout",
     "output_type": "stream",
     "text": [
      "   vocal  Count  Percent\n",
      "0      1    570    54.08\n",
      "1      0    484    45.92\n",
      "_________________________________________________________________\n"
     ]
    },
    {
     "data": {
      "image/png": "[encoded data removed]",
      "text/plain": [
       "<Figure size 144x144 with 1 Axes>"
      ]
     },
     "metadata": {
      "needs_background": "light"
     },
     "output_type": "display_data"
    },
    {
     "name": "stdout",
     "output_type": "stream",
     "text": [
      "   gestures  Count  Percent\n",
      "0         0    538    51.04\n",
      "1         1    516    48.96\n",
      "_________________________________________________________________\n"
     ]
    },
    {
     "data": {
      "image/png": "[encoded data removed]",
      "text/plain": [
       "<Figure size 144x144 with 1 Axes>"
      ]
     },
     "metadata": {
      "needs_background": "light"
     },
     "output_type": "display_data"
    },
    {
     "name": "stdout",
     "output_type": "stream",
     "text": [
      "   blank_gaze  Count  Percent\n",
      "1           1    618    58.63\n",
      "0           0    436    41.37\n",
      "_________________________________________________________________\n"
     ]
    },
    {
     "data": {
      "image/png": "[encoded data removed]",
      "text/plain": [
       "<Figure size 144x144 with 1 Axes>"
      ]
     },
     "metadata": {
      "needs_background": "light"
     },
     "output_type": "display_data"
    },
    {
     "name": "stdout",
     "output_type": "stream",
     "text": [
      "   ethnicity  Count  Percent\n",
      "2          3    359    34.06\n",
      "1          1    334    31.69\n",
      "3          5    188    17.84\n",
      "5          4     66     6.26\n",
      "6          2     54     5.12\n",
      "4          6     53     5.03\n",
      "_________________________________________________________________\n"
     ]
    },
    {
     "data": {
      "image/png": "[encoded data removed]",
      "text/plain": [
       "<Figure size 144x144 with 1 Axes>"
      ]
     },
     "metadata": {
      "needs_background": "light"
     },
     "output_type": "display_data"
    },
    {
     "name": "stdout",
     "output_type": "stream",
     "text": [
      "   jaundice  Count  Percent\n",
      "0         1    766    72.68\n",
      "1         0    288    27.32\n",
      "_________________________________________________________________\n"
     ]
    },
    {
     "data": {
      "image/png": "[encoded data removed]",
      "text/plain": [
       "<Figure size 144x144 with 1 Axes>"
      ]
     },
     "metadata": {
      "needs_background": "light"
     },
     "output_type": "display_data"
    },
    {
     "name": "stdout",
     "output_type": "stream",
     "text": [
      "   family_mem_with_asd  Count  Percent\n",
      "0                    0    884    83.87\n",
      "1                    1    170    16.13\n",
      "_________________________________________________________________\n"
     ]
    },
    {
     "data": {
      "image/png": "[encoded data removed]",
      "text/plain": [
       "<Figure size 144x144 with 1 Axes>"
      ]
     },
     "metadata": {
      "needs_background": "light"
     },
     "output_type": "display_data"
    },
    {
     "name": "stdout",
     "output_type": "stream",
     "text": [
      "   asd_traits  Count  Percent\n",
      "1           0    728    69.07\n",
      "0           1    326    30.93\n",
      "_________________________________________________________________\n"
     ]
    },
    {
     "data": {
      "image/png": "[encoded data removed]",
      "text/plain": [
       "<Figure size 144x144 with 1 Axes>"
      ]
     },
     "metadata": {
      "needs_background": "light"
     },
     "output_type": "display_data"
    },
    {
     "name": "stdout",
     "output_type": "stream",
     "text": [
      "   sex_m  Count  Percent\n",
      "1      0    735    69.73\n",
      "0      1    319    30.27\n",
      "_________________________________________________________________\n"
     ]
    },
    {
     "data": {
      "image/png": "[encoded data removed]",
      "text/plain": [
       "<Figure size 576x144 with 2 Axes>"
      ]
     },
     "metadata": {
      "needs_background": "light"
     },
     "output_type": "display_data"
    },
    {
     "name": "stdout",
     "output_type": "stream",
     "text": [
      "count    1054.000000\n",
      "mean       27.867173\n",
      "std         7.980354\n",
      "min        12.000000\n",
      "25%        23.000000\n",
      "50%        30.000000\n",
      "75%        36.000000\n",
      "max        36.000000\n",
      "Name: age, dtype: float64\n"
     ]
    }
   ],
   "source": [
    "explore.explore_univariate(df, explore.cat_vars, explore.quant_vars)"
   ]
  },
  {
   "cell_type": "markdown",
   "metadata": {},
   "source": [
    "<div class=\"alert alert-block alert-success\">\n",
    "<b>Univariate Takeaways :</b> \n",
    "<br>- 56% of toddlers in this dataset respond to name when called\n",
    "<br>- 55% of toddlers in this dataset make eye contact \n",
    "<br>- 60% of toddlers in this dataset point to what they want  \n",
    "<br>- 51% of toddlers in this dataset show shared_interest\n",
    "<br>- 52% of toddlers in this dataset engage in pretend play \n",
    "<br>- 58% of toddlers in this dataset show joint attention\n",
    "<br>- 65% of toddlers in this dataset social emotion recognition\n",
    "<br>- 54% of toddlers in this dataset are not vocal\n",
    "<br>- 51% of toddlers in this dataset can communicate using gestures\n",
    "<br>- 59% of toddlers in this dataset engage in blank gazing\n",
    "<br>- The majority (34%) of toddlers in this data set are middle eastern\n",
    "<br>- 73% of toddlers in this dataset had jaundice as a baby\n",
    "<br>- 84% of toddlers in this dataset do not have a family member with asd\n",
    "<br>- Age is mostly normally distributed, with a spike at the 35 month age    \n",
    "</div> "
   ]
  },
  {
   "cell_type": "code",
   "execution_count": 42,
   "metadata": {},
   "outputs": [
    {
     "name": "stdout",
     "output_type": "stream",
     "text": [
      "name_response \n",
      "_____________________\n",
      "\n",
      "         chi2       p-value  degrees of freedom\n",
      "0  142.434654  7.813447e-33                   1\n",
      "\n",
      "observed:\n",
      " asd_traits       0    1  All\n",
      "name_response               \n",
      "0              133  115  248\n",
      "1               30  312  342\n",
      "All            163  427  590\n",
      "\n",
      "expected:\n",
      "            0           1\n",
      "0  68.515254  179.484746\n",
      "1  94.484746  247.515254\n"
     ]
    },
    {
     "data": {
      "image/png": "[encoded data removed]",
      "text/plain": [
       "<Figure size 144x144 with 1 Axes>"
      ]
     },
     "metadata": {
      "needs_background": "light"
     },
     "output_type": "display_data"
    },
    {
     "name": "stdout",
     "output_type": "stream",
     "text": [
      "\n",
      "_____________________\n",
      "\n",
      "eye_contact \n",
      "_____________________\n",
      "\n",
      "         chi2       p-value  degrees of freedom\n",
      "0  105.480515  9.583564e-25                   1\n",
      "\n",
      "observed:\n",
      " asd_traits     0    1  All\n",
      "eye_contact               \n",
      "0            145  177  322\n",
      "1             18  250  268\n",
      "All          163  427  590\n",
      "\n",
      "expected:\n",
      "            0           1\n",
      "0  88.959322  233.040678\n",
      "1  74.040678  193.959322\n"
     ]
    },
    {
     "data": {
      "image/png": "[encoded data removed]",
      "text/plain": [
       "<Figure size 144x144 with 1 Axes>"
      ]
     },
     "metadata": {
      "needs_background": "light"
     },
     "output_type": "display_data"
    },
    {
     "name": "stdout",
     "output_type": "stream",
     "text": [
      "\n",
      "_____________________\n",
      "\n",
      "pointing \n",
      "_____________________\n",
      "\n",
      "         chi2       p-value  degrees of freedom\n",
      "0  101.506912  7.121450e-24                   1\n",
      "\n",
      "observed:\n",
      " asd_traits    0    1  All\n",
      "pointing                 \n",
      "0           149  193  342\n",
      "1            14  234  248\n",
      "All         163  427  590\n",
      "\n",
      "expected:\n",
      "            0           1\n",
      "0  94.484746  247.515254\n",
      "1  68.515254  179.484746\n"
     ]
    },
    {
     "data": {
      "image/png": "[encoded data removed]",
      "text/plain": [
       "<Figure size 144x144 with 1 Axes>"
      ]
     },
     "metadata": {
      "needs_background": "light"
     },
     "output_type": "display_data"
    },
    {
     "name": "stdout",
     "output_type": "stream",
     "text": [
      "\n",
      "_____________________\n",
      "\n",
      "shared_interest \n",
      "_____________________\n",
      "\n",
      "         chi2       p-value  degrees of freedom\n",
      "0  142.579053  7.265572e-33                   1\n",
      "\n",
      "observed:\n",
      " asd_traits         0    1  All\n",
      "shared_interest               \n",
      "0                140  131  271\n",
      "1                 23  296  319\n",
      "All              163  427  590\n",
      "\n",
      "expected:\n",
      "            0           1\n",
      "0  74.869492  196.130508\n",
      "1  88.130508  230.869492\n"
     ]
    },
    {
     "data": {
      "image/png": "[encoded data removed]",
      "text/plain": [
       "<Figure size 144x144 with 1 Axes>"
      ]
     },
     "metadata": {
      "needs_background": "light"
     },
     "output_type": "display_data"
    },
    {
     "name": "stdout",
     "output_type": "stream",
     "text": [
      "\n",
      "_____________________\n",
      "\n",
      "pretend_play \n",
      "_____________________\n",
      "\n",
      "         chi2       p-value  degrees of freedom\n",
      "0  181.535951  2.239070e-41                   1\n",
      "\n",
      "observed:\n",
      " asd_traits      0    1  All\n",
      "pretend_play               \n",
      "0             148  122  270\n",
      "1              15  305  320\n",
      "All           163  427  590\n",
      "\n",
      "expected:\n",
      "           0          1\n",
      "0  74.59322  195.40678\n",
      "1  88.40678  231.59322\n"
     ]
    },
    {
     "data": {
      "image/png": "[encoded data removed]",
      "text/plain": [
       "<Figure size 144x144 with 1 Axes>"
      ]
     },
     "metadata": {
      "needs_background": "light"
     },
     "output_type": "display_data"
    },
    {
     "name": "stdout",
     "output_type": "stream",
     "text": [
      "\n",
      "_____________________\n",
      "\n",
      "joint_attention \n",
      "_____________________\n",
      "\n",
      "         chi2       p-value  degrees of freedom\n",
      "0  189.772483  3.564456e-43                   1\n",
      "\n",
      "observed:\n",
      " asd_traits         0    1  All\n",
      "joint_attention               \n",
      "0                139   97  236\n",
      "1                 24  330  354\n",
      "All              163  427  590\n",
      "\n",
      "expected:\n",
      "       0      1\n",
      "0  65.2  170.8\n",
      "1  97.8  256.2\n"
     ]
    },
    {
     "data": {
      "image/png": "[encoded data removed]",
      "text/plain": [
       "<Figure size 144x144 with 1 Axes>"
      ]
     },
     "metadata": {
      "needs_background": "light"
     },
     "output_type": "display_data"
    },
    {
     "name": "stdout",
     "output_type": "stream",
     "text": [
      "\n",
      "_____________________\n",
      "\n",
      "emotions \n",
      "_____________________\n",
      "\n",
      "        chi2       p-value  degrees of freedom\n",
      "0  160.89785  7.202484e-37                   1\n",
      "\n",
      "observed:\n",
      " asd_traits    0    1  All\n",
      "emotions                 \n",
      "0           117   72  189\n",
      "1            46  355  401\n",
      "All         163  427  590\n",
      "\n",
      "expected:\n",
      "             0           1\n",
      "0   52.215254  136.784746\n",
      "1  110.784746  290.215254\n"
     ]
    },
    {
     "data": {
      "image/png": "[encoded data removed]",
      "text/plain": [
       "<Figure size 144x144 with 1 Axes>"
      ]
     },
     "metadata": {
      "needs_background": "light"
     },
     "output_type": "display_data"
    },
    {
     "name": "stdout",
     "output_type": "stream",
     "text": [
      "\n",
      "_____________________\n",
      "\n",
      "vocal \n",
      "_____________________\n",
      "\n",
      "        chi2       p-value  degrees of freedom\n",
      "0  91.922545  9.013627e-22                   1\n",
      "\n",
      "observed:\n",
      " asd_traits    0    1  All\n",
      "vocal                    \n",
      "0           140  177  317\n",
      "1            23  250  273\n",
      "All         163  427  590\n",
      "\n",
      "expected:\n",
      "            0           1\n",
      "0  87.577966  229.422034\n",
      "1  75.422034  197.577966\n"
     ]
    },
    {
     "data": {
      "image/png": "[encoded data removed]",
      "text/plain": [
       "<Figure size 144x144 with 1 Axes>"
      ]
     },
     "metadata": {
      "needs_background": "light"
     },
     "output_type": "display_data"
    },
    {
     "name": "stdout",
     "output_type": "stream",
     "text": [
      "\n",
      "_____________________\n",
      "\n",
      "gestures \n",
      "_____________________\n",
      "\n",
      "         chi2       p-value  degrees of freedom\n",
      "0  200.165715  1.921627e-45                   1\n",
      "\n",
      "observed:\n",
      " asd_traits    0    1  All\n",
      "gestures                 \n",
      "0           158  134  292\n",
      "1             5  293  298\n",
      "All         163  427  590\n",
      "\n",
      "expected:\n",
      "            0           1\n",
      "0  80.671186  211.328814\n",
      "1  82.328814  215.671186\n"
     ]
    },
    {
     "data": {
      "image/png": "[encoded data removed]",
      "text/plain": [
       "<Figure size 144x144 with 1 Axes>"
      ]
     },
     "metadata": {
      "needs_background": "light"
     },
     "output_type": "display_data"
    },
    {
     "name": "stdout",
     "output_type": "stream",
     "text": [
      "\n",
      "_____________________\n",
      "\n",
      "blank_gaze \n",
      "_____________________\n",
      "\n",
      "        chi2   p-value  degrees of freedom\n",
      "0  19.317897  0.000011                   1\n",
      "\n",
      "observed:\n",
      " asd_traits    0    1  All\n",
      "blank_gaze               \n",
      "0            92  154  246\n",
      "1            71  273  344\n",
      "All         163  427  590\n",
      "\n",
      "expected:\n",
      "            0           1\n",
      "0  67.962712  178.037288\n",
      "1  95.037288  248.962712\n"
     ]
    },
    {
     "data": {
      "image/png": "[encoded data removed]",
      "text/plain": [
       "<Figure size 144x144 with 1 Axes>"
      ]
     },
     "metadata": {
      "needs_background": "light"
     },
     "output_type": "display_data"
    },
    {
     "name": "stdout",
     "output_type": "stream",
     "text": [
      "\n",
      "_____________________\n",
      "\n",
      "ethnicity \n",
      "_____________________\n",
      "\n",
      "        chi2   p-value  degrees of freedom\n",
      "0  32.920763  0.000004                   5\n",
      "\n",
      "observed:\n",
      " asd_traits    0    1  All\n",
      "ethnicity                \n",
      "1            41  149  190\n",
      "2            55  163  218\n",
      "3            51   53  104\n",
      "4             5   20   25\n",
      "5             8   17   25\n",
      "6             3   25   28\n",
      "All         163  427  590\n",
      "\n",
      "expected:\n",
      "            0           1\n",
      "0  52.491525  137.508475\n",
      "1  60.227119  157.772881\n",
      "2  28.732203   75.267797\n",
      "3   6.906780   18.093220\n",
      "4   6.906780   18.093220\n",
      "5   7.735593   20.264407\n"
     ]
    },
    {
     "data": {
      "image/png": "[encoded data removed]",
      "text/plain": [
       "<Figure size 144x144 with 1 Axes>"
      ]
     },
     "metadata": {
      "needs_background": "light"
     },
     "output_type": "display_data"
    },
    {
     "name": "stdout",
     "output_type": "stream",
     "text": [
      "\n",
      "_____________________\n",
      "\n",
      "jaundice \n",
      "_____________________\n",
      "\n",
      "      chi2   p-value  degrees of freedom\n",
      "0  4.86779  0.027363                   1\n",
      "\n",
      "observed:\n",
      " asd_traits    0    1  All\n",
      "jaundice                 \n",
      "0           133  309  442\n",
      "1            30  118  148\n",
      "All         163  427  590\n",
      "\n",
      "expected:\n",
      "             0           1\n",
      "0  122.111864  319.888136\n",
      "1   40.888136  107.111864\n"
     ]
    },
    {
     "data": {
      "image/png": "[encoded data removed]",
      "text/plain": [
       "<Figure size 144x144 with 1 Axes>"
      ]
     },
     "metadata": {
      "needs_background": "light"
     },
     "output_type": "display_data"
    },
    {
     "name": "stdout",
     "output_type": "stream",
     "text": [
      "\n",
      "_____________________\n",
      "\n",
      "family_mem_with_asd \n",
      "_____________________\n",
      "\n",
      "       chi2   p-value  degrees of freedom\n",
      "0  1.945139  0.163112                   1\n",
      "\n",
      "observed:\n",
      " asd_traits             0    1  All\n",
      "family_mem_with_asd               \n",
      "0                    134  372  506\n",
      "1                     29   55   84\n",
      "All                  163  427  590\n",
      "\n",
      "expected:\n",
      "            0          1\n",
      "0  139.79322  366.20678\n",
      "1   23.20678   60.79322\n"
     ]
    },
    {
     "data": {
      "image/png": "[encoded data removed]",
      "text/plain": [
       "<Figure size 144x144 with 1 Axes>"
      ]
     },
     "metadata": {
      "needs_background": "light"
     },
     "output_type": "display_data"
    },
    {
     "name": "stdout",
     "output_type": "stream",
     "text": [
      "\n",
      "_____________________\n",
      "\n",
      "asd_traits \n",
      "_____________________\n",
      "\n",
      "         chi2        p-value  degrees of freedom\n",
      "0  585.009234  3.051254e-129                   1\n",
      "\n",
      "observed:\n",
      " asd_traits    0    1  All\n",
      "asd_traits               \n",
      "0           163    0  163\n",
      "1             0  427  427\n",
      "All         163  427  590\n",
      "\n",
      "expected:\n",
      "             0           1\n",
      "0   45.032203  117.967797\n",
      "1  117.967797  309.032203\n"
     ]
    },
    {
     "data": {
      "image/png": "[encoded data removed]",
      "text/plain": [
       "<Figure size 144x144 with 1 Axes>"
      ]
     },
     "metadata": {
      "needs_background": "light"
     },
     "output_type": "display_data"
    },
    {
     "name": "stdout",
     "output_type": "stream",
     "text": [
      "\n",
      "_____________________\n",
      "\n",
      "sex_m \n",
      "_____________________\n",
      "\n",
      "        chi2   p-value  degrees of freedom\n",
      "0  12.383221  0.000433                   1\n",
      "\n",
      "observed:\n",
      " asd_traits    0    1  All\n",
      "sex_m                    \n",
      "0            66  108  174\n",
      "1            97  319  416\n",
      "All         163  427  590\n",
      "\n",
      "expected:\n",
      "             0           1\n",
      "0   48.071186  125.928814\n",
      "1  114.928814  301.071186\n"
     ]
    },
    {
     "data": {
      "image/png": "[encoded data removed]",
      "text/plain": [
       "<Figure size 144x144 with 1 Axes>"
      ]
     },
     "metadata": {
      "needs_background": "light"
     },
     "output_type": "display_data"
    },
    {
     "name": "stdout",
     "output_type": "stream",
     "text": [
      "\n",
      "_____________________\n",
      "\n",
      "age \n",
      "____________________\n",
      "\n"
     ]
    },
    {
     "data": {
      "image/png": "[encoded data removed]",
      "text/plain": [
       "<Figure size 288x288 with 1 Axes>"
      ]
     },
     "metadata": {
      "needs_background": "light"
     },
     "output_type": "display_data"
    },
    {
     "name": "stdout",
     "output_type": "stream",
     "text": [
      "            count       mean       std   min   25%   50%   75%   max\n",
      "asd_traits                                                          \n",
      "0           163.0  27.319018  9.011451  12.0  19.0  30.0  36.0  36.0\n",
      "1           427.0  28.533958  7.309756  12.0  24.0  30.0  36.0  36.0 \n",
      "\n",
      "\n",
      "Mann-Whitney Test:\n",
      " MannwhitneyuResult(statistic=33604.0, pvalue=0.5115652355934631)\n",
      "\n",
      "____________________\n",
      "\n"
     ]
    }
   ],
   "source": [
    "explore.explore_bivariate(train, 'asd_traits', explore.cat_vars, explore.quant_vars)"
   ]
  },
  {
   "cell_type": "code",
   "execution_count": null,
   "metadata": {},
   "outputs": [],
   "source": []
  },
  {
   "cell_type": "code",
   "execution_count": null,
   "metadata": {},
   "outputs": [],
   "source": []
  }
 ],
 "metadata": {
  "kernelspec": {
   "display_name": "Python 3",
   "language": "python",
   "name": "python3"
  },
  "language_info": {
   "codemirror_mode": {
    "name": "ipython",
    "version": 3
   },
   "file_extension": ".py",
   "mimetype": "text/x-python",
   "name": "python",
   "nbconvert_exporter": "python",
   "pygments_lexer": "ipython3",
   "version": "3.8.5"
  }
 },
 "nbformat": 4,
 "nbformat_minor": 4
}
